{
 "cells": [
  {
   "cell_type": "code",
   "execution_count": 1,
   "metadata": {},
   "outputs": [
    {
     "data": {
      "text/plain": [
       "'c:\\\\Users\\\\arunk\\\\FraudDetection'"
      ]
     },
     "execution_count": 1,
     "metadata": {},
     "output_type": "execute_result"
    }
   ],
   "source": [
    "import os\n",
    "os.chdir(\"../\")\n",
    "os.getcwd()"
   ]
  },
  {
   "cell_type": "code",
   "execution_count": 2,
   "metadata": {},
   "outputs": [
    {
     "name": "stdout",
     "output_type": "stream",
     "text": [
      "====>>>File already exists\n",
      "Do you want to download data again? Options (Yes/No): \n",
      "You selected: No\n"
     ]
    },
    {
     "data": {
      "text/html": [
       "<style>#sk-container-id-1 {color: black;background-color: white;}#sk-container-id-1 pre{padding: 0;}#sk-container-id-1 div.sk-toggleable {background-color: white;}#sk-container-id-1 label.sk-toggleable__label {cursor: pointer;display: block;width: 100%;margin-bottom: 0;padding: 0.3em;box-sizing: border-box;text-align: center;}#sk-container-id-1 label.sk-toggleable__label-arrow:before {content: \"▸\";float: left;margin-right: 0.25em;color: #696969;}#sk-container-id-1 label.sk-toggleable__label-arrow:hover:before {color: black;}#sk-container-id-1 div.sk-estimator:hover label.sk-toggleable__label-arrow:before {color: black;}#sk-container-id-1 div.sk-toggleable__content {max-height: 0;max-width: 0;overflow: hidden;text-align: left;background-color: #f0f8ff;}#sk-container-id-1 div.sk-toggleable__content pre {margin: 0.2em;color: black;border-radius: 0.25em;background-color: #f0f8ff;}#sk-container-id-1 input.sk-toggleable__control:checked~div.sk-toggleable__content {max-height: 200px;max-width: 100%;overflow: auto;}#sk-container-id-1 input.sk-toggleable__control:checked~label.sk-toggleable__label-arrow:before {content: \"▾\";}#sk-container-id-1 div.sk-estimator input.sk-toggleable__control:checked~label.sk-toggleable__label {background-color: #d4ebff;}#sk-container-id-1 div.sk-label input.sk-toggleable__control:checked~label.sk-toggleable__label {background-color: #d4ebff;}#sk-container-id-1 input.sk-hidden--visually {border: 0;clip: rect(1px 1px 1px 1px);clip: rect(1px, 1px, 1px, 1px);height: 1px;margin: -1px;overflow: hidden;padding: 0;position: absolute;width: 1px;}#sk-container-id-1 div.sk-estimator {font-family: monospace;background-color: #f0f8ff;border: 1px dotted black;border-radius: 0.25em;box-sizing: border-box;margin-bottom: 0.5em;}#sk-container-id-1 div.sk-estimator:hover {background-color: #d4ebff;}#sk-container-id-1 div.sk-parallel-item::after {content: \"\";width: 100%;border-bottom: 1px solid gray;flex-grow: 1;}#sk-container-id-1 div.sk-label:hover label.sk-toggleable__label {background-color: #d4ebff;}#sk-container-id-1 div.sk-serial::before {content: \"\";position: absolute;border-left: 1px solid gray;box-sizing: border-box;top: 0;bottom: 0;left: 50%;z-index: 0;}#sk-container-id-1 div.sk-serial {display: flex;flex-direction: column;align-items: center;background-color: white;padding-right: 0.2em;padding-left: 0.2em;position: relative;}#sk-container-id-1 div.sk-item {position: relative;z-index: 1;}#sk-container-id-1 div.sk-parallel {display: flex;align-items: stretch;justify-content: center;background-color: white;position: relative;}#sk-container-id-1 div.sk-item::before, #sk-container-id-1 div.sk-parallel-item::before {content: \"\";position: absolute;border-left: 1px solid gray;box-sizing: border-box;top: 0;bottom: 0;left: 50%;z-index: -1;}#sk-container-id-1 div.sk-parallel-item {display: flex;flex-direction: column;z-index: 1;position: relative;background-color: white;}#sk-container-id-1 div.sk-parallel-item:first-child::after {align-self: flex-end;width: 50%;}#sk-container-id-1 div.sk-parallel-item:last-child::after {align-self: flex-start;width: 50%;}#sk-container-id-1 div.sk-parallel-item:only-child::after {width: 0;}#sk-container-id-1 div.sk-dashed-wrapped {border: 1px dashed gray;margin: 0 0.4em 0.5em 0.4em;box-sizing: border-box;padding-bottom: 0.4em;background-color: white;}#sk-container-id-1 div.sk-label label {font-family: monospace;font-weight: bold;display: inline-block;line-height: 1.2em;}#sk-container-id-1 div.sk-label-container {text-align: center;}#sk-container-id-1 div.sk-container {/* jupyter's `normalize.less` sets `[hidden] { display: none; }` but bootstrap.min.css set `[hidden] { display: none !important; }` so we also need the `!important` here to be able to override the default hidden behavior on the sphinx rendered scikit-learn.org. See: https://github.com/scikit-learn/scikit-learn/issues/21755 */display: inline-block !important;position: relative;}#sk-container-id-1 div.sk-text-repr-fallback {display: none;}</style><div id=\"sk-container-id-1\" class=\"sk-top-container\"><div class=\"sk-text-repr-fallback\"><pre>Pipeline(steps=[(&#x27;transformer&#x27;,\n",
       "                 ColumnTransformer(remainder=&#x27;passthrough&#x27;,\n",
       "                                   transformers=[(&#x27;cat&#x27;,\n",
       "                                                  Pipeline(steps=[(&#x27;onehot&#x27;,\n",
       "                                                                   OneHotEncoder(handle_unknown=&#x27;ignore&#x27;)),\n",
       "                                                                  (&#x27;selector&#x27;,\n",
       "                                                                   SelectPercentile(percentile=50,\n",
       "                                                                                    score_func=&lt;function chi2 at 0x000001B79473C940&gt;))]),\n",
       "                                                  &lt;sklearn.compose._column_transformer.make_column_selector object at 0x000001B79475DA80&gt;),\n",
       "                                                 (&#x27;num&#x27;,\n",
       "                                                  Pipeline(steps=[(&#x27;scaler&#x27;,\n",
       "                                                                   RobustScaler())]),\n",
       "                                                  &lt;sklearn.compose._column_transformer.make_column_selector object at 0x000001B79475F310&gt;)])),\n",
       "                (&#x27;FeatureExtractor&#x27;,\n",
       "                 Pipeline(steps=[(&#x27;feature_selection&#x27;,\n",
       "                                  SelectFromModel(estimator=ExtraTreesClassifier(max_features=&#x27;log2&#x27;,\n",
       "                                                                                 n_estimators=50),\n",
       "                                                  threshold=0.01))]))])</pre><b>In a Jupyter environment, please rerun this cell to show the HTML representation or trust the notebook. <br />On GitHub, the HTML representation is unable to render, please try loading this page with nbviewer.org.</b></div><div class=\"sk-container\" hidden><div class=\"sk-item sk-dashed-wrapped\"><div class=\"sk-label-container\"><div class=\"sk-label sk-toggleable\"><input class=\"sk-toggleable__control sk-hidden--visually\" id=\"sk-estimator-id-1\" type=\"checkbox\" ><label for=\"sk-estimator-id-1\" class=\"sk-toggleable__label sk-toggleable__label-arrow\">Pipeline</label><div class=\"sk-toggleable__content\"><pre>Pipeline(steps=[(&#x27;transformer&#x27;,\n",
       "                 ColumnTransformer(remainder=&#x27;passthrough&#x27;,\n",
       "                                   transformers=[(&#x27;cat&#x27;,\n",
       "                                                  Pipeline(steps=[(&#x27;onehot&#x27;,\n",
       "                                                                   OneHotEncoder(handle_unknown=&#x27;ignore&#x27;)),\n",
       "                                                                  (&#x27;selector&#x27;,\n",
       "                                                                   SelectPercentile(percentile=50,\n",
       "                                                                                    score_func=&lt;function chi2 at 0x000001B79473C940&gt;))]),\n",
       "                                                  &lt;sklearn.compose._column_transformer.make_column_selector object at 0x000001B79475DA80&gt;),\n",
       "                                                 (&#x27;num&#x27;,\n",
       "                                                  Pipeline(steps=[(&#x27;scaler&#x27;,\n",
       "                                                                   RobustScaler())]),\n",
       "                                                  &lt;sklearn.compose._column_transformer.make_column_selector object at 0x000001B79475F310&gt;)])),\n",
       "                (&#x27;FeatureExtractor&#x27;,\n",
       "                 Pipeline(steps=[(&#x27;feature_selection&#x27;,\n",
       "                                  SelectFromModel(estimator=ExtraTreesClassifier(max_features=&#x27;log2&#x27;,\n",
       "                                                                                 n_estimators=50),\n",
       "                                                  threshold=0.01))]))])</pre></div></div></div><div class=\"sk-serial\"><div class=\"sk-item sk-dashed-wrapped\"><div class=\"sk-label-container\"><div class=\"sk-label sk-toggleable\"><input class=\"sk-toggleable__control sk-hidden--visually\" id=\"sk-estimator-id-2\" type=\"checkbox\" ><label for=\"sk-estimator-id-2\" class=\"sk-toggleable__label sk-toggleable__label-arrow\">transformer: ColumnTransformer</label><div class=\"sk-toggleable__content\"><pre>ColumnTransformer(remainder=&#x27;passthrough&#x27;,\n",
       "                  transformers=[(&#x27;cat&#x27;,\n",
       "                                 Pipeline(steps=[(&#x27;onehot&#x27;,\n",
       "                                                  OneHotEncoder(handle_unknown=&#x27;ignore&#x27;)),\n",
       "                                                 (&#x27;selector&#x27;,\n",
       "                                                  SelectPercentile(percentile=50,\n",
       "                                                                   score_func=&lt;function chi2 at 0x000001B79473C940&gt;))]),\n",
       "                                 &lt;sklearn.compose._column_transformer.make_column_selector object at 0x000001B79475DA80&gt;),\n",
       "                                (&#x27;num&#x27;,\n",
       "                                 Pipeline(steps=[(&#x27;scaler&#x27;, RobustScaler())]),\n",
       "                                 &lt;sklearn.compose._column_transformer.make_column_selector object at 0x000001B79475F310&gt;)])</pre></div></div></div><div class=\"sk-parallel\"><div class=\"sk-parallel-item\"><div class=\"sk-item\"><div class=\"sk-label-container\"><div class=\"sk-label sk-toggleable\"><input class=\"sk-toggleable__control sk-hidden--visually\" id=\"sk-estimator-id-3\" type=\"checkbox\" ><label for=\"sk-estimator-id-3\" class=\"sk-toggleable__label sk-toggleable__label-arrow\">cat</label><div class=\"sk-toggleable__content\"><pre>&lt;sklearn.compose._column_transformer.make_column_selector object at 0x000001B79475DA80&gt;</pre></div></div></div><div class=\"sk-serial\"><div class=\"sk-item\"><div class=\"sk-serial\"><div class=\"sk-item\"><div class=\"sk-estimator sk-toggleable\"><input class=\"sk-toggleable__control sk-hidden--visually\" id=\"sk-estimator-id-4\" type=\"checkbox\" ><label for=\"sk-estimator-id-4\" class=\"sk-toggleable__label sk-toggleable__label-arrow\">OneHotEncoder</label><div class=\"sk-toggleable__content\"><pre>OneHotEncoder(handle_unknown=&#x27;ignore&#x27;)</pre></div></div></div><div class=\"sk-item\"><div class=\"sk-estimator sk-toggleable\"><input class=\"sk-toggleable__control sk-hidden--visually\" id=\"sk-estimator-id-5\" type=\"checkbox\" ><label for=\"sk-estimator-id-5\" class=\"sk-toggleable__label sk-toggleable__label-arrow\">SelectPercentile</label><div class=\"sk-toggleable__content\"><pre>SelectPercentile(percentile=50,\n",
       "                 score_func=&lt;function chi2 at 0x000001B79473C940&gt;)</pre></div></div></div></div></div></div></div></div><div class=\"sk-parallel-item\"><div class=\"sk-item\"><div class=\"sk-label-container\"><div class=\"sk-label sk-toggleable\"><input class=\"sk-toggleable__control sk-hidden--visually\" id=\"sk-estimator-id-6\" type=\"checkbox\" ><label for=\"sk-estimator-id-6\" class=\"sk-toggleable__label sk-toggleable__label-arrow\">num</label><div class=\"sk-toggleable__content\"><pre>&lt;sklearn.compose._column_transformer.make_column_selector object at 0x000001B79475F310&gt;</pre></div></div></div><div class=\"sk-serial\"><div class=\"sk-item\"><div class=\"sk-serial\"><div class=\"sk-item\"><div class=\"sk-estimator sk-toggleable\"><input class=\"sk-toggleable__control sk-hidden--visually\" id=\"sk-estimator-id-7\" type=\"checkbox\" ><label for=\"sk-estimator-id-7\" class=\"sk-toggleable__label sk-toggleable__label-arrow\">RobustScaler</label><div class=\"sk-toggleable__content\"><pre>RobustScaler()</pre></div></div></div></div></div></div></div></div><div class=\"sk-parallel-item\"><div class=\"sk-item\"><div class=\"sk-label-container\"><div class=\"sk-label sk-toggleable\"><input class=\"sk-toggleable__control sk-hidden--visually\" id=\"sk-estimator-id-8\" type=\"checkbox\" ><label for=\"sk-estimator-id-8\" class=\"sk-toggleable__label sk-toggleable__label-arrow\">remainder</label><div class=\"sk-toggleable__content\"><pre></pre></div></div></div><div class=\"sk-serial\"><div class=\"sk-item\"><div class=\"sk-estimator sk-toggleable\"><input class=\"sk-toggleable__control sk-hidden--visually\" id=\"sk-estimator-id-9\" type=\"checkbox\" ><label for=\"sk-estimator-id-9\" class=\"sk-toggleable__label sk-toggleable__label-arrow\">passthrough</label><div class=\"sk-toggleable__content\"><pre>passthrough</pre></div></div></div></div></div></div></div></div><div class=\"sk-item\"><div class=\"sk-label-container\"><div class=\"sk-label sk-toggleable\"><input class=\"sk-toggleable__control sk-hidden--visually\" id=\"sk-estimator-id-10\" type=\"checkbox\" ><label for=\"sk-estimator-id-10\" class=\"sk-toggleable__label sk-toggleable__label-arrow\">FeatureExtractor: Pipeline</label><div class=\"sk-toggleable__content\"><pre>Pipeline(steps=[(&#x27;feature_selection&#x27;,\n",
       "                 SelectFromModel(estimator=ExtraTreesClassifier(max_features=&#x27;log2&#x27;,\n",
       "                                                                n_estimators=50),\n",
       "                                 threshold=0.01))])</pre></div></div></div><div class=\"sk-serial\"><div class=\"sk-item sk-dashed-wrapped\"><div class=\"sk-label-container\"><div class=\"sk-label sk-toggleable\"><input class=\"sk-toggleable__control sk-hidden--visually\" id=\"sk-estimator-id-11\" type=\"checkbox\" ><label for=\"sk-estimator-id-11\" class=\"sk-toggleable__label sk-toggleable__label-arrow\">feature_selection: SelectFromModel</label><div class=\"sk-toggleable__content\"><pre>SelectFromModel(estimator=ExtraTreesClassifier(max_features=&#x27;log2&#x27;,\n",
       "                                               n_estimators=50),\n",
       "                threshold=0.01)</pre></div></div></div><div class=\"sk-parallel\"><div class=\"sk-parallel-item\"><div class=\"sk-item\"><div class=\"sk-label-container\"><div class=\"sk-label sk-toggleable\"><input class=\"sk-toggleable__control sk-hidden--visually\" id=\"sk-estimator-id-12\" type=\"checkbox\" ><label for=\"sk-estimator-id-12\" class=\"sk-toggleable__label sk-toggleable__label-arrow\">estimator: ExtraTreesClassifier</label><div class=\"sk-toggleable__content\"><pre>ExtraTreesClassifier(max_features=&#x27;log2&#x27;, n_estimators=50)</pre></div></div></div><div class=\"sk-serial\"><div class=\"sk-item\"><div class=\"sk-estimator sk-toggleable\"><input class=\"sk-toggleable__control sk-hidden--visually\" id=\"sk-estimator-id-13\" type=\"checkbox\" ><label for=\"sk-estimator-id-13\" class=\"sk-toggleable__label sk-toggleable__label-arrow\">ExtraTreesClassifier</label><div class=\"sk-toggleable__content\"><pre>ExtraTreesClassifier(max_features=&#x27;log2&#x27;, n_estimators=50)</pre></div></div></div></div></div></div></div></div></div></div></div></div></div></div>"
      ],
      "text/plain": [
       "Pipeline(steps=[('transformer',\n",
       "                 ColumnTransformer(remainder='passthrough',\n",
       "                                   transformers=[('cat',\n",
       "                                                  Pipeline(steps=[('onehot',\n",
       "                                                                   OneHotEncoder(handle_unknown='ignore')),\n",
       "                                                                  ('selector',\n",
       "                                                                   SelectPercentile(percentile=50,\n",
       "                                                                                    score_func=<function chi2 at 0x000001B79473C940>))]),\n",
       "                                                  <sklearn.compose._column_transformer.make_column_selector object at 0x000001B79475DA80>),\n",
       "                                                 ('num',\n",
       "                                                  Pipeline(steps=[('scaler',\n",
       "                                                                   RobustScaler())]),\n",
       "                                                  <sklearn.compose._column_transformer.make_column_selector object at 0x000001B79475F310>)])),\n",
       "                ('FeatureExtractor',\n",
       "                 Pipeline(steps=[('feature_selection',\n",
       "                                  SelectFromModel(estimator=ExtraTreesClassifier(max_features='log2',\n",
       "                                                                                 n_estimators=50),\n",
       "                                                  threshold=0.01))]))])"
      ]
     },
     "metadata": {},
     "output_type": "display_data"
    }
   ],
   "source": [
    "import sys\n",
    "\n",
    "from fraudDetection.components import DataIngestion, DataValidation, DataTransformation, ModelTrainer, ModelEvaluation, \\\n",
    "    ModelPusher\n",
    "from fraudDetection.config.configuration import ConfigurationManager\n",
    "from fraudDetection.constants import CONFIG_FILE_PATH\n",
    "from fraudDetection.exception import FraudDetectionException\n",
    "from fraudDetection.logger import logging\n",
    "\n",
    "config = ConfigurationManager(CONFIG_FILE_PATH)\n",
    "data_ingestion_config = config.get_data_ingestion_config()\n",
    "data_ingestion_artifacts = DataIngestion(data_ingestion_config).initiate_data_ingestion()\n",
    "data_validation_config = config.get_data_validation_config()\n",
    "data_validation_artifacts = DataValidation(data_ingestion_artifacts,\n",
    "                                           data_validation_config).initiate_data_validation()\n",
    "data_transformation_config = config.get_data_transformation_config()\n",
    "data_transformation_artifacts = DataTransformation(data_validation_artifacts, data_ingestion_artifacts,\n",
    "                                                           data_transformation_config).initiate_data_transformation()"
   ]
  },
  {
   "cell_type": "code",
   "execution_count": 3,
   "metadata": {},
   "outputs": [],
   "source": [
    "model_trainer_config = config.get_model_trainer_config()\n",
    "\n",
    "model_trainer = ModelTrainer(model_trainer_config=model_trainer_config, data_transformation_artifact=data_transformation_artifacts)"
   ]
  },
  {
   "cell_type": "code",
   "execution_count": 4,
   "metadata": {},
   "outputs": [],
   "source": [
    "from fraudDetection.utils import load_numpy_array_data, save_object\n",
    "from fraudDetection.entity import MetricInfoArtifact, ModelFactory\n",
    "from fraudDetection.entity import evaluate_classification_model\n",
    "\n",
    "import sys\n",
    "from pathlib import Path\n",
    "from fraudDetection.exception import FraudDetectionException\n",
    "from fraudDetection.logger import logging"
   ]
  },
  {
   "cell_type": "code",
   "execution_count": 5,
   "metadata": {},
   "outputs": [],
   "source": [
    "\n",
    "transformed_train_file_path = Path(data_transformation_artifacts.transformed_train_file_path)\n",
    "train_array = load_numpy_array_data(transformed_train_file_path)\n",
    "\n",
    "transformed_test_file_path = Path(data_transformation_artifacts.transformed_test_file_path)\n",
    "test_array = load_numpy_array_data(transformed_test_file_path)\n",
    "\n",
    "X_train, y_train, X_test, y_test = train_array[:, :-1], train_array[:, -1], test_array[:, :-1], test_array[:, -1]\n",
    "\n",
    "model_config_file_path = model_trainer_config.model_config_file_path\n",
    "\n",
    "model_factory = ModelFactory(model_config_path=model_config_file_path)\n",
    "base_score = model_trainer_config.base_score\n",
    "threshold =model_trainer_config.threshold_diff_train_test_acc\n",
    "\n"
   ]
  },
  {
   "cell_type": "code",
   "execution_count": 6,
   "metadata": {},
   "outputs": [
    {
     "name": "stdout",
     "output_type": "stream",
     "text": [
      "Fitting 10 folds for each of 1 candidates, totalling 10 fits\n",
      "Fitting 10 folds for each of 1 candidates, totalling 10 fits\n",
      "Fitting 10 folds for each of 1 candidates, totalling 10 fits\n"
     ]
    },
    {
     "data": {
      "text/plain": [
       "GridSearchedBestModel(model_serial_number='module_0', model=LogisticRegression(class_weight='balanced', max_iter=1000), best_model=LogisticRegression(class_weight='balanced', max_iter=1000), best_parameters={'penalty': 'l2'}, best_score=0.9017267986874256)"
      ]
     },
     "execution_count": 6,
     "metadata": {},
     "output_type": "execute_result"
    }
   ],
   "source": [
    "best_model = model_factory.get_best_model(X=X_train, y=y_train, base_score=base_score)\n",
    "best_model"
   ]
  },
  {
   "cell_type": "code",
   "execution_count": 7,
   "metadata": {},
   "outputs": [],
   "source": [
    "grid_searched_best_model_list = model_factory.grid_search_best_model_list"
   ]
  },
  {
   "cell_type": "code",
   "execution_count": 8,
   "metadata": {},
   "outputs": [
    {
     "data": {
      "text/plain": [
       "[GridSearchedBestModel(model_serial_number='module_0', model=LogisticRegression(class_weight='balanced', max_iter=1000), best_model=LogisticRegression(class_weight='balanced', max_iter=1000), best_parameters={'penalty': 'l2'}, best_score=0.9017267986874256),\n",
       " GridSearchedBestModel(model_serial_number='module_1', model=RandomForestClassifier(min_samples_leaf=3), best_model=RandomForestClassifier(class_weight='balanced_subsample', min_samples_leaf=3), best_parameters={'class_weight': 'balanced_subsample'}, best_score=0.9950191025270068),\n",
       " GridSearchedBestModel(model_serial_number='module_2', model=LinearSVC(class_weight={70: None, '0:1': None}, dual=False, random_state=42), best_model=LinearSVC(class_weight='balanced', dual=False, random_state=42), best_parameters={'class_weight': 'balanced'}, best_score=0.9009416865150637)]"
      ]
     },
     "execution_count": 8,
     "metadata": {},
     "output_type": "execute_result"
    }
   ],
   "source": [
    "grid_searched_best_model_list"
   ]
  },
  {
   "cell_type": "code",
   "execution_count": 9,
   "metadata": {},
   "outputs": [
    {
     "data": {
      "text/plain": [
       "[LogisticRegression(class_weight='balanced', max_iter=1000),\n",
       " RandomForestClassifier(class_weight='balanced_subsample', min_samples_leaf=3),\n",
       " LinearSVC(class_weight='balanced', dual=False, random_state=42)]"
      ]
     },
     "execution_count": 9,
     "metadata": {},
     "output_type": "execute_result"
    }
   ],
   "source": [
    "model_list = [model.best_model for model in grid_searched_best_model_list]\n",
    "model_list"
   ]
  },
  {
   "cell_type": "code",
   "execution_count": 10,
   "metadata": {},
   "outputs": [
    {
     "data": {
      "text/plain": [
       "[LogisticRegression(class_weight='balanced', max_iter=1000),\n",
       " RandomForestClassifier(class_weight='balanced_subsample', min_samples_leaf=3),\n",
       " LinearSVC(class_weight='balanced', dual=False, random_state=42)]"
      ]
     },
     "execution_count": 10,
     "metadata": {},
     "output_type": "execute_result"
    }
   ],
   "source": [
    "model_list[0].__class__.__name__\n",
    "model_list"
   ]
  },
  {
   "cell_type": "code",
   "execution_count": 25,
   "metadata": {},
   "outputs": [
    {
     "name": "stdout",
     "output_type": "stream",
     "text": [
      "Starting evaluating model:LogisticRegression<<<<<<<<<<<<<<<<<<<<<<<<<<<<<<<<<<<<<<<< \n",
      "Starting evaluating model:RandomForestClassifier<<<<<<<<<<<<<<<<<<<<<<<<<<<<<<<<<<<<<<<< \n"
     ]
    },
    {
     "name": "stderr",
     "output_type": "stream",
     "text": [
      "Registered model 'RandomForestClassifier(class_weight='balanced_subsample', min_samples_leaf=3)' already exists. Creating a new version of this model...\n",
      "2023/05/19 16:15:28 INFO mlflow.tracking._model_registry.client: Waiting up to 300 seconds for model version to finish creation. Model name: RandomForestClassifier(class_weight='balanced_subsample', min_samples_leaf=3), version 10\n",
      "Created version '10' of model 'RandomForestClassifier(class_weight='balanced_subsample', min_samples_leaf=3)'.\n"
     ]
    },
    {
     "name": "stdout",
     "output_type": "stream",
     "text": [
      "                             run_id experiment_id   status   \n",
      "0  bc56be73d2d242ee847acb53891605ba             0  RUNNING  \\\n",
      "\n",
      "                                        artifact_uri   \n",
      "0  file:///c:/Users/arunk/FraudDetection/mlruns/0...  \\\n",
      "\n",
      "                        start_time end_time  metrics.test_recall_score   \n",
      "0 2023-05-19 09:49:10.928000+00:00     None                        1.0  \\\n",
      "\n",
      "   metrics.test_precision_score  metrics.train_f-beta_score   \n",
      "0                      0.002346                    0.910794  \\\n",
      "\n",
      "   metrics.train_roc_auc_score  ...  metrics.train_f1_score   \n",
      "0                     0.929116  ...                0.901369  \\\n",
      "\n",
      "   metrics.test_f-beta_score  metrics.test_roc_auc_score  params.threshold   \n",
      "0                   0.011619                    0.934937               0.1  \\\n",
      "\n",
      "    params.base_score  tags.mlflow.user   \n",
      "0  0.9993508276946894         arunkhare  \\\n",
      "\n",
      "                             tags.mlflow.source.name  tags.mlflow.source.type   \n",
      "0  c:\\Users\\arunk\\anaconda3\\envs\\FraudDetection\\l...                    LOCAL  \\\n",
      "\n",
      "                       tags.mlflow.log-model.history tags.mlflow.runName  \n",
      "0  [{\"run_id\": \"bc56be73d2d242ee847acb53891605ba\"...    casual-skink-999  \n",
      "\n",
      "[1 rows x 26 columns]\n",
      "Starting evaluating model:LinearSVC<<<<<<<<<<<<<<<<<<<<<<<<<<<<<<<<<<<<<<<< \n"
     ]
    }
   ],
   "source": [
    "import numpy as np \n",
    "import mlflow\n",
    "from mlflow.entities import ViewType\n",
    "from sklearn.metrics import f1_score, fbeta_score, roc_auc_score, precision_recall_curve, recall_score, \\\n",
    "    classification_report, precision_score, accuracy_score, make_scorer, auc\n",
    "\n",
    "index_number = 0\n",
    "base_score = 0.6\n",
    "threshold=.1\n",
    "initial_base_score = 0\n",
    "metric_info_artifact = None\n",
    "for model in model_list:\n",
    "    model_name = str(model)\n",
    "    print(f\"Starting evaluating model:{type(model).__name__}{'<<' * 20} \")\n",
    "    # getting prediction for training and testing dataset\n",
    "    y_train_pred = model.predict(X_train)\n",
    "    y_test_pred = model.predict(X_test)\n",
    "    # calculating f1 score on training and testing dataset\n",
    "    index_number += 1\n",
    "    train_f1_score = f1_score(y_train, y_train_pred)\n",
    "    test_f1_score = f1_score(y_test, y_test_pred)\n",
    "    # calculating f-beta-score on training and testing dataset\n",
    "    train_fbeta_score = fbeta_score(y_train, y_train_pred, beta=2)\n",
    "    test_fbeta_score = fbeta_score(y_test, y_test_pred, beta=2)\n",
    "    # calculating f-betas-core on training and testing dataset\n",
    "    train_roc_auc_score = roc_auc_score(y_train, y_train_pred)\n",
    "    test_roc_auc_score = roc_auc_score(y_test, y_test_pred)\n",
    "    # calculating precision  score for training and testing dataset\n",
    "    train_precision_score = precision_score(y_train, y_train_pred)\n",
    "    test_precision_score = precision_score(y_test, y_test_pred)\n",
    "    # calculating recall score on training and testing dataset\n",
    "    train_recall_score = recall_score(y_train, y_train_pred)\n",
    "    test_recall_score = recall_score(y_test, y_test_pred)\n",
    "    # getting classification report on training and testing dataset\n",
    "    train_classification_report = classification_report(y_train, y_train_pred)\n",
    "    test_classification_report = classification_report(y_test, y_test_pred)\n",
    "    train_precision_recall_curve = precision_recall_curve(y_train, y_train_pred)\n",
    "    test_precision_recall_curve = precision_recall_curve(y_test, y_test_pred)\n",
    "    # Accuracy Score on train and test dataset \n",
    "    train_accuracy_score = accuracy_score(y_train, y_train_pred)\n",
    "    test_accuracy_score = accuracy_score(y_test, y_test_pred)\n",
    "\n",
    "    # calculating harmonic mean of train and test accuracy_score\n",
    "    model_accuracy = (2 * train_accuracy_score * test_accuracy_score) / (\n",
    "            train_accuracy_score + test_accuracy_score)\n",
    "    diff_test_train_acc = abs(train_accuracy_score - test_accuracy_score)\n",
    "\n",
    "    if train_fbeta_score >= base_score and diff_test_train_acc < threshold:\n",
    "        base_score = train_fbeta_score\n",
    "    \n",
    "        metric_info_artifact = MetricInfoArtifact(\n",
    "            model_name=model_name,\n",
    "            model_object=model,\n",
    "            train_f1_score=train_f1_score,\n",
    "            test_f1_score=test_f1_score,\n",
    "            train_fbeta_score=train_fbeta_score,\n",
    "            test_fbeta_score=test_fbeta_score,\n",
    "            train_roc_auc_score=train_roc_auc_score,\n",
    "            test_roc_auc_score=test_roc_auc_score,\n",
    "            train_precision_score=train_precision_score,\n",
    "            test_precision_score=test_precision_score,\n",
    "            train_recall_score=train_recall_score,\n",
    "            test_recall_score=test_recall_score,\n",
    "            model_accuracy=model_accuracy,\n",
    "            train_accuracy_score=train_accuracy_score,\n",
    "            test_accuracy_score=test_accuracy_score,\n",
    "            model_index=index_number\n",
    "        )\n",
    "        mlflow.sklearn.log_model(sk_model=model,\n",
    "                         artifact_path=\"model_training\",\n",
    "                         registered_model_name=model_name,\n",
    "                         input_example=X_train[:1, :],\n",
    "                         metadata=dict(stage=\"training\",\n",
    "                                       index_number=index_number))\n",
    "\n",
    "        if initial_base_score == 0:\n",
    "            initial_base_score = base_score\n",
    "        query = f\"params.base_score ='{initial_base_score}'\"\n",
    "        all_experiments = [exp.experiment_id for exp in mlflow.search_experiments()]\n",
    "        runs = mlflow.search_runs(\n",
    "        experiment_ids=all_experiments,\n",
    "        filter_string=query,\n",
    "        run_view_type=ViewType.ACTIVE_ONLY,\n",
    "        )\n",
    "        if runs.empty:\n",
    "            mlflow.log_params({\"base_score\": base_score, \"threshold\": threshold})"
   ]
  },
  {
   "cell_type": "code",
   "execution_count": 29,
   "metadata": {},
   "outputs": [
    {
     "data": {
      "text/plain": [
       "False"
      ]
     },
     "execution_count": 29,
     "metadata": {},
     "output_type": "execute_result"
    }
   ],
   "source": [
    "mlflow.get_artifact_uri()"
   ]
  },
  {
   "cell_type": "code",
   "execution_count": 13,
   "metadata": {},
   "outputs": [],
   "source": [
    "\n",
    "mlflow.log_metric(\"train_f1_score\", train_f1_score)\n",
    "mlflow.log_metric(\"test_f1_score\", test_f1_score)\n",
    "mlflow.log_metric(\"train_f-beta_score\", train_fbeta_score)\n",
    "mlflow.log_metric(\"test_f-beta_score\", test_fbeta_score)\n",
    "mlflow.log_metric(\"train_roc_auc_score\", train_roc_auc_score)\n",
    "mlflow.log_metric(\"test_roc_auc_score\", test_roc_auc_score)\n",
    "mlflow.log_metric(\"train_precision_score\", train_precision_score)\n",
    "mlflow.log_metric(\"test_precision_score\", test_precision_score)\n",
    "mlflow.log_metric(\"train_recall_score\", train_recall_score)\n",
    "mlflow.log_metric(\"test_recall_score\", test_recall_score)\n",
    "mlflow.log_metric(\"model_accuracy\", model_accuracy)\n",
    "mlflow.log_metric(\"train_accuracy_score\", train_accuracy_score)\n",
    "mlflow.log_metric(\"test_accuracy_score\", test_accuracy_score)"
   ]
  },
  {
   "cell_type": "code",
   "execution_count": 8,
   "metadata": {},
   "outputs": [],
   "source": [
    "import yaml\n",
    "from pathlib import Path\n",
    "\n",
    "path = Path(r\"C:\\Users\\arunk\\FraudDetection\\artifacts\\model_evaluation\\model_evaluation.yaml\")\n",
    "with open (file=path, mode='r') as f:\n",
    "    content = yaml.load(f,Loader=yaml.Loader)"
   ]
  },
  {
   "cell_type": "code",
   "execution_count": 9,
   "metadata": {},
   "outputs": [
    {
     "data": {
      "text/plain": [
       "{'best_model': {'model_path': WindowsPath('C:/Users/arunk/FraudDetection/artifacts/model_trainer/2023-05-19-18-38-47/trained_model/model.pkl')}, 'history': {'2023-05-19-18-38-47': {'model_path': 'C:\\\\Users\\\\arunk\\\\FraudDetection\\\\artifacts\\\\model_trainer\\\\2023-05-19-18-38-47\\\\trained_model\\\\model.pkl'}}}"
      ]
     },
     "execution_count": 9,
     "metadata": {},
     "output_type": "execute_result"
    }
   ],
   "source": [
    "content"
   ]
  },
  {
   "cell_type": "code",
   "execution_count": 15,
   "metadata": {},
   "outputs": [
    {
     "data": {
      "text/plain": [
       "{}"
      ]
     },
     "execution_count": 15,
     "metadata": {},
     "output_type": "execute_result"
    }
   ],
   "source": [
    "data.params"
   ]
  },
  {
   "cell_type": "code",
   "execution_count": 16,
   "metadata": {},
   "outputs": [
    {
     "data": {
      "text/plain": [
       "4"
      ]
     },
     "execution_count": 16,
     "metadata": {},
     "output_type": "execute_result"
    }
   ],
   "source": [
    "len(data.tags)"
   ]
  },
  {
   "cell_type": "code",
   "execution_count": null,
   "metadata": {},
   "outputs": [],
   "source": []
  }
 ],
 "metadata": {
  "kernelspec": {
   "display_name": "FraudDetection",
   "language": "python",
   "name": "python3"
  },
  "language_info": {
   "codemirror_mode": {
    "name": "ipython",
    "version": 3
   },
   "file_extension": ".py",
   "mimetype": "text/x-python",
   "name": "python",
   "nbconvert_exporter": "python",
   "pygments_lexer": "ipython3",
   "version": "3.10.11"
  },
  "orig_nbformat": 4
 },
 "nbformat": 4,
 "nbformat_minor": 2
}
