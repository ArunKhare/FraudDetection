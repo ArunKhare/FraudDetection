{
 "cells": [
  {
   "cell_type": "code",
   "execution_count": 1,
   "metadata": {},
   "outputs": [
    {
     "data": {
      "text/plain": [
       "'c:\\\\Users\\\\arunk\\\\FraudDetection'"
      ]
     },
     "execution_count": 1,
     "metadata": {},
     "output_type": "execute_result"
    }
   ],
   "source": [
    "import os \n",
    "os.chdir(\"../\")\n",
    "os.getcwd()"
   ]
  },
  {
   "cell_type": "code",
   "execution_count": 2,
   "metadata": {},
   "outputs": [
    {
     "name": "stderr",
     "output_type": "stream",
     "text": [
      "c:\\Users\\arunk\\FraudDetection\\env\\lib\\site-packages\\tqdm\\auto.py:21: TqdmWarning: IProgress not found. Please update jupyter and ipywidgets. See https://ipywidgets.readthedocs.io/en/stable/user_install.html\n",
      "  from .autonotebook import tqdm as notebook_tqdm\n"
     ]
    },
    {
     "name": "stdout",
     "output_type": "stream",
     "text": [
      "====>>>File already exists\n"
     ]
    },
    {
     "name": "stderr",
     "output_type": "stream",
     "text": [
      "C:\\Users\\arunk\\FraudDetection\\src\\fraudDetection\\components\\data_transformation.py:253: FutureWarning: Dropping of nuisance columns in DataFrame reductions (with 'numeric_only=None') is deprecated; in a future version this will raise TypeError.  Select only valid columns before calling the reduction.\n",
      "  df.fillna(df.median(),inplace=True)\n",
      "C:\\Users\\arunk\\FraudDetection\\src\\fraudDetection\\components\\data_transformation.py:253: FutureWarning: Dropping of nuisance columns in DataFrame reductions (with 'numeric_only=None') is deprecated; in a future version this will raise TypeError.  Select only valid columns before calling the reduction.\n",
      "  df.fillna(df.median(),inplace=True)\n"
     ]
    }
   ],
   "source": [
    "from fraudDetection.logger import logging\n",
    "from fraudDetection.exception import FraudDetectionException\n",
    "from fraudDetection.config.configuration import ConfigurationManager\n",
    "from fraudDetection.components import DataIngestion, DataValidation, DataTransformation,ModelTrainer\n",
    "from fraudDetection.entity import DataIngestionArtifact, DataValidationArtifact, DataTransformationArtifact, ModelTrainerArtifact\n",
    "\n",
    "from fraudDetection.constants import CONFIG_FILE_PATH\n",
    "\n",
    "config = ConfigurationManager(CONFIG_FILE_PATH)\n",
    "data_ingestion_config = config.get_data_ingestion_config()\n",
    "data_ingestion_artifacts = DataIngestion(data_ingestion_config).initiate_data_ingestion()\n",
    "\n",
    "data_validation_config =config.get_data_validation_config()\n",
    "data_validation_artifacts =DataValidation(data_ingestion_artifacts,data_validation_config).initiate_data_validation()\n",
    "data_transformation_config =config.get_data_transformation_config()\n",
    "data_transformation_artifacts = DataTransformation(data_validation_artifacts,data_ingestion_artifacts,data_transformation_config).initiate_data_transformation()"
   ]
  },
  {
   "cell_type": "code",
   "execution_count": 8,
   "metadata": {},
   "outputs": [
    {
     "data": {
      "text/plain": [
       "WindowsPath('c:/Users/arunk/FraudDetection/artifacts/transformed_dir/train/file_0.npz')"
      ]
     },
     "execution_count": 8,
     "metadata": {},
     "output_type": "execute_result"
    }
   ],
   "source": [
    "from fraudDetection.utils import load_numpy_array_data\n",
    "from pathlib import Path\n",
    "\n",
    "train_path = Path(data_transformation_artifacts.transformed_train_file_path)\n",
    "train_path\n"
   ]
  },
  {
   "cell_type": "code",
   "execution_count": 10,
   "metadata": {},
   "outputs": [],
   "source": [
    "train_arr = load_numpy_array_data(train_path)\n",
    "\n",
    "X_train, y_train = train_arr[:,:-1], train_arr[:,-1]"
   ]
  },
  {
   "cell_type": "code",
   "execution_count": 13,
   "metadata": {},
   "outputs": [
    {
     "name": "stdout",
     "output_type": "stream",
     "text": [
      "{'n_estimators': [200, 400, 600, 800, 1000, 1200, 1400, 1600, 1800, 2000], 'max_features': ['auto', 'sqrt'], 'max_depth': [10, 20, 30, 40, 50, 60, 70, 80, 90, 100, 110, None], 'min_samples_split': [2, 5, 10], 'min_samples_leaf': [1, 2, 4], 'bootstrap': [True, False]}\n"
     ]
    }
   ],
   "source": [
    "from sklearn.ensemble import RandomForestClassifier\n",
    "from sklearn.model_selection import RandomizedSearchCV\n",
    "import numpy as np\n",
    "\n",
    "# Number of trees in random forest\n",
    "n_estimators = [int(x) for x in np.linspace(start = 200, stop = 2000, num = 10)]\n",
    "# Number of features to consider at every split\n",
    "max_features = ['auto', 'sqrt']\n",
    "# Maximum number of levels in tree\n",
    "max_depth = [int(x) for x in np.linspace(10, 110, num = 11)]\n",
    "max_depth.append(None)\n",
    "# Minimum number of samples required to split a node\n",
    "min_samples_split = [2, 5, 10]\n",
    "# Minimum number of samples required at each leaf node\n",
    "min_samples_leaf = [1, 2, 4]\n",
    "# Method of selecting samples for training each tree\n",
    "bootstrap = [True, False]\n",
    "# Create the random grid\n",
    "random_grid = {'n_estimators': n_estimators,\n",
    "               'max_features': max_features,\n",
    "               'max_depth': max_depth,\n",
    "               'min_samples_split': min_samples_split,\n",
    "               'min_samples_leaf': min_samples_leaf,\n",
    "               'bootstrap': bootstrap}\n",
    "print(random_grid)"
   ]
  },
  {
   "cell_type": "code",
   "execution_count": 14,
   "metadata": {},
   "outputs": [
    {
     "name": "stdout",
     "output_type": "stream",
     "text": [
      "Fitting 3 folds for each of 100 candidates, totalling 300 fits\n"
     ]
    },
    {
     "data": {
      "text/html": [
       "<style>#sk-7e0b42eb-d902-4cab-971b-77b633eb5b94 {color: black;background-color: white;}#sk-7e0b42eb-d902-4cab-971b-77b633eb5b94 pre{padding: 0;}#sk-7e0b42eb-d902-4cab-971b-77b633eb5b94 div.sk-toggleable {background-color: white;}#sk-7e0b42eb-d902-4cab-971b-77b633eb5b94 label.sk-toggleable__label {cursor: pointer;display: block;width: 100%;margin-bottom: 0;padding: 0.3em;box-sizing: border-box;text-align: center;}#sk-7e0b42eb-d902-4cab-971b-77b633eb5b94 label.sk-toggleable__label-arrow:before {content: \"▸\";float: left;margin-right: 0.25em;color: #696969;}#sk-7e0b42eb-d902-4cab-971b-77b633eb5b94 label.sk-toggleable__label-arrow:hover:before {color: black;}#sk-7e0b42eb-d902-4cab-971b-77b633eb5b94 div.sk-estimator:hover label.sk-toggleable__label-arrow:before {color: black;}#sk-7e0b42eb-d902-4cab-971b-77b633eb5b94 div.sk-toggleable__content {max-height: 0;max-width: 0;overflow: hidden;text-align: left;background-color: #f0f8ff;}#sk-7e0b42eb-d902-4cab-971b-77b633eb5b94 div.sk-toggleable__content pre {margin: 0.2em;color: black;border-radius: 0.25em;background-color: #f0f8ff;}#sk-7e0b42eb-d902-4cab-971b-77b633eb5b94 input.sk-toggleable__control:checked~div.sk-toggleable__content {max-height: 200px;max-width: 100%;overflow: auto;}#sk-7e0b42eb-d902-4cab-971b-77b633eb5b94 input.sk-toggleable__control:checked~label.sk-toggleable__label-arrow:before {content: \"▾\";}#sk-7e0b42eb-d902-4cab-971b-77b633eb5b94 div.sk-estimator input.sk-toggleable__control:checked~label.sk-toggleable__label {background-color: #d4ebff;}#sk-7e0b42eb-d902-4cab-971b-77b633eb5b94 div.sk-label input.sk-toggleable__control:checked~label.sk-toggleable__label {background-color: #d4ebff;}#sk-7e0b42eb-d902-4cab-971b-77b633eb5b94 input.sk-hidden--visually {border: 0;clip: rect(1px 1px 1px 1px);clip: rect(1px, 1px, 1px, 1px);height: 1px;margin: -1px;overflow: hidden;padding: 0;position: absolute;width: 1px;}#sk-7e0b42eb-d902-4cab-971b-77b633eb5b94 div.sk-estimator {font-family: monospace;background-color: #f0f8ff;border: 1px dotted black;border-radius: 0.25em;box-sizing: border-box;margin-bottom: 0.5em;}#sk-7e0b42eb-d902-4cab-971b-77b633eb5b94 div.sk-estimator:hover {background-color: #d4ebff;}#sk-7e0b42eb-d902-4cab-971b-77b633eb5b94 div.sk-parallel-item::after {content: \"\";width: 100%;border-bottom: 1px solid gray;flex-grow: 1;}#sk-7e0b42eb-d902-4cab-971b-77b633eb5b94 div.sk-label:hover label.sk-toggleable__label {background-color: #d4ebff;}#sk-7e0b42eb-d902-4cab-971b-77b633eb5b94 div.sk-serial::before {content: \"\";position: absolute;border-left: 1px solid gray;box-sizing: border-box;top: 2em;bottom: 0;left: 50%;}#sk-7e0b42eb-d902-4cab-971b-77b633eb5b94 div.sk-serial {display: flex;flex-direction: column;align-items: center;background-color: white;padding-right: 0.2em;padding-left: 0.2em;}#sk-7e0b42eb-d902-4cab-971b-77b633eb5b94 div.sk-item {z-index: 1;}#sk-7e0b42eb-d902-4cab-971b-77b633eb5b94 div.sk-parallel {display: flex;align-items: stretch;justify-content: center;background-color: white;}#sk-7e0b42eb-d902-4cab-971b-77b633eb5b94 div.sk-parallel::before {content: \"\";position: absolute;border-left: 1px solid gray;box-sizing: border-box;top: 2em;bottom: 0;left: 50%;}#sk-7e0b42eb-d902-4cab-971b-77b633eb5b94 div.sk-parallel-item {display: flex;flex-direction: column;position: relative;background-color: white;}#sk-7e0b42eb-d902-4cab-971b-77b633eb5b94 div.sk-parallel-item:first-child::after {align-self: flex-end;width: 50%;}#sk-7e0b42eb-d902-4cab-971b-77b633eb5b94 div.sk-parallel-item:last-child::after {align-self: flex-start;width: 50%;}#sk-7e0b42eb-d902-4cab-971b-77b633eb5b94 div.sk-parallel-item:only-child::after {width: 0;}#sk-7e0b42eb-d902-4cab-971b-77b633eb5b94 div.sk-dashed-wrapped {border: 1px dashed gray;margin: 0 0.4em 0.5em 0.4em;box-sizing: border-box;padding-bottom: 0.4em;background-color: white;position: relative;}#sk-7e0b42eb-d902-4cab-971b-77b633eb5b94 div.sk-label label {font-family: monospace;font-weight: bold;background-color: white;display: inline-block;line-height: 1.2em;}#sk-7e0b42eb-d902-4cab-971b-77b633eb5b94 div.sk-label-container {position: relative;z-index: 2;text-align: center;}#sk-7e0b42eb-d902-4cab-971b-77b633eb5b94 div.sk-container {/* jupyter's `normalize.less` sets `[hidden] { display: none; }` but bootstrap.min.css set `[hidden] { display: none !important; }` so we also need the `!important` here to be able to override the default hidden behavior on the sphinx rendered scikit-learn.org. See: https://github.com/scikit-learn/scikit-learn/issues/21755 */display: inline-block !important;position: relative;}#sk-7e0b42eb-d902-4cab-971b-77b633eb5b94 div.sk-text-repr-fallback {display: none;}</style><div id=\"sk-7e0b42eb-d902-4cab-971b-77b633eb5b94\" class=\"sk-top-container\"><div class=\"sk-text-repr-fallback\"><pre>RandomizedSearchCV(cv=3, estimator=RandomForestClassifier(), n_iter=100,\n",
       "                   n_jobs=-1,\n",
       "                   param_distributions={&#x27;bootstrap&#x27;: [True, False],\n",
       "                                        &#x27;max_depth&#x27;: [10, 20, 30, 40, 50, 60,\n",
       "                                                      70, 80, 90, 100, 110,\n",
       "                                                      None],\n",
       "                                        &#x27;max_features&#x27;: [&#x27;auto&#x27;, &#x27;sqrt&#x27;],\n",
       "                                        &#x27;min_samples_leaf&#x27;: [1, 2, 4],\n",
       "                                        &#x27;min_samples_split&#x27;: [2, 5, 10],\n",
       "                                        &#x27;n_estimators&#x27;: [200, 400, 600, 800,\n",
       "                                                         1000, 1200, 1400, 1600,\n",
       "                                                         1800, 2000]},\n",
       "                   random_state=42, verbose=2)</pre><b>Please rerun this cell to show the HTML repr or trust the notebook.</b></div><div class=\"sk-container\" hidden><div class=\"sk-item sk-dashed-wrapped\"><div class=\"sk-label-container\"><div class=\"sk-label sk-toggleable\"><input class=\"sk-toggleable__control sk-hidden--visually\" id=\"4a7e0ac7-6b99-455f-a5ce-c9f21db2e267\" type=\"checkbox\" ><label for=\"4a7e0ac7-6b99-455f-a5ce-c9f21db2e267\" class=\"sk-toggleable__label sk-toggleable__label-arrow\">RandomizedSearchCV</label><div class=\"sk-toggleable__content\"><pre>RandomizedSearchCV(cv=3, estimator=RandomForestClassifier(), n_iter=100,\n",
       "                   n_jobs=-1,\n",
       "                   param_distributions={&#x27;bootstrap&#x27;: [True, False],\n",
       "                                        &#x27;max_depth&#x27;: [10, 20, 30, 40, 50, 60,\n",
       "                                                      70, 80, 90, 100, 110,\n",
       "                                                      None],\n",
       "                                        &#x27;max_features&#x27;: [&#x27;auto&#x27;, &#x27;sqrt&#x27;],\n",
       "                                        &#x27;min_samples_leaf&#x27;: [1, 2, 4],\n",
       "                                        &#x27;min_samples_split&#x27;: [2, 5, 10],\n",
       "                                        &#x27;n_estimators&#x27;: [200, 400, 600, 800,\n",
       "                                                         1000, 1200, 1400, 1600,\n",
       "                                                         1800, 2000]},\n",
       "                   random_state=42, verbose=2)</pre></div></div></div><div class=\"sk-parallel\"><div class=\"sk-parallel-item\"><div class=\"sk-item\"><div class=\"sk-serial\"><div class=\"sk-item\"><div class=\"sk-estimator sk-toggleable\"><input class=\"sk-toggleable__control sk-hidden--visually\" id=\"300d742e-4a71-4967-af3b-01c2d1990b49\" type=\"checkbox\" ><label for=\"300d742e-4a71-4967-af3b-01c2d1990b49\" class=\"sk-toggleable__label sk-toggleable__label-arrow\">RandomForestClassifier</label><div class=\"sk-toggleable__content\"><pre>RandomForestClassifier()</pre></div></div></div></div></div></div></div></div></div></div>"
      ],
      "text/plain": [
       "RandomizedSearchCV(cv=3, estimator=RandomForestClassifier(), n_iter=100,\n",
       "                   n_jobs=-1,\n",
       "                   param_distributions={'bootstrap': [True, False],\n",
       "                                        'max_depth': [10, 20, 30, 40, 50, 60,\n",
       "                                                      70, 80, 90, 100, 110,\n",
       "                                                      None],\n",
       "                                        'max_features': ['auto', 'sqrt'],\n",
       "                                        'min_samples_leaf': [1, 2, 4],\n",
       "                                        'min_samples_split': [2, 5, 10],\n",
       "                                        'n_estimators': [200, 400, 600, 800,\n",
       "                                                         1000, 1200, 1400, 1600,\n",
       "                                                         1800, 2000]},\n",
       "                   random_state=42, verbose=2)"
      ]
     },
     "execution_count": 14,
     "metadata": {},
     "output_type": "execute_result"
    }
   ],
   "source": [
    "# Use the random grid to search for best hyperparameters\n",
    "# First create the base model to tune\n",
    "clf = RandomForestClassifier()\n",
    "# Random search of parameters, using 3 fold cross validation, \n",
    "# search across 100 different combinations, and use all available cores\n",
    "clf_random = RandomizedSearchCV(estimator = clf, param_distributions = random_grid, n_iter = 100, cv = 3, verbose=2, random_state=42, n_jobs = -1)\n",
    "# Fit the random search model\n",
    "clf_random.fit(X_train, y_train)"
   ]
  },
  {
   "cell_type": "code",
   "execution_count": 24,
   "metadata": {},
   "outputs": [
    {
     "name": "stdout",
     "output_type": "stream",
     "text": [
      "{'n_estimators': 600, 'min_samples_split': 5, 'min_samples_leaf': 1, 'max_features': 'sqrt', 'max_depth': 60, 'bootstrap': False}\n"
     ]
    },
    {
     "data": {
      "text/html": [
       "<style>#sk-ffdcd652-8a0b-45ed-a110-de38838eb981 {color: black;background-color: white;}#sk-ffdcd652-8a0b-45ed-a110-de38838eb981 pre{padding: 0;}#sk-ffdcd652-8a0b-45ed-a110-de38838eb981 div.sk-toggleable {background-color: white;}#sk-ffdcd652-8a0b-45ed-a110-de38838eb981 label.sk-toggleable__label {cursor: pointer;display: block;width: 100%;margin-bottom: 0;padding: 0.3em;box-sizing: border-box;text-align: center;}#sk-ffdcd652-8a0b-45ed-a110-de38838eb981 label.sk-toggleable__label-arrow:before {content: \"▸\";float: left;margin-right: 0.25em;color: #696969;}#sk-ffdcd652-8a0b-45ed-a110-de38838eb981 label.sk-toggleable__label-arrow:hover:before {color: black;}#sk-ffdcd652-8a0b-45ed-a110-de38838eb981 div.sk-estimator:hover label.sk-toggleable__label-arrow:before {color: black;}#sk-ffdcd652-8a0b-45ed-a110-de38838eb981 div.sk-toggleable__content {max-height: 0;max-width: 0;overflow: hidden;text-align: left;background-color: #f0f8ff;}#sk-ffdcd652-8a0b-45ed-a110-de38838eb981 div.sk-toggleable__content pre {margin: 0.2em;color: black;border-radius: 0.25em;background-color: #f0f8ff;}#sk-ffdcd652-8a0b-45ed-a110-de38838eb981 input.sk-toggleable__control:checked~div.sk-toggleable__content {max-height: 200px;max-width: 100%;overflow: auto;}#sk-ffdcd652-8a0b-45ed-a110-de38838eb981 input.sk-toggleable__control:checked~label.sk-toggleable__label-arrow:before {content: \"▾\";}#sk-ffdcd652-8a0b-45ed-a110-de38838eb981 div.sk-estimator input.sk-toggleable__control:checked~label.sk-toggleable__label {background-color: #d4ebff;}#sk-ffdcd652-8a0b-45ed-a110-de38838eb981 div.sk-label input.sk-toggleable__control:checked~label.sk-toggleable__label {background-color: #d4ebff;}#sk-ffdcd652-8a0b-45ed-a110-de38838eb981 input.sk-hidden--visually {border: 0;clip: rect(1px 1px 1px 1px);clip: rect(1px, 1px, 1px, 1px);height: 1px;margin: -1px;overflow: hidden;padding: 0;position: absolute;width: 1px;}#sk-ffdcd652-8a0b-45ed-a110-de38838eb981 div.sk-estimator {font-family: monospace;background-color: #f0f8ff;border: 1px dotted black;border-radius: 0.25em;box-sizing: border-box;margin-bottom: 0.5em;}#sk-ffdcd652-8a0b-45ed-a110-de38838eb981 div.sk-estimator:hover {background-color: #d4ebff;}#sk-ffdcd652-8a0b-45ed-a110-de38838eb981 div.sk-parallel-item::after {content: \"\";width: 100%;border-bottom: 1px solid gray;flex-grow: 1;}#sk-ffdcd652-8a0b-45ed-a110-de38838eb981 div.sk-label:hover label.sk-toggleable__label {background-color: #d4ebff;}#sk-ffdcd652-8a0b-45ed-a110-de38838eb981 div.sk-serial::before {content: \"\";position: absolute;border-left: 1px solid gray;box-sizing: border-box;top: 2em;bottom: 0;left: 50%;}#sk-ffdcd652-8a0b-45ed-a110-de38838eb981 div.sk-serial {display: flex;flex-direction: column;align-items: center;background-color: white;padding-right: 0.2em;padding-left: 0.2em;}#sk-ffdcd652-8a0b-45ed-a110-de38838eb981 div.sk-item {z-index: 1;}#sk-ffdcd652-8a0b-45ed-a110-de38838eb981 div.sk-parallel {display: flex;align-items: stretch;justify-content: center;background-color: white;}#sk-ffdcd652-8a0b-45ed-a110-de38838eb981 div.sk-parallel::before {content: \"\";position: absolute;border-left: 1px solid gray;box-sizing: border-box;top: 2em;bottom: 0;left: 50%;}#sk-ffdcd652-8a0b-45ed-a110-de38838eb981 div.sk-parallel-item {display: flex;flex-direction: column;position: relative;background-color: white;}#sk-ffdcd652-8a0b-45ed-a110-de38838eb981 div.sk-parallel-item:first-child::after {align-self: flex-end;width: 50%;}#sk-ffdcd652-8a0b-45ed-a110-de38838eb981 div.sk-parallel-item:last-child::after {align-self: flex-start;width: 50%;}#sk-ffdcd652-8a0b-45ed-a110-de38838eb981 div.sk-parallel-item:only-child::after {width: 0;}#sk-ffdcd652-8a0b-45ed-a110-de38838eb981 div.sk-dashed-wrapped {border: 1px dashed gray;margin: 0 0.4em 0.5em 0.4em;box-sizing: border-box;padding-bottom: 0.4em;background-color: white;position: relative;}#sk-ffdcd652-8a0b-45ed-a110-de38838eb981 div.sk-label label {font-family: monospace;font-weight: bold;background-color: white;display: inline-block;line-height: 1.2em;}#sk-ffdcd652-8a0b-45ed-a110-de38838eb981 div.sk-label-container {position: relative;z-index: 2;text-align: center;}#sk-ffdcd652-8a0b-45ed-a110-de38838eb981 div.sk-container {/* jupyter's `normalize.less` sets `[hidden] { display: none; }` but bootstrap.min.css set `[hidden] { display: none !important; }` so we also need the `!important` here to be able to override the default hidden behavior on the sphinx rendered scikit-learn.org. See: https://github.com/scikit-learn/scikit-learn/issues/21755 */display: inline-block !important;position: relative;}#sk-ffdcd652-8a0b-45ed-a110-de38838eb981 div.sk-text-repr-fallback {display: none;}</style><div id=\"sk-ffdcd652-8a0b-45ed-a110-de38838eb981\" class=\"sk-top-container\"><div class=\"sk-text-repr-fallback\"><pre>RandomForestClassifier(bootstrap=False, max_depth=60, max_features=&#x27;sqrt&#x27;,\n",
       "                       min_samples_split=5, n_estimators=600)</pre><b>Please rerun this cell to show the HTML repr or trust the notebook.</b></div><div class=\"sk-container\" hidden><div class=\"sk-item\"><div class=\"sk-estimator sk-toggleable\"><input class=\"sk-toggleable__control sk-hidden--visually\" id=\"25630026-b080-4221-bb5b-295af5c67a37\" type=\"checkbox\" checked><label for=\"25630026-b080-4221-bb5b-295af5c67a37\" class=\"sk-toggleable__label sk-toggleable__label-arrow\">RandomForestClassifier</label><div class=\"sk-toggleable__content\"><pre>RandomForestClassifier(bootstrap=False, max_depth=60, max_features=&#x27;sqrt&#x27;,\n",
       "                       min_samples_split=5, n_estimators=600)</pre></div></div></div></div></div>"
      ],
      "text/plain": [
       "RandomForestClassifier(bootstrap=False, max_depth=60, max_features='sqrt',\n",
       "                       min_samples_split=5, n_estimators=600)"
      ]
     },
     "execution_count": 24,
     "metadata": {},
     "output_type": "execute_result"
    }
   ],
   "source": [
    "print(clf_random.best_params_)\n",
    "best_model = clf_random.best_estimator_     "
   ]
  },
  {
   "cell_type": "code",
   "execution_count": 25,
   "metadata": {},
   "outputs": [],
   "source": [
    "test_arr = load_numpy_array_data(Path(data_transformation_artifacts.transformed_test_file_path))\n",
    "X_test, y_test = test_arr[:,:-1], test_arr[:,-1]\n",
    "y_pred = clf_random.predict(X_test)\n"
   ]
  },
  {
   "cell_type": "code",
   "execution_count": 37,
   "metadata": {},
   "outputs": [
    {
     "data": {
      "text/plain": [
       "{'n_estimators': 600,\n",
       " 'min_samples_split': 5,\n",
       " 'min_samples_leaf': 1,\n",
       " 'max_features': 'sqrt',\n",
       " 'max_depth': 60,\n",
       " 'bootstrap': False}"
      ]
     },
     "execution_count": 37,
     "metadata": {},
     "output_type": "execute_result"
    }
   ],
   "source": [
    "clf_random.best_params_"
   ]
  },
  {
   "cell_type": "code",
   "execution_count": 33,
   "metadata": {},
   "outputs": [
    {
     "data": {
      "text/plain": [
       "{'f1_score': 0.03208152481600302,\n",
       " 'precision_recall_curve': (array([7.24239548e-04, 1.63997685e-02, 1.00000000e+00]),\n",
       "  array([1.        , 0.73275862, 0.        ]),\n",
       "  array([0., 1.])),\n",
       " 'recall_score': 0.7327586206896551,\n",
       " 'classification_report': '              precision    recall  f1-score   support\\n\\n         0.0       1.00      0.97      0.98    160052\\n         1.0       0.02      0.73      0.03       116\\n\\n    accuracy                           0.97    160168\\n   macro avg       0.51      0.85      0.51    160168\\nweighted avg       1.00      0.97      0.98    160168\\n',\n",
       " 'precision_score': 0.01639976847385684,\n",
       " 'accuracy_score': 0.9679773737575545,\n",
       " 'balanced_accuracy_score': 0.8504532363188859}"
      ]
     },
     "metadata": {},
     "output_type": "display_data"
    }
   ],
   "source": [
    "from sklearn.metrics import f1_score, precision_recall_curve, recall_score, classification_report, fbeta_score, precision_score ,accuracy_score, balanced_accuracy_score\n",
    "metrics = [f1_score, precision_recall_curve, recall_score, classification_report, precision_score ,accuracy_score, balanced_accuracy_score]\n",
    "scores = {}\n",
    "for metric in metrics:\n",
    "    score = metric(y_test,y_pred)\n",
    "    scores[metric.__name__] = score\n",
    "  \n",
    "f1_score = scores['f1_score']\n",
    "display(scores)"
   ]
  },
  {
   "cell_type": "code",
   "execution_count": 18,
   "metadata": {},
   "outputs": [],
   "source": [
    "from sklearn.model_selection import GridSearchCV\n",
    "# Create the parameter grid based on the results of random search \n",
    "param_grid = {\n",
    "    'bootstrap': [False],\n",
    "    'max_depth': [50, 60, 70, 80],\n",
    "    'max_features': [2, 3],\n",
    "    'min_samples_leaf': [1, 2, 3],\n",
    "    'min_samples_split': [4, 5, 16],\n",
    "    'n_estimators': [500, 600, 700 ]\n",
    "}\n",
    "# Create a based model\n",
    "clf = RandomForestClassifier()\n",
    "# Instantiate the grid search model\n",
    "grid_search = GridSearchCV(estimator = clf, param_grid = param_grid, \n",
    "                          cv = 5, n_jobs = -1, verbose = 2)"
   ]
  },
  {
   "cell_type": "code",
   "execution_count": null,
   "metadata": {},
   "outputs": [],
   "source": [
    "grid_search.fit(X_train,y_train)\n",
    "grid_search.best_params_"
   ]
  },
  {
   "cell_type": "code",
   "execution_count": null,
   "metadata": {},
   "outputs": [],
   "source": []
  }
 ],
 "metadata": {
  "kernelspec": {
   "display_name": "Python 3",
   "language": "python",
   "name": "python3"
  },
  "language_info": {
   "codemirror_mode": {
    "name": "ipython",
    "version": 3
   },
   "file_extension": ".py",
   "mimetype": "text/x-python",
   "name": "python",
   "nbconvert_exporter": "python",
   "pygments_lexer": "ipython3",
   "version": "3.10.11"
  },
  "orig_nbformat": 4
 },
 "nbformat": 4,
 "nbformat_minor": 2
}
