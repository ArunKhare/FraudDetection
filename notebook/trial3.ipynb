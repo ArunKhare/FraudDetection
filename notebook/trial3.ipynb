{
 "cells": [
  {
   "cell_type": "code",
   "execution_count": null,
   "metadata": {},
   "outputs": [],
   "source": [
    "import os \n",
    "os.chdir(\"../\")\n",
    "os.getcwd()"
   ]
  },
  {
   "cell_type": "code",
   "execution_count": null,
   "metadata": {},
   "outputs": [],
   "source": [
    "from fraudDetection.logger import logging\n",
    "from fraudDetection.exception import FraudDetectionException\n",
    "from fraudDetection.config.configuration import ConfigurationManager\n",
    "from fraudDetection.components import DataIngestion, DataValidation, DataTransformation,ModelTrainer\n",
    "from fraudDetection.entity import DataIngestionArtifact, DataValidationArtifact, DataTransformationArtifact, ModelTrainerArtifact\n",
    "\n",
    "from fraudDetection.constants import CONFIG_FILE_PATH\n",
    "\n",
    "config = ConfigurationManager(CONFIG_FILE_PATH)\n",
    "data_ingestion_config = config.get_data_ingestion_config()\n",
    "data_ingestion_artifacts = DataIngestion(data_ingestion_config).initiate_data_ingestion()\n",
    "\n",
    "data_validation_config =config.get_data_validation_config()\n",
    "data_validation_artifacts =DataValidation(data_ingestion_artifacts,data_validation_config).initiate_data_validation()\n",
    "data_transformation_config =config.get_data_transformation_config()\n",
    "data_transformation_artifacts = DataTransformation(data_validation_artifacts,data_ingestion_artifacts,data_transformation_config).initiate_data_transformation()"
   ]
  },
  {
   "cell_type": "code",
   "execution_count": null,
   "metadata": {},
   "outputs": [],
   "source": [
    "from fraudDetection.utils import load_numpy_array_data\n",
    "from pathlib import Path\n",
    "\n",
    "train_path = Path(data_transformation_artifacts.transformed_train_file_path)\n",
    "train_path\n"
   ]
  },
  {
   "cell_type": "code",
   "execution_count": null,
   "metadata": {},
   "outputs": [],
   "source": [
    "train_arr = load_numpy_array_data(train_path)\n",
    "\n",
    "X_train, y_train = train_arr[:,:-1], train_arr[:,-1]"
   ]
  },
  {
   "cell_type": "code",
   "execution_count": null,
   "metadata": {},
   "outputs": [],
   "source": [
    "from sklearn.ensemble import RandomForestClassifier\n",
    "from sklearn.model_selection import RandomizedSearchCV\n",
    "import numpy as np\n",
    "\n",
    "# Number of trees in random forest\n",
    "n_estimators = [int(x) for x in np.linspace(start = 200, stop = 2000, num = 10)]\n",
    "# Number of features to consider at every split\n",
    "max_features = ['auto', 'sqrt']\n",
    "# Maximum number of levels in tree\n",
    "max_depth = [int(x) for x in np.linspace(10, 110, num = 11)]\n",
    "max_depth.append(None)\n",
    "# Minimum number of samples required to split a node\n",
    "min_samples_split = [2, 5, 10]\n",
    "# Minimum number of samples required at each leaf node\n",
    "min_samples_leaf = [1, 2, 4]\n",
    "# Method of selecting samples for training each tree\n",
    "bootstrap = [True, False]\n",
    "# Create the random grid\n",
    "random_grid = {'n_estimators': n_estimators,\n",
    "               'max_features': max_features,\n",
    "               'max_depth': max_depth,\n",
    "               'min_samples_split': min_samples_split,\n",
    "               'min_samples_leaf': min_samples_leaf,\n",
    "               'bootstrap': bootstrap\n",
    "}\n",
    "print(random_grid)"
   ]
  },
  {
   "cell_type": "code",
   "execution_count": null,
   "metadata": {},
   "outputs": [],
   "source": [
    "# Use the random grid to search for best hyperparameters\n",
    "# First create the base model to tune\n",
    "clf = RandomForestClassifier()\n",
    "# Random search of parameters, using 3 fold cross validation, \n",
    "# search across 100 different combinations, and use all available cores\n",
    "clf_random = RandomizedSearchCV(estimator = clf, param_distributions = random_grid, n_iter = 100, cv = 3, verbose=2, random_state=42, n_jobs = -1)\n",
    "# Fit the random search model\n",
    "clf_random.fit(X_train, y_train)"
   ]
  },
  {
   "cell_type": "code",
   "execution_count": null,
   "metadata": {},
   "outputs": [],
   "source": [
    "print(clf_random.best_params_)\n",
    "best_model = clf_random.best_estimator_     "
   ]
  },
  {
   "cell_type": "code",
   "execution_count": null,
   "metadata": {},
   "outputs": [],
   "source": [
    "test_arr = load_numpy_array_data(Path(data_transformation_artifacts.transformed_test_file_path))\n",
    "X_test, y_test = test_arr[:,:-1], test_arr[:,-1]\n",
    "y_pred = clf_random.predict(X_test)\n"
   ]
  },
  {
   "cell_type": "code",
   "execution_count": null,
   "metadata": {},
   "outputs": [],
   "source": [
    "clf_random.best_params_"
   ]
  },
  {
   "cell_type": "code",
   "execution_count": null,
   "metadata": {},
   "outputs": [],
   "source": [
    "from sklearn.metrics import f1_score, precision_recall_curve, recall_score, classification_report, fbeta_score, precision_score ,accuracy_score, balanced_accuracy_score\n",
    "metrics = [f1_score, precision_recall_curve, recall_score, classification_report, precision_score ,accuracy_score, balanced_accuracy_score]\n",
    "scores = {}\n",
    "for metric in metrics:\n",
    "    score = metric(y_test,y_pred)\n",
    "    scores[metric.__name__] = score\n",
    "  \n",
    "f1_score = scores['f1_score']\n",
    "display(scores)\n"
   ]
  },
  {
   "cell_type": "code",
   "execution_count": null,
   "metadata": {},
   "outputs": [],
   "source": [
    "from sklearn.model_selection import GridSearchCV\n",
    "# Create the parameter grid based on the results of random search \n",
    "param_grid = {\n",
    "    'bootstrap': [False],\n",
    "    'max_depth': [50, 60, 70, 80],\n",
    "    'max_features': [2, 3],\n",
    "    'min_samples_leaf': [1, 2, 3],\n",
    "    'min_samples_split': [4, 5, 16],\n",
    "    'n_estimators': [500, 600, 700 ]\n",
    "}\n",
    "# Create a based model\n",
    "clf = RandomForestClassifier()\n",
    "# Instantiate the grid search model\n",
    "grid_search = GridSearchCV(estimator = clf, param_grid = param_grid, \n",
    "                          cv = 5, n_jobs = -1, verbose = 2)"
   ]
  },
  {
   "cell_type": "code",
   "execution_count": null,
   "metadata": {},
   "outputs": [],
   "source": [
    "grid_search.fit(X_train,y_train)\n",
    "grid_search.best_params_"
   ]
  },
  {
   "cell_type": "code",
   "execution_count": 2,
   "metadata": {},
   "outputs": [],
   "source": [
    "import numpy as np\n",
    "import joblib\n",
    "import pandas as pd\n",
    "from fraudDetection.utils import  read_yaml\n",
    "import json\n",
    "from pathlib import Path\n",
    "# schema_file_path = Path(r\"C:\\Users\\arunk\\FraudDetection\\configs\\schema.yaml\")\n",
    "\n",
    "\n",
    "# Load the serialized function from the file\n",
    "ser_file = r\"C:\\Users\\arunk\\FraudDetection\\artifacts\\transformed_data\\preprocessed\\preprocessed.pkl\"\n",
    "input_schema = r'C:\\Users\\arunk\\FraudDetection\\mlruns\\820733024187808599\\5a208b3afd0b4ffca96a4336560b8aaa\\artifacts\\input_schema.json'\n",
    "input = r\"C:\\Users\\arunk\\FraudDetection\\artifacts\\data_ingestion\\test\\file_0.csv\"\n",
    "# Load the pipeline object\n",
    "preprocessing_pipe_obj = joblib.load(ser_file)\n",
    "\n",
    "df = pd.read_csv(input)\n",
    "\n",
    "with open(input_schema, 'r') as json_file:\n",
    "    schema = json.load(json_file)\n",
    "\n",
    "input_schema = {\n",
    "                    \"columns\": schema[\"categorical_columns\"] + schema[\"numerical_columns\"]\n",
    "}\n",
    "                \n",
    "df_input = df[input_schema[\"columns\"]]\n",
    "\n",
    "transformed_test_arr = preprocessing_pipe_obj.transform(df_input)\n",
    "test_feature_selected = preprocessing_pipe_obj.get_feature_names_out()\n",
    "# input_schema[\"columns\"]"
   ]
  },
  {
   "cell_type": "code",
   "execution_count": 38,
   "metadata": {},
   "outputs": [
    {
     "data": {
      "text/plain": [
       "8"
      ]
     },
     "execution_count": 38,
     "metadata": {},
     "output_type": "execute_result"
    }
   ],
   "source": [
    "input_exp = r\"C:\\Users\\arunk\\FraudDetection\\mlruns\\820733024187808599\\5a208b3afd0b4ffca96a4336560b8aaa\\artifacts\\evaluation\\input_example.json\"\n",
    "with open(input_exp, 'r') as json_file:\n",
    "    exp = json.load(json_file)\n",
    "exp = exp[\"inputs\"][0]\n",
    "len(exp)"
   ]
  },
  {
   "cell_type": "code",
   "execution_count": 43,
   "metadata": {},
   "outputs": [],
   "source": [
    "model_file = r\"C:\\Users\\arunk\\FraudDetection\\mlruns\\820733024187808599\\5a208b3afd0b4ffca96a4336560b8aaa\\artifacts\\evaluation\\model.pkl\"\n",
    "model = joblib.load(model_file)"
   ]
  },
  {
   "cell_type": "code",
   "execution_count": 82,
   "metadata": {},
   "outputs": [
    {
     "data": {
      "text/plain": [
       "80020"
      ]
     },
     "execution_count": 82,
     "metadata": {},
     "output_type": "execute_result"
    }
   ],
   "source": [
    "if len(exp) == test_feature_selected.shape[0]:\n",
    "    predictions = model.predict(transformed_test_arr)\n",
    "total_records_predicted  = len(predictions)\n",
    "total_records_predicted"
   ]
  },
  {
   "cell_type": "code",
   "execution_count": 123,
   "metadata": {},
   "outputs": [
    {
     "name": "stdout",
     "output_type": "stream",
     "text": [
      "Indices where value is equal to 1: [   18    22    25 ... 80012 80015 80016]\n"
     ]
    },
    {
     "data": {
      "text/plain": [
       "9828"
      ]
     },
     "execution_count": 123,
     "metadata": {},
     "output_type": "execute_result"
    }
   ],
   "source": [
    "indices = np.where(predictions == 1)[0]\n",
    "\n",
    "print(\"Indices where value is equal to 1:\", indices)\n",
    "total_fraud_predictions = len(indices)\n",
    "total_fraud_predictions"
   ]
  },
  {
   "cell_type": "code",
   "execution_count": 67,
   "metadata": {},
   "outputs": [
    {
     "data": {
      "text/plain": [
       "0.016133911465160834"
      ]
     },
     "execution_count": 67,
     "metadata": {},
     "output_type": "execute_result"
    }
   ],
   "source": [
    "from sklearn.metrics import f1_score, fbeta_score, roc_auc_score, precision_recall_curve, recall_score, \\\n",
    "    classification_report, precision_score, accuracy_score, make_scorer, auc\n",
    "y_true = df[\"isFraud\"]\n",
    "f1_score(y_true,predictions)"
   ]
  },
  {
   "cell_type": "code",
   "execution_count": 68,
   "metadata": {},
   "outputs": [
    {
     "data": {
      "text/plain": [
       "0.8780679830042489"
      ]
     },
     "execution_count": 68,
     "metadata": {},
     "output_type": "execute_result"
    }
   ],
   "source": [
    "accuracy_score(y_true,predictions)"
   ]
  },
  {
   "cell_type": "code",
   "execution_count": 69,
   "metadata": {},
   "outputs": [
    {
     "data": {
      "text/plain": [
       "0.8884606090730783"
      ]
     },
     "execution_count": 69,
     "metadata": {},
     "output_type": "execute_result"
    }
   ],
   "source": [
    "roc_auc_score(y_true,predictions)"
   ]
  },
  {
   "cell_type": "code",
   "execution_count": 72,
   "metadata": {},
   "outputs": [
    {
     "data": {
      "text/html": [
       "              precision    recall  f1-score   support\n",
       "\n",
       "           0       1.00      0.88      0.94     79931\n",
       "           1       0.01      0.90      0.02        89\n",
       "\n",
       "    accuracy                           0.88     80020\n",
       "   macro avg       0.50      0.89      0.48     80020\n",
       "weighted avg       1.00      0.88      0.93     80020\n"
      ],
      "text/plain": [
       "<IPython.core.display.HTML object>"
      ]
     },
     "metadata": {},
     "output_type": "display_data"
    }
   ],
   "source": [
    "from IPython.display import HTML, display\n",
    "\n",
    "# Generate the classification report\n",
    "report = classification_report(y_true, predictions)\n",
    "\n",
    "# Display the report in HTML format\n",
    "display(HTML(report))"
   ]
  },
  {
   "cell_type": "code",
   "execution_count": 73,
   "metadata": {},
   "outputs": [
    {
     "data": {
      "text/html": [
       "<div>\n",
       "<style scoped>\n",
       "    .dataframe tbody tr th:only-of-type {\n",
       "        vertical-align: middle;\n",
       "    }\n",
       "\n",
       "    .dataframe tbody tr th {\n",
       "        vertical-align: top;\n",
       "    }\n",
       "\n",
       "    .dataframe thead th {\n",
       "        text-align: right;\n",
       "    }\n",
       "</style>\n",
       "<table border=\"1\" class=\"dataframe\">\n",
       "  <thead>\n",
       "    <tr style=\"text-align: right;\">\n",
       "      <th></th>\n",
       "      <th>0</th>\n",
       "      <th>1</th>\n",
       "      <th>accuracy</th>\n",
       "      <th>macro avg</th>\n",
       "      <th>weighted avg</th>\n",
       "    </tr>\n",
       "  </thead>\n",
       "  <tbody>\n",
       "    <tr>\n",
       "      <th>precision</th>\n",
       "      <td>0.999872</td>\n",
       "      <td>0.008140</td>\n",
       "      <td>0.878068</td>\n",
       "      <td>0.504006</td>\n",
       "      <td>0.998769</td>\n",
       "    </tr>\n",
       "    <tr>\n",
       "      <th>recall</th>\n",
       "      <td>0.878045</td>\n",
       "      <td>0.898876</td>\n",
       "      <td>0.878068</td>\n",
       "      <td>0.888461</td>\n",
       "      <td>0.878068</td>\n",
       "    </tr>\n",
       "    <tr>\n",
       "      <th>f1-score</th>\n",
       "      <td>0.935007</td>\n",
       "      <td>0.016134</td>\n",
       "      <td>0.878068</td>\n",
       "      <td>0.475570</td>\n",
       "      <td>0.933985</td>\n",
       "    </tr>\n",
       "    <tr>\n",
       "      <th>support</th>\n",
       "      <td>79931.000000</td>\n",
       "      <td>89.000000</td>\n",
       "      <td>0.878068</td>\n",
       "      <td>80020.000000</td>\n",
       "      <td>80020.000000</td>\n",
       "    </tr>\n",
       "  </tbody>\n",
       "</table>\n",
       "</div>"
      ],
      "text/plain": [
       "                      0          1  accuracy     macro avg  weighted avg\n",
       "precision      0.999872   0.008140  0.878068      0.504006      0.998769\n",
       "recall         0.878045   0.898876  0.878068      0.888461      0.878068\n",
       "f1-score       0.935007   0.016134  0.878068      0.475570      0.933985\n",
       "support    79931.000000  89.000000  0.878068  80020.000000  80020.000000"
      ]
     },
     "metadata": {},
     "output_type": "display_data"
    }
   ],
   "source": [
    "# Generate the classification report\n",
    "report_dict = classification_report(y_true, predictions, output_dict=True)\n",
    "\n",
    "# Convert the report dictionary to a Pandas DataFrame\n",
    "report_df = pd.DataFrame(report_dict)\n",
    "\n",
    "# Display the DataFrame\n",
    "display(report_df)"
   ]
  },
  {
   "cell_type": "code",
   "execution_count": 85,
   "metadata": {},
   "outputs": [
    {
     "name": "stdout",
     "output_type": "stream",
     "text": [
      "total_records_predicted 80020\n",
      "total_fraud_predictions 9828\n",
      "total_not_fraud_prediction 70192\n"
     ]
    }
   ],
   "source": [
    "total_not_fraud_prediction = total_records_predicted - total_fraud_predictions\n",
    "print(\"total_records_predicted\",total_records_predicted) \n",
    "print(\"total_fraud_predictions\", total_fraud_predictions)\n",
    "print(\"total_not_fraud_prediction\", total_not_fraud_prediction)\n"
   ]
  },
  {
   "cell_type": "code",
   "execution_count": 97,
   "metadata": {},
   "outputs": [
    {
     "data": {
      "text/plain": [
       "89"
      ]
     },
     "execution_count": 97,
     "metadata": {},
     "output_type": "execute_result"
    }
   ],
   "source": [
    "y_true.value_counts()[1]"
   ]
  },
  {
   "cell_type": "code",
   "execution_count": 103,
   "metadata": {},
   "outputs": [
    {
     "data": {
      "text/plain": [
       "89"
      ]
     },
     "execution_count": 103,
     "metadata": {},
     "output_type": "execute_result"
    }
   ],
   "source": [
    "y_true.sum()"
   ]
  },
  {
   "cell_type": "code",
   "execution_count": 104,
   "metadata": {},
   "outputs": [
    {
     "data": {
      "text/plain": [
       "79931"
      ]
     },
     "execution_count": 104,
     "metadata": {},
     "output_type": "execute_result"
    }
   ],
   "source": [
    "y_true.value_counts()[0]"
   ]
  },
  {
   "cell_type": "code",
   "execution_count": 106,
   "metadata": {},
   "outputs": [
    {
     "data": {
      "text/plain": [
       "89"
      ]
     },
     "execution_count": 106,
     "metadata": {},
     "output_type": "execute_result"
    }
   ],
   "source": [
    "y_true.value_counts().get(1,0)"
   ]
  },
  {
   "cell_type": "code",
   "execution_count": 107,
   "metadata": {},
   "outputs": [
    {
     "data": {
      "text/plain": [
       "0.898876404494382"
      ]
     },
     "execution_count": 107,
     "metadata": {},
     "output_type": "execute_result"
    }
   ],
   "source": [
    "recall_score(y_true,predictions)"
   ]
  },
  {
   "cell_type": "code",
   "execution_count": 108,
   "metadata": {},
   "outputs": [
    {
     "data": {
      "text/plain": [
       "0.8780679830042489"
      ]
     },
     "execution_count": 108,
     "metadata": {},
     "output_type": "execute_result"
    }
   ],
   "source": [
    "accuracy_score(y_true,predictions)"
   ]
  },
  {
   "cell_type": "code",
   "execution_count": 118,
   "metadata": {},
   "outputs": [
    {
     "data": {
      "text/plain": [
       "0.016133911465160834"
      ]
     },
     "execution_count": 118,
     "metadata": {},
     "output_type": "execute_result"
    }
   ],
   "source": [
    "# both are important (FP and FN)\n",
    "fbeta_score(y_pred=predictions,y_true=y_true,beta=1)"
   ]
  },
  {
   "cell_type": "code",
   "execution_count": 116,
   "metadata": {},
   "outputs": [
    {
     "data": {
      "text/plain": [
       "0.03927729772191673"
      ]
     },
     "execution_count": 116,
     "metadata": {},
     "output_type": "execute_result"
    }
   ],
   "source": [
    "# FN more costly\n",
    "fbeta_score(y_true=y_true,y_pred=predictions,beta=2)"
   ]
  },
  {
   "cell_type": "code",
   "execution_count": 117,
   "metadata": {},
   "outputs": [
    {
     "data": {
      "text/plain": [
       "0.010152026598309688"
      ]
     },
     "execution_count": 117,
     "metadata": {},
     "output_type": "execute_result"
    }
   ],
   "source": [
    "# FP is more costly\n",
    "fbeta_score(y_true=y_true,y_pred=predictions,beta=0.5)"
   ]
  },
  {
   "cell_type": "code",
   "execution_count": 109,
   "metadata": {},
   "outputs": [
    {
     "data": {
      "text/plain": [
       "(array([0.00111222, 0.00814001, 1.        ]),\n",
       " array([1.       , 0.8988764, 0.       ]),\n",
       " array([0., 1.]))"
      ]
     },
     "execution_count": 109,
     "metadata": {},
     "output_type": "execute_result"
    }
   ],
   "source": [
    "precision_recall_curve(y_true,predictions)"
   ]
  },
  {
   "cell_type": "code",
   "execution_count": 119,
   "metadata": {},
   "outputs": [
    {
     "data": {
      "image/png": "[encoded data removed]",
      "text/plain": [
       "<Figure size 800x600 with 1 Axes>"
      ]
     },
     "metadata": {},
     "output_type": "display_data"
    }
   ],
   "source": [
    "import matplotlib.pyplot as plt\n",
    "\n",
    "from sklearn.metrics import precision_recall_curve\n",
    "from sklearn.metrics import auc\n",
    "\n",
    "# Compute precision-recall pairs for different probability thresholds\n",
    "precision, recall, thresholds = precision_recall_curve(y_true, predictions)\n",
    "\n",
    "# Compute area under the curve (AUC) for precision-recall curve\n",
    "pr_auc = auc(recall, precision)\n",
    "\n",
    "plt.figure(figsize=(8,6))\n",
    "plt.plot(recall,precision,label=f\"P R Curve = {pr_auc:.2f}\")\n",
    "plt.xlabel(\"recall\")\n",
    "plt.ylabel(\"precision\")\n",
    "plt.title(\"Precision-Recall curve\")\n",
    "plt.legend()\n",
    "plt.grid(True)\n",
    "plt.show()\n",
    "\n"
   ]
  },
  {
   "cell_type": "code",
   "execution_count": 121,
   "metadata": {},
   "outputs": [
    {
     "data": {
      "text/plain": [
       "Index(['step', 'type', 'amount', 'nameOrig', 'oldbalanceOrg', 'newbalanceOrig',\n",
       "       'nameDest', 'oldbalanceDest', 'newbalanceDest', 'isFraud',\n",
       "       'isFlaggedFraud'],\n",
       "      dtype='object')"
      ]
     },
     "execution_count": 121,
     "metadata": {},
     "output_type": "execute_result"
    }
   ],
   "source": [
    "df.columns"
   ]
  },
  {
   "cell_type": "markdown",
   "metadata": {},
   "source": [
    "conclusion: The system has high rate of  false positives (Low precision for Class 1). Indicates that large no of instances predicted as fraud (class 1)are actually not fraud.\n",
    "recall for class 1 is relatively very high. indicating that the model is very good at capturing Fraud cases. however, there is a trade-off between precision and recall.\n",
    "The F1-Score for class 1 is low (0.016134)\n"
   ]
  },
  {
   "cell_type": "code",
   "execution_count": 13,
   "metadata": {},
   "outputs": [
    {
     "data": {
      "text/plain": [
       "WindowsPath('C:/Users/arunk/FraudDetection/artifacts/model_trainer/2023-12-08-02-42-06/trained_model/model.pkl')"
      ]
     },
     "execution_count": 13,
     "metadata": {},
     "output_type": "execute_result"
    }
   ],
   "source": [
    "evaluated_models_file = Path(r\"C:\\Users\\arunk\\FraudDetection\\artifacts\\model_evaluation\\model_evaluation.yaml\")\n",
    "model_registry_paths = read_yaml(evaluated_models_file)\n",
    "path_object = model_registry_paths[\"best_model\"][\"model_path\"]\n",
    "path_object"
   ]
  },
  {
   "cell_type": "code",
   "execution_count": 12,
   "metadata": {},
   "outputs": [
    {
     "name": "stdout",
     "output_type": "stream",
     "text": [
      "Found date: 2023-12-08-02-42-06\n"
     ]
    }
   ],
   "source": [
    "import re\n",
    "from pathlib import WindowsPath\n",
    "\n",
    "# Convert the WindowsPath object to a string\n",
    "path_string = str(path_object)\n",
    "\n",
    "# Define a regex pattern for matching the date\n",
    "date_pattern = re.compile(r'\\d{4-\\d{2-\\d{2-\\d{2-\\d{2-\\d{2')\n",
    "\n",
    "# Search for the date pattern in the string\n",
    "match = date_pattern.search(path_string)\n",
    "\n",
    "# Extract the matched date\n",
    "if match:\n",
    "    matched_date = match.group()\n",
    "    print(f\"Found date: {matched_date}\")\n",
    "else:\n",
    "    print(\"Date not found in the string.\")\n"
   ]
  },
  {
   "cell_type": "code",
   "execution_count": 8,
   "metadata": {},
   "outputs": [],
   "source": [
    "from fraudDetection.utils import read_yaml,load_json \n",
    "\n",
    "from pathlib import Path\n",
    "\n",
    "file_path = Path(r\"C:\\Users\\arunk\\FraudDetection\\artifacts\\model_evaluation\\model_evaluation.yaml\"   )\n"
   ]
  },
  {
   "cell_type": "code",
   "execution_count": 9,
   "metadata": {},
   "outputs": [
    {
     "data": {
      "text/plain": [
       "{'best_model': {'model_path': WindowsPath('C:/Users/arunk/FraudDetection/artifacts/model_trainer/2023-12-08-02-42-06/trained_model/model.pkl')},\n",
       " 'history': {'2023-12-07-21-48-06': {'model_path': 'C:\\\\Users\\\\arunk\\\\FraudDetection\\\\artifacts\\\\model_trainer\\\\2023-12-07-21-48-06\\\\trained_model\\\\model.pkl'},\n",
       "  '2023-12-07-21-56-06': {'model_path': WindowsPath('C:/Users/arunk/FraudDetection/artifacts/model_trainer/2023-12-07-21-48-06/trained_model/model.pkl')},\n",
       "  '2023-12-08-02-42-06': {'model_path': WindowsPath('C:/Users/arunk/FraudDetection/artifacts/model_trainer/2023-12-07-21-56-06/trained_model/model.pkl')}}}"
      ]
     },
     "execution_count": 9,
     "metadata": {},
     "output_type": "execute_result"
    }
   ],
   "source": [
    "read_yaml(file_path=file_path)"
   ]
  },
  {
   "cell_type": "code",
   "execution_count": 7,
   "metadata": {},
   "outputs": [
    {
     "data": {
      "text/plain": [
       "ConfigBox({'columns': ['type', 'step', 'amount', 'oldbalanceOrg', 'newbalanceOrig', 'oldbalanceDest', 'newbalanceDest']})"
      ]
     },
     "execution_count": 7,
     "metadata": {},
     "output_type": "execute_result"
    }
   ],
   "source": [
    "load_json(Path(r\"C:\\Users\\arunk\\FraudDetection\\artifacts\\model_evaluation\\input_schema.json\"))"
   ]
  },
  {
   "cell_type": "code",
   "execution_count": 11,
   "metadata": {},
   "outputs": [
    {
     "data": {
      "text/plain": [
       "'C:\\\\'"
      ]
     },
     "execution_count": 11,
     "metadata": {},
     "output_type": "execute_result"
    }
   ],
   "source": [
    "artifact_path = Path(r\"C:\\Users\\arunk\\FraudDetection\\artifacts\\saved_models\")\n",
    "artifact_path.anchor"
   ]
  },
  {
   "cell_type": "code",
   "execution_count": 88,
   "metadata": {},
   "outputs": [
    {
     "name": "stdout",
     "output_type": "stream",
     "text": [
      "URI file:///C:/Users/arunk/FraudDetection/artifacts/saved_models\n",
      "True\n",
      "expanduser C:\\Users\\arunk\\FraudDetection\\artifacts\\saved_models\n",
      "home; C:\\Users\\arunk\n",
      "Absolute C:\\Users\\arunk\\FraudDetection\\artifacts\\saved_models\n",
      "True\n",
      "False\n",
      "False\n",
      "True\n",
      "C:\\Users\\arunk\\FraudDetection\\artifacts\\saved_models\n",
      "C:\n",
      "POSIx C:/Users/arunk/FraudDetection/artifacts/saved_models\n",
      "False\n",
      "os.stat_result(st_mode=16895, st_ino=33776997205907729, st_dev=1358179443, st_nlink=1, st_uid=0, st_gid=0, st_size=4096, st_atime=1702639875, st_mtime=1701983842, st_ctime=1701965919)\n",
      "NAME: saved_models\n",
      "Parent: C:\\Users\\arunk\\FraudDetection\\artifacts\n",
      "<WindowsPath.parents>\n",
      "Acnhor C:\\\n",
      "PArts ('C:\\\\', 'Users', 'arunk', 'FraudDetection', 'artifacts', 'saved_models')\n",
      "Module pathlib\n",
      " ['__module__', '__doc__', '__slots__', 'is_mount', '_accessor', '__new__', '_make_child_relpath', '__enter__', '__exit__', 'cwd', 'home', 'samefile', 'iterdir', 'glob', 'rglob', 'absolute', 'resolve', 'stat', 'owner', 'group', 'open', 'read_bytes', 'read_text', 'write_bytes', 'write_text', 'readlink', 'touch', 'mkdir', 'chmod', 'lchmod', 'unlink', 'rmdir', 'lstat', 'rename', 'replace', 'symlink_to', 'hardlink_to', 'link_to', 'exists', 'is_dir', 'is_file', 'is_symlink', 'is_block_device', 'is_char_device', 'is_fifo', 'is_socket', 'expanduser', '__reduce__', '_parse_args', '_from_parts', '_from_parsed_parts', '_format_parsed_parts', '_make_child', '__str__', '__fspath__', 'as_posix', '__bytes__', '__repr__', 'as_uri', '_cparts', '__eq__', '__hash__', '__lt__', '__le__', '__gt__', '__ge__', '__class_getitem__', 'drive', 'root', 'anchor', 'name', 'suffix', 'suffixes', 'stem', 'with_name', 'with_stem', 'with_suffix', 'relative_to', 'is_relative_to', 'parts', 'joinpath', '__truediv__', '__rtruediv__', 'parent', 'parents', 'is_absolute', 'is_reserved', 'match', '_cached_cparts', '_drv', '_hash', '_parts', '_pparts', '_root', '_str', '__getattribute__', '__setattr__', '__delattr__', '__ne__', '__init__', '__reduce_ex__', '__subclasshook__', '__init_subclass__', '__format__', '__sizeof__', '__dir__', '__class__', '_flavour']\n",
      "STEM:  saved_models\n",
      "__truediv__ C:\\Users\\arunk\\FraudDetection\\artifacts\\saved_models\\Arun\n"
     ]
    }
   ],
   "source": [
    "print(\"URI\",artifact_path.as_uri())\n",
    "print(artifact_path.exists())\n",
    "print(\"expanduser\",artifact_path.expanduser())\n",
    "# print(artifact_path.hardlink_to(\"2023-12-07-21-48-06\"))\n",
    "print('home;',artifact_path.home())\n",
    "print(\"Absolute\",artifact_path.absolute())\n",
    "print(artifact_path.is_absolute())\n",
    "print(artifact_path.is_fifo())\n",
    "print(artifact_path.is_char_device())\n",
    "print(artifact_path.is_dir())\n",
    "print(artifact_path.joinpath())\n",
    "print(artifact_path.drive)\n",
    "# print(artifact_path.lchmod(mode=''))\n",
    "print(\"POSIx\",artifact_path.as_posix())\n",
    "print(artifact_path.is_reserved())\n",
    "print(artifact_path.lstat())\n",
    "print(\"NAME:\",artifact_path.name)\n",
    "print(\"Parent:\",artifact_path.parent)\n",
    "print(artifact_path.parents)\n",
    "print(\"Acnhor\", artifact_path.anchor)\n",
    "print(\"PArts\",artifact_path.parts)\n",
    "print(\"Module\",artifact_path.__module__)\n",
    "print(\"\",artifact_path.__dir__())\n",
    "print(\"STEM: \",artifact_path.stem)\n",
    "print(\"__truediv__\",artifact_path.__truediv__(\"Arun\"))\n"
   ]
  },
  {
   "cell_type": "code",
   "execution_count": 149,
   "metadata": {},
   "outputs": [
    {
     "data": {
      "text/plain": [
       "WindowsPath('C:/Users/arunk/FraudDetection/artifacts/saved_models/2023-12-07-21-48-06')"
      ]
     },
     "execution_count": 149,
     "metadata": {},
     "output_type": "execute_result"
    }
   ],
   "source": [
    "artifact_path.iterdir().__next__()"
   ]
  },
  {
   "cell_type": "code",
   "execution_count": 109,
   "metadata": {},
   "outputs": [
    {
     "name": "stdout",
     "output_type": "stream",
     "text": [
      "C:\\Users\\arunk\\FraudDetection\\artifacts\\model_trainer\\2023-12-08-02-42-06\\trained_model\\model.pkl\n",
      "<class 'pathlib.WindowsPath'>\n"
     ]
    }
   ],
   "source": [
    "saved_models_yaml = read_yaml(file_path=file_path)\n",
    "print(saved_models_yaml[\"best_model\"][\"model_path\"])\n",
    "best_model_path = saved_models_yaml[\"best_model\"][\"model_path\"]\n",
    "print(type(best_model_path))\n",
    "import re\n",
    "date_pattern = re.compile(r'\\d{4-\\d{2-\\d{2-\\d{2-\\d{2-\\d{2')\n",
    "match = date_pattern.search(str(best_model_path))\n",
    "if match:\n",
    "        best_model_name_dir = match.group()\n"
   ]
  },
  {
   "cell_type": "code",
   "execution_count": 111,
   "metadata": {},
   "outputs": [
    {
     "data": {
      "text/plain": [
       "WindowsPath('C:/Users/arunk/FraudDetection/artifacts/saved_models/2023-12-08-02-42-06')"
      ]
     },
     "execution_count": 111,
     "metadata": {},
     "output_type": "execute_result"
    }
   ],
   "source": [
    "import os\n",
    "Path(os.path.join(artifact_path,best_model_name_dir))"
   ]
  },
  {
   "cell_type": "code",
   "execution_count": 156,
   "metadata": {},
   "outputs": [
    {
     "data": {
      "text/plain": [
       "RandomForestClassifier()"
      ]
     },
     "execution_count": 156,
     "metadata": {},
     "output_type": "execute_result"
    }
   ],
   "source": [
    "gen = artifact_path.glob(best_model_name_dir)\n",
    "first_string = next(gen, None)\n",
    "model_path = os.path.join(first_string,\"model.pkl\")\n",
    "import joblib\n",
    "joblib.load(model_path)"
   ]
  },
  {
   "cell_type": "code",
   "execution_count": 160,
   "metadata": {},
   "outputs": [
    {
     "data": {
      "text/html": [
       "<style>#sk-container-id-1 {color: black;background-color: white;}#sk-container-id-1 pre{padding: 0;}#sk-container-id-1 div.sk-toggleable {background-color: white;}#sk-container-id-1 label.sk-toggleable__label {cursor: pointer;display: block;width: 100%;margin-bottom: 0;padding: 0.3em;box-sizing: border-box;text-align: center;}#sk-container-id-1 label.sk-toggleable__label-arrow:before {content: \"▸\";float: left;margin-right: 0.25em;color: #696969;}#sk-container-id-1 label.sk-toggleable__label-arrow:hover:before {color: black;}#sk-container-id-1 div.sk-estimator:hover label.sk-toggleable__label-arrow:before {color: black;}#sk-container-id-1 div.sk-toggleable__content {max-height: 0;max-width: 0;overflow: hidden;text-align: left;background-color: #f0f8ff;}#sk-container-id-1 div.sk-toggleable__content pre {margin: 0.2em;color: black;border-radius: 0.25em;background-color: #f0f8ff;}#sk-container-id-1 input.sk-toggleable__control:checked~div.sk-toggleable__content {max-height: 200px;max-width: 100%;overflow: auto;}#sk-container-id-1 input.sk-toggleable__control:checked~label.sk-toggleable__label-arrow:before {content: \"▾\";}#sk-container-id-1 div.sk-estimator input.sk-toggleable__control:checked~label.sk-toggleable__label {background-color: #d4ebff;}#sk-container-id-1 div.sk-label input.sk-toggleable__control:checked~label.sk-toggleable__label {background-color: #d4ebff;}#sk-container-id-1 input.sk-hidden--visually {border: 0;clip: rect(1px 1px 1px 1px);clip: rect(1px, 1px, 1px, 1px);height: 1px;margin: -1px;overflow: hidden;padding: 0;position: absolute;width: 1px;}#sk-container-id-1 div.sk-estimator {font-family: monospace;background-color: #f0f8ff;border: 1px dotted black;border-radius: 0.25em;box-sizing: border-box;margin-bottom: 0.5em;}#sk-container-id-1 div.sk-estimator:hover {background-color: #d4ebff;}#sk-container-id-1 div.sk-parallel-item::after {content: \"\";width: 100%;border-bottom: 1px solid gray;flex-grow: 1;}#sk-container-id-1 div.sk-label:hover label.sk-toggleable__label {background-color: #d4ebff;}#sk-container-id-1 div.sk-serial::before {content: \"\";position: absolute;border-left: 1px solid gray;box-sizing: border-box;top: 0;bottom: 0;left: 50%;z-index: 0;}#sk-container-id-1 div.sk-serial {display: flex;flex-direction: column;align-items: center;background-color: white;padding-right: 0.2em;padding-left: 0.2em;position: relative;}#sk-container-id-1 div.sk-item {position: relative;z-index: 1;}#sk-container-id-1 div.sk-parallel {display: flex;align-items: stretch;justify-content: center;background-color: white;position: relative;}#sk-container-id-1 div.sk-item::before, #sk-container-id-1 div.sk-parallel-item::before {content: \"\";position: absolute;border-left: 1px solid gray;box-sizing: border-box;top: 0;bottom: 0;left: 50%;z-index: -1;}#sk-container-id-1 div.sk-parallel-item {display: flex;flex-direction: column;z-index: 1;position: relative;background-color: white;}#sk-container-id-1 div.sk-parallel-item:first-child::after {align-self: flex-end;width: 50%;}#sk-container-id-1 div.sk-parallel-item:last-child::after {align-self: flex-start;width: 50%;}#sk-container-id-1 div.sk-parallel-item:only-child::after {width: 0;}#sk-container-id-1 div.sk-dashed-wrapped {border: 1px dashed gray;margin: 0 0.4em 0.5em 0.4em;box-sizing: border-box;padding-bottom: 0.4em;background-color: white;}#sk-container-id-1 div.sk-label label {font-family: monospace;font-weight: bold;display: inline-block;line-height: 1.2em;}#sk-container-id-1 div.sk-label-container {text-align: center;}#sk-container-id-1 div.sk-container {/* jupyter's `normalize.less` sets `[hidden] { display: none; }` but bootstrap.min.css set `[hidden] { display: none !important; }` so we also need the `!important` here to be able to override the default hidden behavior on the sphinx rendered scikit-learn.org. See: https://github.com/scikit-learn/scikit-learn/issues/21755 */display: inline-block !important;position: relative;}#sk-container-id-1 div.sk-text-repr-fallback {display: none;}</style><div id=\"sk-container-id-1\" class=\"sk-top-container\"><div class=\"sk-text-repr-fallback\"><pre>Pipeline(steps=[(&#x27;transformer&#x27;,\n",
       "                 ColumnTransformer(remainder=&#x27;passthrough&#x27;,\n",
       "                                   transformers=[(&#x27;cat&#x27;,\n",
       "                                                  Pipeline(steps=[(&#x27;onehot&#x27;,\n",
       "                                                                   OneHotEncoder(handle_unknown=&#x27;ignore&#x27;)),\n",
       "                                                                  (&#x27;selector&#x27;,\n",
       "                                                                   SelectPercentile(percentile=50,\n",
       "                                                                                    score_func=&lt;function chi2 at 0x000001B775FF79A0&gt;))]),\n",
       "                                                  &lt;sklearn.compose._column_transformer.make_column_selector object at 0x000001B776765870&gt;),\n",
       "                                                 (&#x27;num&#x27;,\n",
       "                                                  Pipeline(steps=[(&#x27;scaler&#x27;,\n",
       "                                                                   RobustScaler())]),\n",
       "                                                  &lt;sklearn.compose._column_transformer.make_column_selector object at 0x000001B776765480&gt;)])),\n",
       "                (&#x27;FeatureExtractor&#x27;,\n",
       "                 Pipeline(steps=[(&#x27;feature_selection&#x27;,\n",
       "                                  SelectFromModel(estimator=ExtraTreesClassifier(max_features=&#x27;log2&#x27;,\n",
       "                                                                                 n_estimators=50),\n",
       "                                                  threshold=0.01))]))])</pre><b>In a Jupyter environment, please rerun this cell to show the HTML representation or trust the notebook. <br />On GitHub, the HTML representation is unable to render, please try loading this page with nbviewer.org.</b></div><div class=\"sk-container\" hidden><div class=\"sk-item sk-dashed-wrapped\"><div class=\"sk-label-container\"><div class=\"sk-label sk-toggleable\"><input class=\"sk-toggleable__control sk-hidden--visually\" id=\"sk-estimator-id-1\" type=\"checkbox\" ><label for=\"sk-estimator-id-1\" class=\"sk-toggleable__label sk-toggleable__label-arrow\">Pipeline</label><div class=\"sk-toggleable__content\"><pre>Pipeline(steps=[(&#x27;transformer&#x27;,\n",
       "                 ColumnTransformer(remainder=&#x27;passthrough&#x27;,\n",
       "                                   transformers=[(&#x27;cat&#x27;,\n",
       "                                                  Pipeline(steps=[(&#x27;onehot&#x27;,\n",
       "                                                                   OneHotEncoder(handle_unknown=&#x27;ignore&#x27;)),\n",
       "                                                                  (&#x27;selector&#x27;,\n",
       "                                                                   SelectPercentile(percentile=50,\n",
       "                                                                                    score_func=&lt;function chi2 at 0x000001B775FF79A0&gt;))]),\n",
       "                                                  &lt;sklearn.compose._column_transformer.make_column_selector object at 0x000001B776765870&gt;),\n",
       "                                                 (&#x27;num&#x27;,\n",
       "                                                  Pipeline(steps=[(&#x27;scaler&#x27;,\n",
       "                                                                   RobustScaler())]),\n",
       "                                                  &lt;sklearn.compose._column_transformer.make_column_selector object at 0x000001B776765480&gt;)])),\n",
       "                (&#x27;FeatureExtractor&#x27;,\n",
       "                 Pipeline(steps=[(&#x27;feature_selection&#x27;,\n",
       "                                  SelectFromModel(estimator=ExtraTreesClassifier(max_features=&#x27;log2&#x27;,\n",
       "                                                                                 n_estimators=50),\n",
       "                                                  threshold=0.01))]))])</pre></div></div></div><div class=\"sk-serial\"><div class=\"sk-item sk-dashed-wrapped\"><div class=\"sk-label-container\"><div class=\"sk-label sk-toggleable\"><input class=\"sk-toggleable__control sk-hidden--visually\" id=\"sk-estimator-id-2\" type=\"checkbox\" ><label for=\"sk-estimator-id-2\" class=\"sk-toggleable__label sk-toggleable__label-arrow\">transformer: ColumnTransformer</label><div class=\"sk-toggleable__content\"><pre>ColumnTransformer(remainder=&#x27;passthrough&#x27;,\n",
       "                  transformers=[(&#x27;cat&#x27;,\n",
       "                                 Pipeline(steps=[(&#x27;onehot&#x27;,\n",
       "                                                  OneHotEncoder(handle_unknown=&#x27;ignore&#x27;)),\n",
       "                                                 (&#x27;selector&#x27;,\n",
       "                                                  SelectPercentile(percentile=50,\n",
       "                                                                   score_func=&lt;function chi2 at 0x000001B775FF79A0&gt;))]),\n",
       "                                 &lt;sklearn.compose._column_transformer.make_column_selector object at 0x000001B776765870&gt;),\n",
       "                                (&#x27;num&#x27;,\n",
       "                                 Pipeline(steps=[(&#x27;scaler&#x27;, RobustScaler())]),\n",
       "                                 &lt;sklearn.compose._column_transformer.make_column_selector object at 0x000001B776765480&gt;)])</pre></div></div></div><div class=\"sk-parallel\"><div class=\"sk-parallel-item\"><div class=\"sk-item\"><div class=\"sk-label-container\"><div class=\"sk-label sk-toggleable\"><input class=\"sk-toggleable__control sk-hidden--visually\" id=\"sk-estimator-id-3\" type=\"checkbox\" ><label for=\"sk-estimator-id-3\" class=\"sk-toggleable__label sk-toggleable__label-arrow\">cat</label><div class=\"sk-toggleable__content\"><pre>&lt;sklearn.compose._column_transformer.make_column_selector object at 0x000001B776765870&gt;</pre></div></div></div><div class=\"sk-serial\"><div class=\"sk-item\"><div class=\"sk-serial\"><div class=\"sk-item\"><div class=\"sk-estimator sk-toggleable\"><input class=\"sk-toggleable__control sk-hidden--visually\" id=\"sk-estimator-id-4\" type=\"checkbox\" ><label for=\"sk-estimator-id-4\" class=\"sk-toggleable__label sk-toggleable__label-arrow\">OneHotEncoder</label><div class=\"sk-toggleable__content\"><pre>OneHotEncoder(handle_unknown=&#x27;ignore&#x27;)</pre></div></div></div><div class=\"sk-item\"><div class=\"sk-estimator sk-toggleable\"><input class=\"sk-toggleable__control sk-hidden--visually\" id=\"sk-estimator-id-5\" type=\"checkbox\" ><label for=\"sk-estimator-id-5\" class=\"sk-toggleable__label sk-toggleable__label-arrow\">SelectPercentile</label><div class=\"sk-toggleable__content\"><pre>SelectPercentile(percentile=50,\n",
       "                 score_func=&lt;function chi2 at 0x000001B775FF79A0&gt;)</pre></div></div></div></div></div></div></div></div><div class=\"sk-parallel-item\"><div class=\"sk-item\"><div class=\"sk-label-container\"><div class=\"sk-label sk-toggleable\"><input class=\"sk-toggleable__control sk-hidden--visually\" id=\"sk-estimator-id-6\" type=\"checkbox\" ><label for=\"sk-estimator-id-6\" class=\"sk-toggleable__label sk-toggleable__label-arrow\">num</label><div class=\"sk-toggleable__content\"><pre>&lt;sklearn.compose._column_transformer.make_column_selector object at 0x000001B776765480&gt;</pre></div></div></div><div class=\"sk-serial\"><div class=\"sk-item\"><div class=\"sk-serial\"><div class=\"sk-item\"><div class=\"sk-estimator sk-toggleable\"><input class=\"sk-toggleable__control sk-hidden--visually\" id=\"sk-estimator-id-7\" type=\"checkbox\" ><label for=\"sk-estimator-id-7\" class=\"sk-toggleable__label sk-toggleable__label-arrow\">RobustScaler</label><div class=\"sk-toggleable__content\"><pre>RobustScaler()</pre></div></div></div></div></div></div></div></div><div class=\"sk-parallel-item\"><div class=\"sk-item\"><div class=\"sk-label-container\"><div class=\"sk-label sk-toggleable\"><input class=\"sk-toggleable__control sk-hidden--visually\" id=\"sk-estimator-id-8\" type=\"checkbox\" ><label for=\"sk-estimator-id-8\" class=\"sk-toggleable__label sk-toggleable__label-arrow\">remainder</label><div class=\"sk-toggleable__content\"><pre>[]</pre></div></div></div><div class=\"sk-serial\"><div class=\"sk-item\"><div class=\"sk-estimator sk-toggleable\"><input class=\"sk-toggleable__control sk-hidden--visually\" id=\"sk-estimator-id-9\" type=\"checkbox\" ><label for=\"sk-estimator-id-9\" class=\"sk-toggleable__label sk-toggleable__label-arrow\">passthrough</label><div class=\"sk-toggleable__content\"><pre>passthrough</pre></div></div></div></div></div></div></div></div><div class=\"sk-item\"><div class=\"sk-label-container\"><div class=\"sk-label sk-toggleable\"><input class=\"sk-toggleable__control sk-hidden--visually\" id=\"sk-estimator-id-10\" type=\"checkbox\" ><label for=\"sk-estimator-id-10\" class=\"sk-toggleable__label sk-toggleable__label-arrow\">FeatureExtractor: Pipeline</label><div class=\"sk-toggleable__content\"><pre>Pipeline(steps=[(&#x27;feature_selection&#x27;,\n",
       "                 SelectFromModel(estimator=ExtraTreesClassifier(max_features=&#x27;log2&#x27;,\n",
       "                                                                n_estimators=50),\n",
       "                                 threshold=0.01))])</pre></div></div></div><div class=\"sk-serial\"><div class=\"sk-item sk-dashed-wrapped\"><div class=\"sk-label-container\"><div class=\"sk-label sk-toggleable\"><input class=\"sk-toggleable__control sk-hidden--visually\" id=\"sk-estimator-id-11\" type=\"checkbox\" ><label for=\"sk-estimator-id-11\" class=\"sk-toggleable__label sk-toggleable__label-arrow\">feature_selection: SelectFromModel</label><div class=\"sk-toggleable__content\"><pre>SelectFromModel(estimator=ExtraTreesClassifier(max_features=&#x27;log2&#x27;,\n",
       "                                               n_estimators=50),\n",
       "                threshold=0.01)</pre></div></div></div><div class=\"sk-parallel\"><div class=\"sk-parallel-item\"><div class=\"sk-item\"><div class=\"sk-label-container\"><div class=\"sk-label sk-toggleable\"><input class=\"sk-toggleable__control sk-hidden--visually\" id=\"sk-estimator-id-12\" type=\"checkbox\" ><label for=\"sk-estimator-id-12\" class=\"sk-toggleable__label sk-toggleable__label-arrow\">estimator: ExtraTreesClassifier</label><div class=\"sk-toggleable__content\"><pre>ExtraTreesClassifier(max_features=&#x27;log2&#x27;, n_estimators=50)</pre></div></div></div><div class=\"sk-serial\"><div class=\"sk-item\"><div class=\"sk-estimator sk-toggleable\"><input class=\"sk-toggleable__control sk-hidden--visually\" id=\"sk-estimator-id-13\" type=\"checkbox\" ><label for=\"sk-estimator-id-13\" class=\"sk-toggleable__label sk-toggleable__label-arrow\">ExtraTreesClassifier</label><div class=\"sk-toggleable__content\"><pre>ExtraTreesClassifier(max_features=&#x27;log2&#x27;, n_estimators=50)</pre></div></div></div></div></div></div></div></div></div></div></div></div></div></div>"
      ],
      "text/plain": [
       "Pipeline(steps=[('transformer',\n",
       "                 ColumnTransformer(remainder='passthrough',\n",
       "                                   transformers=[('cat',\n",
       "                                                  Pipeline(steps=[('onehot',\n",
       "                                                                   OneHotEncoder(handle_unknown='ignore')),\n",
       "                                                                  ('selector',\n",
       "                                                                   SelectPercentile(percentile=50,\n",
       "                                                                                    score_func=<function chi2 at 0x000001B775FF79A0>))]),\n",
       "                                                  <sklearn.compose._column_transformer.make_column_selector object at 0x000001B776765870>),\n",
       "                                                 ('num',\n",
       "                                                  Pipeline(steps=[('scaler',\n",
       "                                                                   RobustScaler())]),\n",
       "                                                  <sklearn.compose._column_transformer.make_column_selector object at 0x000001B776765480>)])),\n",
       "                ('FeatureExtractor',\n",
       "                 Pipeline(steps=[('feature_selection',\n",
       "                                  SelectFromModel(estimator=ExtraTreesClassifier(max_features='log2',\n",
       "                                                                                 n_estimators=50),\n",
       "                                                  threshold=0.01))]))])"
      ]
     },
     "execution_count": 160,
     "metadata": {},
     "output_type": "execute_result"
    }
   ],
   "source": [
    "processing_obj_path = Path(r\"C:\\Users\\arunk\\FraudDetection\\artifacts\\transformed_data\\preprocessed\\preprocessed.pkl\")\n",
    "joblib.load(processing_obj_path)"
   ]
  },
  {
   "cell_type": "code",
   "execution_count": 161,
   "metadata": {},
   "outputs": [
    {
     "data": {
      "text/plain": [
       "ConfigBox({'columns': ['type', 'step', 'amount', 'oldbalanceOrg', 'newbalanceOrig', 'oldbalanceDest', 'newbalanceDest']})"
      ]
     },
     "execution_count": 161,
     "metadata": {},
     "output_type": "execute_result"
    }
   ],
   "source": [
    "schema = Path(r\"C:\\Users\\arunk\\FraudDetection\\artifacts\\model_evaluation\\input_schema.json\")\n",
    "load_json(schema)"
   ]
  },
  {
   "cell_type": "code",
   "execution_count": 163,
   "metadata": {},
   "outputs": [
    {
     "name": "stdout",
     "output_type": "stream",
     "text": [
      "Original DataFrame:\n",
      "   ID  Value_A  Value_B\n",
      "0   1       10       30\n",
      "1   2       20       40\n",
      "\n",
      "Reshaped DataFrame:\n",
      "   ID Variable  Value\n",
      "0   1  Value_A     10\n",
      "1   2  Value_A     20\n",
      "2   1  Value_B     30\n",
      "3   2  Value_B     40\n"
     ]
    }
   ],
   "source": [
    "import pandas as pd\n",
    "\n",
    "df = pd.DataFrame({\n",
    "    'ID': [1, 2],\n",
    "    'Value_A': [10, 20],\n",
    "    'Value_B': [30, 40]\n",
    "}\n",
    ")\n",
    "\n",
    "# Melt the DataFrame to reshape it\n",
    "melted_df = pd.melt(df, id_vars=['ID'], value_vars=['Value_A', 'Value_B'], var_name='Variable', value_name='Value')\n",
    "\n",
    "print(\"Original DataFrame:\")\n",
    "print(df)\n",
    "print(\"\\nReshaped DataFrame:\")\n",
    "print(melted_df)"
   ]
  },
  {
   "cell_type": "code",
   "execution_count": 16,
   "metadata": {},
   "outputs": [],
   "source": [
    "import os\n",
    "# os.chdir('../')\n",
    "# os.chdir(\"./FraudDetection/\")\n",
    "from fraudDetection.components.prediction.prediction_service import FraudDetectionModel\n",
    "model = FraudDetectionModel()\n",
    "schema = model.get_frauddetection_input_schema()"
   ]
  },
  {
   "cell_type": "code",
   "execution_count": 36,
   "metadata": {},
   "outputs": [
    {
     "data": {
      "text/plain": [
       "['type',\n",
       " 'step',\n",
       " 'amount',\n",
       " 'oldbalanceOrg',\n",
       " 'newbalanceOrig',\n",
       " 'oldbalanceDest',\n",
       " 'newbalanceDest']"
      ]
     },
     "execution_count": 36,
     "metadata": {},
     "output_type": "execute_result"
    }
   ],
   "source": [
    "\n",
    "column_list = schema['columns']\n",
    "column_list"
   ]
  },
  {
   "cell_type": "code",
   "execution_count": 37,
   "metadata": {},
   "outputs": [],
   "source": [
    "schema = model.get_frauddetection_input_schema()['columns']"
   ]
  },
  {
   "cell_type": "code",
   "execution_count": 38,
   "metadata": {},
   "outputs": [
    {
     "data": {
      "text/plain": [
       "['type',\n",
       " 'step',\n",
       " 'amount',\n",
       " 'oldbalanceOrg',\n",
       " 'newbalanceOrig',\n",
       " 'oldbalanceDest',\n",
       " 'newbalanceDest']"
      ]
     },
     "execution_count": 38,
     "metadata": {},
     "output_type": "execute_result"
    }
   ],
   "source": [
    "schema"
   ]
  },
  {
   "cell_type": "code",
   "execution_count": 40,
   "metadata": {},
   "outputs": [],
   "source": [
    "import os\n",
    "from pathlib import Path\n",
    "\n",
    "os.chdir('../')"
   ]
  },
  {
   "cell_type": "code",
   "execution_count": 82,
   "metadata": {},
   "outputs": [
    {
     "data": {
      "text/html": [
       "<div>\n",
       "<style scoped>\n",
       "    .dataframe tbody tr th:only-of-type {\n",
       "        vertical-align: middle;\n",
       "    }\n",
       "\n",
       "    .dataframe tbody tr th {\n",
       "        vertical-align: top;\n",
       "    }\n",
       "\n",
       "    .dataframe thead th {\n",
       "        text-align: right;\n",
       "    }\n",
       "</style>\n",
       "<table border=\"1\" class=\"dataframe\">\n",
       "  <thead>\n",
       "    <tr style=\"text-align: right;\">\n",
       "      <th></th>\n",
       "      <th>Time Stamp</th>\n",
       "      <th>Log Level</th>\n",
       "      <th>line number</th>\n",
       "      <th>file name</th>\n",
       "      <th>function name</th>\n",
       "      <th>message</th>\n",
       "    </tr>\n",
       "  </thead>\n",
       "  <tbody>\n",
       "    <tr>\n",
       "      <th>0</th>\n",
       "      <td>[2023-12-16 00:31:26,296]</td>\n",
       "      <td>INFO</td>\n",
       "      <td>64</td>\n",
       "      <td>__init__.py</td>\n",
       "      <td>read_yaml()</td>\n",
       "      <td>yaml file:C:\\Users\\arunk\\FraudDetection\\config...</td>\n",
       "    </tr>\n",
       "    <tr>\n",
       "      <th>1</th>\n",
       "      <td>[2023-12-16 00:31:26,296]</td>\n",
       "      <td>INFO</td>\n",
       "      <td>200</td>\n",
       "      <td>configuration.py</td>\n",
       "      <td>get_model_pusher_config()</td>\n",
       "      <td>Logging model pusher: ModelPusherConfig(model_...</td>\n",
       "    </tr>\n",
       "    <tr>\n",
       "      <th>2</th>\n",
       "      <td>[2023-12-16 00:31:26,296]</td>\n",
       "      <td>INFO</td>\n",
       "      <td>159</td>\n",
       "      <td>configuration.py</td>\n",
       "      <td>get_model_trainer_config()</td>\n",
       "      <td>Model trainer config : ModelTrainerConfig(trai...</td>\n",
       "    </tr>\n",
       "    <tr>\n",
       "      <th>3</th>\n",
       "      <td>[2023-12-16 00:31:26,296]</td>\n",
       "      <td>INFO</td>\n",
       "      <td>38</td>\n",
       "      <td>__init__.py</td>\n",
       "      <td>create_directories()</td>\n",
       "      <td>File already exists: C:\\Users\\arunk\\FraudDetec...</td>\n",
       "    </tr>\n",
       "    <tr>\n",
       "      <th>4</th>\n",
       "      <td>[2023-12-16 00:31:26,296]</td>\n",
       "      <td>INFO</td>\n",
       "      <td>141</td>\n",
       "      <td>pipeline.py</td>\n",
       "      <td>run_pipeline()</td>\n",
       "      <td>Pipeline starting\\n</td>\n",
       "    </tr>\n",
       "    <tr>\n",
       "      <th>...</th>\n",
       "      <td>...</td>\n",
       "      <td>...</td>\n",
       "      <td>...</td>\n",
       "      <td>...</td>\n",
       "      <td>...</td>\n",
       "      <td>...</td>\n",
       "    </tr>\n",
       "    <tr>\n",
       "      <th>469</th>\n",
       "      <td>\\n</td>\n",
       "      <td>None</td>\n",
       "      <td>None</td>\n",
       "      <td>None</td>\n",
       "      <td>None</td>\n",
       "      <td>None</td>\n",
       "    </tr>\n",
       "    <tr>\n",
       "      <th>470</th>\n",
       "      <td>\\n</td>\n",
       "      <td>None</td>\n",
       "      <td>None</td>\n",
       "      <td>None</td>\n",
       "      <td>None</td>\n",
       "      <td>None</td>\n",
       "    </tr>\n",
       "    <tr>\n",
       "      <th>471</th>\n",
       "      <td>[2023-12-16 00:36:37,487]</td>\n",
       "      <td>INFO</td>\n",
       "      <td>186</td>\n",
       "      <td>pipeline.py</td>\n",
       "      <td>run_pipeline()</td>\n",
       "      <td>Model pusher artifact: ModelPusherArtifacts(is...</td>\n",
       "    </tr>\n",
       "    <tr>\n",
       "      <th>472</th>\n",
       "      <td>[2023-12-16 00:36:37,487]</td>\n",
       "      <td>INFO</td>\n",
       "      <td>190</td>\n",
       "      <td>pipeline.py</td>\n",
       "      <td>run_pipeline()</td>\n",
       "      <td>Pipline completed\\n</td>\n",
       "    </tr>\n",
       "    <tr>\n",
       "      <th>473</th>\n",
       "      <td>[2023-12-16 00:36:37,487]</td>\n",
       "      <td>INFO</td>\n",
       "      <td>208</td>\n",
       "      <td>pipeline.py</td>\n",
       "      <td>run_pipeline()</td>\n",
       "      <td>Pipeline experiment:Experiment(experiment_id='...</td>\n",
       "    </tr>\n",
       "  </tbody>\n",
       "</table>\n",
       "<p>474 rows × 6 columns</p>\n",
       "</div>"
      ],
      "text/plain": [
       "                    Time Stamp  ...                                            message\n",
       "0    [2023-12-16 00:31:26,296]  ...  yaml file:C:\\Users\\arunk\\FraudDetection\\config...\n",
       "1    [2023-12-16 00:31:26,296]  ...  Logging model pusher: ModelPusherConfig(model_...\n",
       "2    [2023-12-16 00:31:26,296]  ...  Model trainer config : ModelTrainerConfig(trai...\n",
       "3    [2023-12-16 00:31:26,296]  ...  File already exists: C:\\Users\\arunk\\FraudDetec...\n",
       "4    [2023-12-16 00:31:26,296]  ...                                Pipeline starting\\n\n",
       "..                         ...  ...                                                ...\n",
       "469                         \\n  ...                                               None\n",
       "470                         \\n  ...                                               None\n",
       "471  [2023-12-16 00:36:37,487]  ...  Model pusher artifact: ModelPusherArtifacts(is...\n",
       "472  [2023-12-16 00:36:37,487]  ...                                Pipline completed\\n\n",
       "473  [2023-12-16 00:36:37,487]  ...  Pipeline experiment:Experiment(experiment_id='...\n",
       "\n",
       "[474 rows x 6 columns]"
      ]
     },
     "execution_count": 82,
     "metadata": {},
     "output_type": "execute_result"
    }
   ],
   "source": [
    "log_file = Path(r'C:\\Users\\arunk\\FraudDetection\\logs\\log_2023-12-16-00-31-26.log')\n",
    "from fraudDetection.logger import get_log_dataframe\n",
    "data = []\n",
    "with open(log_file) as log_file:\n",
    "    for line in log_file.readlines():\n",
    "        data.append(line.split(\"^;\"))\n",
    "\n",
    "df = pd.DataFrame(data)\n",
    "columns = [\"Time Stamp\", \"Log Level\", \"line number\", \"file name\", \"function name\", \"message\"]\n",
    "df.columns = columns\n",
    "df"
   ]
  },
  {
   "cell_type": "code",
   "execution_count": null,
   "metadata": {},
   "outputs": [],
   "source": []
  },
  {
   "cell_type": "code",
   "execution_count": 78,
   "metadata": {},
   "outputs": [
    {
     "data": {
      "text/html": [
       "<div>\n",
       "<style scoped>\n",
       "    .dataframe tbody tr th:only-of-type {\n",
       "        vertical-align: middle;\n",
       "    }\n",
       "\n",
       "    .dataframe tbody tr th {\n",
       "        vertical-align: top;\n",
       "    }\n",
       "\n",
       "    .dataframe thead th {\n",
       "        text-align: right;\n",
       "    }\n",
       "</style>\n",
       "<table border=\"1\" class=\"dataframe\">\n",
       "  <thead>\n",
       "    <tr style=\"text-align: right;\">\n",
       "      <th></th>\n",
       "      <th>log_message</th>\n",
       "    </tr>\n",
       "  </thead>\n",
       "  <tbody>\n",
       "    <tr>\n",
       "      <th>0</th>\n",
       "      <td>[2023-12-16 00:31:26,296]:$yaml file:C:\\Users\\...</td>\n",
       "    </tr>\n",
       "    <tr>\n",
       "      <th>1</th>\n",
       "      <td>[2023-12-16 00:31:26,296]:$Logging model pushe...</td>\n",
       "    </tr>\n",
       "    <tr>\n",
       "      <th>2</th>\n",
       "      <td>[2023-12-16 00:31:26,296]:$Model trainer confi...</td>\n",
       "    </tr>\n",
       "    <tr>\n",
       "      <th>3</th>\n",
       "      <td>[2023-12-16 00:31:26,296]:$File already exists...</td>\n",
       "    </tr>\n",
       "    <tr>\n",
       "      <th>4</th>\n",
       "      <td>[2023-12-16 00:31:26,296]:$Pipeline starting\\n</td>\n",
       "    </tr>\n",
       "    <tr>\n",
       "      <th>...</th>\n",
       "      <td>...</td>\n",
       "    </tr>\n",
       "    <tr>\n",
       "      <th>469</th>\n",
       "      <td>NaN</td>\n",
       "    </tr>\n",
       "    <tr>\n",
       "      <th>470</th>\n",
       "      <td>NaN</td>\n",
       "    </tr>\n",
       "    <tr>\n",
       "      <th>471</th>\n",
       "      <td>[2023-12-16 00:36:37,487]:$Model pusher artifa...</td>\n",
       "    </tr>\n",
       "    <tr>\n",
       "      <th>472</th>\n",
       "      <td>[2023-12-16 00:36:37,487]:$Pipline completed\\n</td>\n",
       "    </tr>\n",
       "    <tr>\n",
       "      <th>473</th>\n",
       "      <td>[2023-12-16 00:36:37,487]:$Pipeline experiment...</td>\n",
       "    </tr>\n",
       "  </tbody>\n",
       "</table>\n",
       "<p>474 rows × 1 columns</p>\n",
       "</div>"
      ],
      "text/plain": [
       "                                           log_message\n",
       "0    [2023-12-16 00:31:26,296]:$yaml file:C:\\Users\\...\n",
       "1    [2023-12-16 00:31:26,296]:$Logging model pushe...\n",
       "2    [2023-12-16 00:31:26,296]:$Model trainer confi...\n",
       "3    [2023-12-16 00:31:26,296]:$File already exists...\n",
       "4       [2023-12-16 00:31:26,296]:$Pipeline starting\\n\n",
       "..                                                 ...\n",
       "469                                                NaN\n",
       "470                                                NaN\n",
       "471  [2023-12-16 00:36:37,487]:$Model pusher artifa...\n",
       "472     [2023-12-16 00:36:37,487]:$Pipline completed\\n\n",
       "473  [2023-12-16 00:36:37,487]:$Pipeline experiment...\n",
       "\n",
       "[474 rows x 1 columns]"
      ]
     },
     "execution_count": 78,
     "metadata": {},
     "output_type": "execute_result"
    }
   ],
   "source": [
    "def get_log_dataframe(file_path):\n",
    "    data = []\n",
    "    with open(file_path) as log_file:\n",
    "        for line in log_file.readlines():\n",
    "            data.append(line.split(\"^;\"))\n",
    "    log_df = pd.DataFrame(data)\n",
    "    columns = [\"Time Stamp\", \"Log Level\", \"line number\", \"file name\", \"function name\", \"message\"]\n",
    "    log_df.columns = columns\n",
    "    log_df[\"log_message\"] = log_df['Time Stamp'].astype(str) + \":$\" + log_df[\"message\"]\n",
    "    return log_df[[\"log_message\"]]\n",
    "\n",
    "get_log_dataframe(log_file_path)"
   ]
  },
  {
   "cell_type": "code",
   "execution_count": 75,
   "metadata": {},
   "outputs": [
    {
     "name": "stdout",
     "output_type": "stream",
     "text": [
      "                                           log_message\n",
      "0    [2023-12-16 00:31:26,296]:$yaml file:C:\\Users\\...\n",
      "1    [2023-12-16 00:31:26,296]:$Logging model pushe...\n",
      "2    [2023-12-16 00:31:26,296]:$Model trainer confi...\n",
      "3    [2023-12-16 00:31:26,296]:$File already exists...\n",
      "4       [2023-12-16 00:31:26,296]:$Pipeline starting\\n\n",
      "..                                                 ...\n",
      "469                                                NaN\n",
      "470                                                NaN\n",
      "471  [2023-12-16 00:36:37,487]:$Model pusher artifa...\n",
      "472     [2023-12-16 00:36:37,487]:$Pipline completed\\n\n",
      "473  [2023-12-16 00:36:37,487]:$Pipeline experiment...\n",
      "\n",
      "[474 rows x 1 columns]\n"
     ]
    }
   ],
   "source": [
    "def get_log_dataframe(file_path):\n",
    "    data = []\n",
    "    with open(file_path, 'r') as log_file:\n",
    "        for line in log_file.readlines():\n",
    "            data.append(line.split(\"^;\"))\n",
    "    # Create a DataFrame from the collected data\n",
    "    log_df = pd.DataFrame(data)\n",
    "    columns = [\"Time Stamp\", \"Log Level\", \"line number\", \"file name\", \"function name\", \"message\"]\n",
    "    log_df.columns = columns\n",
    "    log_df[\"log_message\"] = log_df['Time Stamp'].astype(str) + \":$\" + log_df[\"message\"]\n",
    "    return log_df[[\"log_message\"]]\n",
    "\n",
    "log_file_path = Path(r'C:\\Users\\arunk\\FraudDetection\\logs\\log_2023-12-16-00-31-26.log')\n",
    "log_dataframe = get_log_dataframe(log_file_path)\n",
    "print(log_dataframe)"
   ]
  },
  {
   "cell_type": "code",
   "execution_count": 101,
   "metadata": {},
   "outputs": [
    {
     "name": "stdout",
     "output_type": "stream",
     "text": [
      "[]\n",
      "['C:\\\\Users\\\\arunk\\\\FraudDetection\\\\artifacts\\\\data_ingestion', 'C:\\\\Users\\\\arunk\\\\FraudDetection\\\\artifacts\\\\data_validation', 'C:\\\\Users\\\\arunk\\\\FraudDetection\\\\artifacts\\\\experiment', 'C:\\\\Users\\\\arunk\\\\FraudDetection\\\\artifacts\\\\model_evaluation', 'C:\\\\Users\\\\arunk\\\\FraudDetection\\\\artifacts\\\\model_trainer', 'C:\\\\Users\\\\arunk\\\\FraudDetection\\\\artifacts\\\\saved_models', 'C:\\\\Users\\\\arunk\\\\FraudDetection\\\\artifacts\\\\transformed_data']\n"
     ]
    }
   ],
   "source": [
    "artifact_path = Path(r\"C:\\Users\\arunk\\FraudDetection\\artifacts\")\n",
    "filepaths = [f.path for f in os.scandir(artifact_path) if f.is_file()]\n",
    "dirpaths  = [f.path for f in os.scandir(artifact_path) if f.is_dir()]\n",
    "print(filepaths)\n",
    "print(dirpaths)"
   ]
  },
  {
   "cell_type": "code",
   "execution_count": 109,
   "metadata": {},
   "outputs": [
    {
     "data": {
      "text/plain": [
       "[]"
      ]
     },
     "execution_count": 109,
     "metadata": {},
     "output_type": "execute_result"
    }
   ],
   "source": [
    "import glob\n",
    "filepaths = glob.glob('artifact_path/*.pkl')\n",
    "filepaths"
   ]
  },
  {
   "cell_type": "code",
   "execution_count": 265,
   "metadata": {},
   "outputs": [
    {
     "data": {
      "text/plain": [
       "{'data_ingestion.raw_data.raw_data': ['PS_20174392719_1491204439457_log.csv'],\n",
       " 'data_ingestion.test.test': ['file_0.csv',\n",
       "  'file_1.csv',\n",
       "  'file_10.csv',\n",
       "  'file_11.csv',\n",
       "  'file_12.csv',\n",
       "  'file_13.csv',\n",
       "  'file_14.csv',\n",
       "  'file_15.csv',\n",
       "  'file_16.csv',\n",
       "  'file_17.csv',\n",
       "  'file_18.csv',\n",
       "  'file_19.csv',\n",
       "  'file_2.csv',\n",
       "  'file_20.csv',\n",
       "  'file_21.csv',\n",
       "  'file_22.csv',\n",
       "  'file_23.csv',\n",
       "  'file_24.csv',\n",
       "  'file_25.csv',\n",
       "  'file_26.csv',\n",
       "  'file_27.csv',\n",
       "  'file_28.csv',\n",
       "  'file_29.csv',\n",
       "  'file_3.csv',\n",
       "  'file_30.csv',\n",
       "  'file_31.csv',\n",
       "  'file_32.csv',\n",
       "  'file_33.csv',\n",
       "  'file_34.csv',\n",
       "  'file_35.csv',\n",
       "  'file_36.csv',\n",
       "  'file_37.csv',\n",
       "  'file_38.csv',\n",
       "  'file_39.csv',\n",
       "  'file_4.csv',\n",
       "  'file_40.csv',\n",
       "  'file_41.csv',\n",
       "  'file_42.csv',\n",
       "  'file_43.csv',\n",
       "  'file_44.csv',\n",
       "  'file_45.csv',\n",
       "  'file_46.csv',\n",
       "  'file_47.csv',\n",
       "  'file_48.csv',\n",
       "  'file_49.csv',\n",
       "  'file_5.csv',\n",
       "  'file_50.csv',\n",
       "  'file_51.csv',\n",
       "  'file_52.csv',\n",
       "  'file_53.csv',\n",
       "  'file_54.csv',\n",
       "  'file_55.csv',\n",
       "  'file_56.csv',\n",
       "  'file_57.csv',\n",
       "  'file_58.csv',\n",
       "  'file_59.csv',\n",
       "  'file_6.csv',\n",
       "  'file_60.csv',\n",
       "  'file_61.csv',\n",
       "  'file_62.csv',\n",
       "  'file_63.csv',\n",
       "  'file_7.csv',\n",
       "  'file_8.csv',\n",
       "  'file_9.csv'],\n",
       " 'data_ingestion.train.train': ['file_0.csv',\n",
       "  'file_1.csv',\n",
       "  'file_10.csv',\n",
       "  'file_11.csv',\n",
       "  'file_12.csv',\n",
       "  'file_13.csv',\n",
       "  'file_14.csv',\n",
       "  'file_15.csv',\n",
       "  'file_16.csv',\n",
       "  'file_17.csv',\n",
       "  'file_18.csv',\n",
       "  'file_19.csv',\n",
       "  'file_2.csv',\n",
       "  'file_20.csv',\n",
       "  'file_21.csv',\n",
       "  'file_22.csv',\n",
       "  'file_23.csv',\n",
       "  'file_24.csv',\n",
       "  'file_25.csv',\n",
       "  'file_26.csv',\n",
       "  'file_27.csv',\n",
       "  'file_28.csv',\n",
       "  'file_29.csv',\n",
       "  'file_3.csv',\n",
       "  'file_30.csv',\n",
       "  'file_31.csv',\n",
       "  'file_32.csv',\n",
       "  'file_33.csv',\n",
       "  'file_34.csv',\n",
       "  'file_35.csv',\n",
       "  'file_36.csv',\n",
       "  'file_37.csv',\n",
       "  'file_38.csv',\n",
       "  'file_39.csv',\n",
       "  'file_4.csv',\n",
       "  'file_40.csv',\n",
       "  'file_41.csv',\n",
       "  'file_42.csv',\n",
       "  'file_43.csv',\n",
       "  'file_44.csv',\n",
       "  'file_45.csv',\n",
       "  'file_46.csv',\n",
       "  'file_47.csv',\n",
       "  'file_48.csv',\n",
       "  'file_49.csv',\n",
       "  'file_5.csv',\n",
       "  'file_50.csv',\n",
       "  'file_51.csv',\n",
       "  'file_52.csv',\n",
       "  'file_53.csv',\n",
       "  'file_54.csv',\n",
       "  'file_55.csv',\n",
       "  'file_56.csv',\n",
       "  'file_57.csv',\n",
       "  'file_58.csv',\n",
       "  'file_59.csv',\n",
       "  'file_6.csv',\n",
       "  'file_60.csv',\n",
       "  'file_61.csv',\n",
       "  'file_62.csv',\n",
       "  'file_63.csv',\n",
       "  'file_7.csv',\n",
       "  'file_8.csv',\n",
       "  'file_9.csv'],\n",
       " 'data_ingestion.zip_data.zip_data': ['online-payments-fraud-detection-dataset.zip'],\n",
       " 'experiment.experiment': ['experiment.csv'],\n",
       " 'model_evaluation.model_evaluation': ['input_schema.json',\n",
       "  'model_evaluation.yaml'],\n",
       " 'model_trainer.2023-12-07-21-48-06.trained_model.trained_model': ['model.pkl'],\n",
       " 'model_trainer.2023-12-07-21-56-06.trained_model.trained_model': ['model.pkl'],\n",
       " 'model_trainer.2023-12-08-02-42-06.trained_model.trained_model': ['model.pkl'],\n",
       " 'model_trainer.2023-12-16-00-31-26.trained_model.trained_model': ['model.pkl'],\n",
       " 'saved_models.2023-12-07-21-48-06.2023-12-07-21-48-06': ['model.pkl'],\n",
       " 'saved_models.2023-12-07-21-56-06.2023-12-07-21-56-06': ['model.pkl'],\n",
       " 'saved_models.2023-12-08-02-42-06.2023-12-08-02-42-06': ['model.pkl'],\n",
       " 'transformed_data.preprocessed.preprocessed': ['imputer_sampler.pkl',\n",
       "  'preprocessed.pkl'],\n",
       " 'transformed_data.test.test': ['file_0.npz'],\n",
       " 'transformed_data.train.train': ['file_0.npz']}"
      ]
     },
     "execution_count": 265,
     "metadata": {},
     "output_type": "execute_result"
    }
   ],
   "source": [
    "import os\n",
    "artifact_path = Path(r\"C:\\Users\\arunk\\FraudDetection\\artifacts\")\n",
    "def generate_hierarchy_dict(root_path):\n",
    "    hierarchy_dict = {}\n",
    " \n",
    "    root_name = os.path.basename(root_path)\n",
    "    \n",
    "    for item in os.listdir(root_path):\n",
    "        item_path = os.path.join(root_path, item)\n",
    "        \n",
    "        if os.path.isdir(item_path):\n",
    "            # Recursively call the function for subdirectories\n",
    "            hierarchy_dict[item] = generate_hierarchy_dict(item_path)\n",
    "        \n",
    "        elif os.path.isfile(item_path):\n",
    "            # If it's a file, add it to the dictionary\n",
    "            if root_name not in hierarchy_dict.keys():\n",
    "                hierarchy_dict[root_name] = [item]\n",
    "            else:\n",
    "                hierarchy_dict[root_name].append(item)\n",
    "    \n",
    "    return hierarchy_dict\n",
    "\n",
    "\n",
    "hierarchy_dict = generate_hierarchy_dict(artifact_path)\n",
    "\n",
    "\n",
    "import flatten_dict\n",
    "flatdict = flatten_dict.flatten(hierarchy_dict,'dot', enumerate_types=(set,))\n",
    "\n",
    "# # Remove redundant text from keys\n",
    "# new_hierarchy_dict = {}\n",
    "# for key, value in flatdict.items():\n",
    "#     parts = key.split(\".\")\n",
    "#     new_key = parts[-1] if len(parts) > 1 else key\n",
    "#     new_hierarchy_dict[new_key] = value\n",
    "\n",
    "# new_hierarchy_dict\n",
    "flatdict"
   ]
  },
  {
   "cell_type": "code",
   "execution_count": 3,
   "metadata": {},
   "outputs": [
    {
     "data": {
      "text/plain": [
       "['data_ingestion', 'raw_data']"
      ]
     },
     "execution_count": 3,
     "metadata": {},
     "output_type": "execute_result"
    }
   ],
   "source": [
    "import os\n",
    "from pathlib import Path\n",
    "\n",
    "def generate_hierarchy_dict(root_path):\n",
    "    hierarchy_dict = {}\n",
    "\n",
    "    for item in os.listdir(root_path):\n",
    "        item_path = os.path.join(root_path, item)\n",
    "\n",
    "        if os.path.isdir(item_path):\n",
    "            # Recursively call the function for subdirectories\n",
    "            sub_dict = generate_hierarchy_dict(item_path)\n",
    "\n",
    "            # Merge common prefixes in keys\n",
    "            for key, value in sub_dict.items():\n",
    "                full_key = os.path.join(item, key)\n",
    "                hierarchy_dict[full_key] = value\n",
    "        elif os.path.isfile(item_path):\n",
    "            # If it's a file, add it to the dictionary\n",
    "            hierarchy_dict[item] = [item]\n",
    "        \n",
    "    return hierarchy_dict\n",
    "\n",
    "artifact_path = \"C:\\\\Users\\\\arunk\\\\FraudDetection\\\\artifacts\"\n",
    "hierarchy_dict = generate_hierarchy_dict(artifact_path)\n",
    "\n",
    "dict_paths = {}\n",
    "\n",
    "for item in hierarchy_dict:\n",
    "    key = os.path.dirname(item)\n",
    "    if key not in dict_paths:\n",
    "        dict_paths[key] = [os.path.basename(item)]\n",
    "    else:\n",
    "        dict_paths[key].append(os.path.basename(item))\n",
    "\n",
    "# for k in hierarchy_dict.keys():\n",
    "#     print(Path(k).name)\n",
    "#     print(Path(k).parent)\n",
    "#     print(Path(k).parts[0])\n",
    "#     print(Path(k).parts)\n",
    "\n",
    "path_keys = []\n",
    "for k,v in dict_paths.items():\n",
    "    path_keys.append([*k.split(os.path.sep),v])\n",
    "dict_paths\n",
    "\n",
    "path_keys[0][0:-1]"
   ]
  },
  {
   "cell_type": "code",
   "execution_count": null,
   "metadata": {},
   "outputs": [],
   "source": [
    "! pip install flatdict\n",
    "import flatdict \n",
    "flatdict.FlatDict(hierarchy_dict,delimiter='.')"
   ]
  },
  {
   "cell_type": "code",
   "execution_count": null,
   "metadata": {},
   "outputs": [],
   "source": [
    "import streamlit as st\n",
    "flatten = flatdict.FlatDict(hierarchy_dict,delimiter='.')\n",
    "flatten.keys()\n",
    "\n",
    "path_keys = []\n",
    "for k,v in dict_paths.items():\n",
    "    path_keys.append([*k.split(os.path.sep),v])\n",
    "length_of_paths = len(path_keys)\n",
    "# Display parent folder name as header\n",
    "with st.container():\n",
    "    # Display files and subdirectories under the parent folder\n",
    "    st.title(f\"📁 Parent Folder: {parent_folder_name}\")\n",
    "    path_no = 0\n",
    "    for i, tab in enumerate(st.tabs):   \n",
    "        \n",
    "        with tab:\n",
    "            sub_dirs = path_keys[path_no][0:-1]\n",
    "            if not temp == sub_dirs[0]:\n",
    "                # m\n",
    "                file_list = path_keys[-1]\n",
    "                temp = sub_dirs[0] \n",
    "                if isinstance(file_list, list):\n",
    "                    j=0\n",
    "                    while j <= len(sub_dirs):\n",
    "                        print(\"I=============>\",i, len(sub_dirs))\n",
    "                        if j == len(sub_dirs)-1:\n",
    "                            print(f\"in last subidr\")\n",
    "                            if st.button(f\"📁 Subdirectory: {sub_dirs[i]}\"):\n",
    "                                # Display files\n",
    "                                for file in file_list:\n",
    "                                    file_path = os.path.join(current_path, key)\n",
    "                                    if st.button(f\"📄 File: {file}\", key=file_path):\n",
    "                                        display_file_content(file_path)\n",
    "                                    \n",
    "                    st.write(f\"{sub_dirs[i]}/\")\n",
    "                    j += 1\n",
    "                path_no+=1  "
   ]
  },
  {
   "cell_type": "code",
   "execution_count": 12,
   "metadata": {},
   "outputs": [
    {
     "data": {
      "text/plain": [
       "{'data_ingestion\\\\raw_data\\\\PS_20174392719_1491204439457_log.csv': ['PS_20174392719_1491204439457_log.csv'],\n",
       " 'data_ingestion\\\\test\\\\file_0.csv': ['file_0.csv'],\n",
       " 'data_ingestion\\\\test\\\\file_1.csv': ['file_1.csv'],\n",
       " 'data_ingestion\\\\test\\\\file_10.csv': ['file_10.csv'],\n",
       " 'data_ingestion\\\\test\\\\file_11.csv': ['file_11.csv'],\n",
       " 'data_ingestion\\\\test\\\\file_12.csv': ['file_12.csv'],\n",
       " 'data_ingestion\\\\test\\\\file_13.csv': ['file_13.csv'],\n",
       " 'data_ingestion\\\\test\\\\file_14.csv': ['file_14.csv'],\n",
       " 'data_ingestion\\\\test\\\\file_15.csv': ['file_15.csv'],\n",
       " 'data_ingestion\\\\test\\\\file_16.csv': ['file_16.csv'],\n",
       " 'data_ingestion\\\\test\\\\file_17.csv': ['file_17.csv'],\n",
       " 'data_ingestion\\\\test\\\\file_18.csv': ['file_18.csv'],\n",
       " 'data_ingestion\\\\test\\\\file_19.csv': ['file_19.csv'],\n",
       " 'data_ingestion\\\\test\\\\file_2.csv': ['file_2.csv'],\n",
       " 'data_ingestion\\\\test\\\\file_20.csv': ['file_20.csv'],\n",
       " 'data_ingestion\\\\test\\\\file_21.csv': ['file_21.csv'],\n",
       " 'data_ingestion\\\\test\\\\file_22.csv': ['file_22.csv'],\n",
       " 'data_ingestion\\\\test\\\\file_23.csv': ['file_23.csv'],\n",
       " 'data_ingestion\\\\test\\\\file_24.csv': ['file_24.csv'],\n",
       " 'data_ingestion\\\\test\\\\file_25.csv': ['file_25.csv'],\n",
       " 'data_ingestion\\\\test\\\\file_26.csv': ['file_26.csv'],\n",
       " 'data_ingestion\\\\test\\\\file_27.csv': ['file_27.csv'],\n",
       " 'data_ingestion\\\\test\\\\file_28.csv': ['file_28.csv'],\n",
       " 'data_ingestion\\\\test\\\\file_29.csv': ['file_29.csv'],\n",
       " 'data_ingestion\\\\test\\\\file_3.csv': ['file_3.csv'],\n",
       " 'data_ingestion\\\\test\\\\file_30.csv': ['file_30.csv'],\n",
       " 'data_ingestion\\\\test\\\\file_31.csv': ['file_31.csv'],\n",
       " 'data_ingestion\\\\test\\\\file_32.csv': ['file_32.csv'],\n",
       " 'data_ingestion\\\\test\\\\file_33.csv': ['file_33.csv'],\n",
       " 'data_ingestion\\\\test\\\\file_34.csv': ['file_34.csv'],\n",
       " 'data_ingestion\\\\test\\\\file_35.csv': ['file_35.csv'],\n",
       " 'data_ingestion\\\\test\\\\file_36.csv': ['file_36.csv'],\n",
       " 'data_ingestion\\\\test\\\\file_37.csv': ['file_37.csv'],\n",
       " 'data_ingestion\\\\test\\\\file_38.csv': ['file_38.csv'],\n",
       " 'data_ingestion\\\\test\\\\file_39.csv': ['file_39.csv'],\n",
       " 'data_ingestion\\\\test\\\\file_4.csv': ['file_4.csv'],\n",
       " 'data_ingestion\\\\test\\\\file_40.csv': ['file_40.csv'],\n",
       " 'data_ingestion\\\\test\\\\file_41.csv': ['file_41.csv'],\n",
       " 'data_ingestion\\\\test\\\\file_42.csv': ['file_42.csv'],\n",
       " 'data_ingestion\\\\test\\\\file_43.csv': ['file_43.csv'],\n",
       " 'data_ingestion\\\\test\\\\file_44.csv': ['file_44.csv'],\n",
       " 'data_ingestion\\\\test\\\\file_45.csv': ['file_45.csv'],\n",
       " 'data_ingestion\\\\test\\\\file_46.csv': ['file_46.csv'],\n",
       " 'data_ingestion\\\\test\\\\file_47.csv': ['file_47.csv'],\n",
       " 'data_ingestion\\\\test\\\\file_48.csv': ['file_48.csv'],\n",
       " 'data_ingestion\\\\test\\\\file_49.csv': ['file_49.csv'],\n",
       " 'data_ingestion\\\\test\\\\file_5.csv': ['file_5.csv'],\n",
       " 'data_ingestion\\\\test\\\\file_50.csv': ['file_50.csv'],\n",
       " 'data_ingestion\\\\test\\\\file_51.csv': ['file_51.csv'],\n",
       " 'data_ingestion\\\\test\\\\file_52.csv': ['file_52.csv'],\n",
       " 'data_ingestion\\\\test\\\\file_53.csv': ['file_53.csv'],\n",
       " 'data_ingestion\\\\test\\\\file_54.csv': ['file_54.csv'],\n",
       " 'data_ingestion\\\\test\\\\file_55.csv': ['file_55.csv'],\n",
       " 'data_ingestion\\\\test\\\\file_56.csv': ['file_56.csv'],\n",
       " 'data_ingestion\\\\test\\\\file_57.csv': ['file_57.csv'],\n",
       " 'data_ingestion\\\\test\\\\file_58.csv': ['file_58.csv'],\n",
       " 'data_ingestion\\\\test\\\\file_59.csv': ['file_59.csv'],\n",
       " 'data_ingestion\\\\test\\\\file_6.csv': ['file_6.csv'],\n",
       " 'data_ingestion\\\\test\\\\file_60.csv': ['file_60.csv'],\n",
       " 'data_ingestion\\\\test\\\\file_61.csv': ['file_61.csv'],\n",
       " 'data_ingestion\\\\test\\\\file_62.csv': ['file_62.csv'],\n",
       " 'data_ingestion\\\\test\\\\file_63.csv': ['file_63.csv'],\n",
       " 'data_ingestion\\\\test\\\\file_7.csv': ['file_7.csv'],\n",
       " 'data_ingestion\\\\test\\\\file_8.csv': ['file_8.csv'],\n",
       " 'data_ingestion\\\\test\\\\file_9.csv': ['file_9.csv'],\n",
       " 'data_ingestion\\\\train\\\\file_0.csv': ['file_0.csv'],\n",
       " 'data_ingestion\\\\train\\\\file_1.csv': ['file_1.csv'],\n",
       " 'data_ingestion\\\\train\\\\file_10.csv': ['file_10.csv'],\n",
       " 'data_ingestion\\\\train\\\\file_11.csv': ['file_11.csv'],\n",
       " 'data_ingestion\\\\train\\\\file_12.csv': ['file_12.csv'],\n",
       " 'data_ingestion\\\\train\\\\file_13.csv': ['file_13.csv'],\n",
       " 'data_ingestion\\\\train\\\\file_14.csv': ['file_14.csv'],\n",
       " 'data_ingestion\\\\train\\\\file_15.csv': ['file_15.csv'],\n",
       " 'data_ingestion\\\\train\\\\file_16.csv': ['file_16.csv'],\n",
       " 'data_ingestion\\\\train\\\\file_17.csv': ['file_17.csv'],\n",
       " 'data_ingestion\\\\train\\\\file_18.csv': ['file_18.csv'],\n",
       " 'data_ingestion\\\\train\\\\file_19.csv': ['file_19.csv'],\n",
       " 'data_ingestion\\\\train\\\\file_2.csv': ['file_2.csv'],\n",
       " 'data_ingestion\\\\train\\\\file_20.csv': ['file_20.csv'],\n",
       " 'data_ingestion\\\\train\\\\file_21.csv': ['file_21.csv'],\n",
       " 'data_ingestion\\\\train\\\\file_22.csv': ['file_22.csv'],\n",
       " 'data_ingestion\\\\train\\\\file_23.csv': ['file_23.csv'],\n",
       " 'data_ingestion\\\\train\\\\file_24.csv': ['file_24.csv'],\n",
       " 'data_ingestion\\\\train\\\\file_25.csv': ['file_25.csv'],\n",
       " 'data_ingestion\\\\train\\\\file_26.csv': ['file_26.csv'],\n",
       " 'data_ingestion\\\\train\\\\file_27.csv': ['file_27.csv'],\n",
       " 'data_ingestion\\\\train\\\\file_28.csv': ['file_28.csv'],\n",
       " 'data_ingestion\\\\train\\\\file_29.csv': ['file_29.csv'],\n",
       " 'data_ingestion\\\\train\\\\file_3.csv': ['file_3.csv'],\n",
       " 'data_ingestion\\\\train\\\\file_30.csv': ['file_30.csv'],\n",
       " 'data_ingestion\\\\train\\\\file_31.csv': ['file_31.csv'],\n",
       " 'data_ingestion\\\\train\\\\file_32.csv': ['file_32.csv'],\n",
       " 'data_ingestion\\\\train\\\\file_33.csv': ['file_33.csv'],\n",
       " 'data_ingestion\\\\train\\\\file_34.csv': ['file_34.csv'],\n",
       " 'data_ingestion\\\\train\\\\file_35.csv': ['file_35.csv'],\n",
       " 'data_ingestion\\\\train\\\\file_36.csv': ['file_36.csv'],\n",
       " 'data_ingestion\\\\train\\\\file_37.csv': ['file_37.csv'],\n",
       " 'data_ingestion\\\\train\\\\file_38.csv': ['file_38.csv'],\n",
       " 'data_ingestion\\\\train\\\\file_39.csv': ['file_39.csv'],\n",
       " 'data_ingestion\\\\train\\\\file_4.csv': ['file_4.csv'],\n",
       " 'data_ingestion\\\\train\\\\file_40.csv': ['file_40.csv'],\n",
       " 'data_ingestion\\\\train\\\\file_41.csv': ['file_41.csv'],\n",
       " 'data_ingestion\\\\train\\\\file_42.csv': ['file_42.csv'],\n",
       " 'data_ingestion\\\\train\\\\file_43.csv': ['file_43.csv'],\n",
       " 'data_ingestion\\\\train\\\\file_44.csv': ['file_44.csv'],\n",
       " 'data_ingestion\\\\train\\\\file_45.csv': ['file_45.csv'],\n",
       " 'data_ingestion\\\\train\\\\file_46.csv': ['file_46.csv'],\n",
       " 'data_ingestion\\\\train\\\\file_47.csv': ['file_47.csv'],\n",
       " 'data_ingestion\\\\train\\\\file_48.csv': ['file_48.csv'],\n",
       " 'data_ingestion\\\\train\\\\file_49.csv': ['file_49.csv'],\n",
       " 'data_ingestion\\\\train\\\\file_5.csv': ['file_5.csv'],\n",
       " 'data_ingestion\\\\train\\\\file_50.csv': ['file_50.csv'],\n",
       " 'data_ingestion\\\\train\\\\file_51.csv': ['file_51.csv'],\n",
       " 'data_ingestion\\\\train\\\\file_52.csv': ['file_52.csv'],\n",
       " 'data_ingestion\\\\train\\\\file_53.csv': ['file_53.csv'],\n",
       " 'data_ingestion\\\\train\\\\file_54.csv': ['file_54.csv'],\n",
       " 'data_ingestion\\\\train\\\\file_55.csv': ['file_55.csv'],\n",
       " 'data_ingestion\\\\train\\\\file_56.csv': ['file_56.csv'],\n",
       " 'data_ingestion\\\\train\\\\file_57.csv': ['file_57.csv'],\n",
       " 'data_ingestion\\\\train\\\\file_58.csv': ['file_58.csv'],\n",
       " 'data_ingestion\\\\train\\\\file_59.csv': ['file_59.csv'],\n",
       " 'data_ingestion\\\\train\\\\file_6.csv': ['file_6.csv'],\n",
       " 'data_ingestion\\\\train\\\\file_60.csv': ['file_60.csv'],\n",
       " 'data_ingestion\\\\train\\\\file_61.csv': ['file_61.csv'],\n",
       " 'data_ingestion\\\\train\\\\file_62.csv': ['file_62.csv'],\n",
       " 'data_ingestion\\\\train\\\\file_63.csv': ['file_63.csv'],\n",
       " 'data_ingestion\\\\train\\\\file_7.csv': ['file_7.csv'],\n",
       " 'data_ingestion\\\\train\\\\file_8.csv': ['file_8.csv'],\n",
       " 'data_ingestion\\\\train\\\\file_9.csv': ['file_9.csv'],\n",
       " 'data_ingestion\\\\zip_data\\\\online-payments-fraud-detection-dataset.zip': ['online-payments-fraud-detection-dataset.zip'],\n",
       " 'experiment\\\\experiment.csv': ['experiment.csv'],\n",
       " 'model_evaluation\\\\input_schema.json': ['input_schema.json'],\n",
       " 'model_evaluation\\\\model_evaluation.yaml': ['model_evaluation.yaml'],\n",
       " 'model_trainer\\\\2023-12-07-21-48-06\\\\trained_model\\\\model.pkl': ['model.pkl'],\n",
       " 'model_trainer\\\\2023-12-07-21-56-06\\\\trained_model\\\\model.pkl': ['model.pkl'],\n",
       " 'model_trainer\\\\2023-12-08-02-42-06\\\\trained_model\\\\model.pkl': ['model.pkl'],\n",
       " 'model_trainer\\\\2023-12-16-00-31-26\\\\trained_model\\\\model.pkl': ['model.pkl'],\n",
       " 'saved_models\\\\2023-12-07-21-48-06\\\\model.pkl': ['model.pkl'],\n",
       " 'saved_models\\\\2023-12-07-21-56-06\\\\model.pkl': ['model.pkl'],\n",
       " 'saved_models\\\\2023-12-08-02-42-06\\\\model.pkl': ['model.pkl'],\n",
       " 'transformed_data\\\\preprocessed\\\\imputer_sampler.pkl': ['imputer_sampler.pkl'],\n",
       " 'transformed_data\\\\preprocessed\\\\preprocessed.pkl': ['preprocessed.pkl'],\n",
       " 'transformed_data\\\\test\\\\file_0.npz': ['file_0.npz'],\n",
       " 'transformed_data\\\\train\\\\file_0.npz': ['file_0.npz']}"
      ]
     },
     "execution_count": 12,
     "metadata": {},
     "output_type": "execute_result"
    }
   ],
   "source": [
    "def generate_hierarchy_dict(root_path):\n",
    "    try:\n",
    "        hierarchy_dict = {}\n",
    "\n",
    "        for item in os.listdir(root_path):\n",
    "            item_path = os.path.join(root_path, item)\n",
    "\n",
    "            if os.path.isdir(item_path):\n",
    "                # Recursively call the function for subdirectories\n",
    "                sub_dict = generate_hierarchy_dict(item_path)\n",
    "\n",
    "                # Merge common prefixes in keys\n",
    "                if sub_dict is not None:\n",
    "                    for key, value in sub_dict.items():\n",
    "                        full_key = os.path.join(item, key)\n",
    "                        hierarchy_dict[full_key] = value\n",
    "            elif os.path.isfile(item_path):\n",
    "                # If it's a file, add it to the dictionary\n",
    "                hierarchy_dict[item] = [item]\n",
    "    except Exception as e:\n",
    "        print(e)\n",
    "    return hierarchy_dict\n",
    "\n",
    "artifact_path = \"C:\\\\Users\\\\arunk\\\\FraudDetection\\\\artifacts\"\n",
    "generate_hierarchy_dict(artifact_path)"
   ]
  },
  {
   "cell_type": "code",
   "execution_count": 11,
   "metadata": {},
   "outputs": [
    {
     "data": {
      "text/plain": [
       "{'data_ingestion\\\\raw_data\\\\PS_20174392719_1491204439457_log.csv': ['PS_20174392719_1491204439457_log.csv'],\n",
       " 'data_ingestion\\\\test\\\\file_0.csv': ['file_0.csv'],\n",
       " 'data_ingestion\\\\test\\\\file_1.csv': ['file_1.csv'],\n",
       " 'data_ingestion\\\\test\\\\file_10.csv': ['file_10.csv'],\n",
       " 'data_ingestion\\\\test\\\\file_11.csv': ['file_11.csv'],\n",
       " 'data_ingestion\\\\test\\\\file_12.csv': ['file_12.csv'],\n",
       " 'data_ingestion\\\\test\\\\file_13.csv': ['file_13.csv'],\n",
       " 'data_ingestion\\\\test\\\\file_14.csv': ['file_14.csv'],\n",
       " 'data_ingestion\\\\test\\\\file_15.csv': ['file_15.csv'],\n",
       " 'data_ingestion\\\\test\\\\file_16.csv': ['file_16.csv'],\n",
       " 'data_ingestion\\\\test\\\\file_17.csv': ['file_17.csv'],\n",
       " 'data_ingestion\\\\test\\\\file_18.csv': ['file_18.csv'],\n",
       " 'data_ingestion\\\\test\\\\file_19.csv': ['file_19.csv'],\n",
       " 'data_ingestion\\\\test\\\\file_2.csv': ['file_2.csv'],\n",
       " 'data_ingestion\\\\test\\\\file_20.csv': ['file_20.csv'],\n",
       " 'data_ingestion\\\\test\\\\file_21.csv': ['file_21.csv'],\n",
       " 'data_ingestion\\\\test\\\\file_22.csv': ['file_22.csv'],\n",
       " 'data_ingestion\\\\test\\\\file_23.csv': ['file_23.csv'],\n",
       " 'data_ingestion\\\\test\\\\file_24.csv': ['file_24.csv'],\n",
       " 'data_ingestion\\\\test\\\\file_25.csv': ['file_25.csv'],\n",
       " 'data_ingestion\\\\test\\\\file_26.csv': ['file_26.csv'],\n",
       " 'data_ingestion\\\\test\\\\file_27.csv': ['file_27.csv'],\n",
       " 'data_ingestion\\\\test\\\\file_28.csv': ['file_28.csv'],\n",
       " 'data_ingestion\\\\test\\\\file_29.csv': ['file_29.csv'],\n",
       " 'data_ingestion\\\\test\\\\file_3.csv': ['file_3.csv'],\n",
       " 'data_ingestion\\\\test\\\\file_30.csv': ['file_30.csv'],\n",
       " 'data_ingestion\\\\test\\\\file_31.csv': ['file_31.csv'],\n",
       " 'data_ingestion\\\\test\\\\file_32.csv': ['file_32.csv'],\n",
       " 'data_ingestion\\\\test\\\\file_33.csv': ['file_33.csv'],\n",
       " 'data_ingestion\\\\test\\\\file_34.csv': ['file_34.csv'],\n",
       " 'data_ingestion\\\\test\\\\file_35.csv': ['file_35.csv'],\n",
       " 'data_ingestion\\\\test\\\\file_36.csv': ['file_36.csv'],\n",
       " 'data_ingestion\\\\test\\\\file_37.csv': ['file_37.csv'],\n",
       " 'data_ingestion\\\\test\\\\file_38.csv': ['file_38.csv'],\n",
       " 'data_ingestion\\\\test\\\\file_39.csv': ['file_39.csv'],\n",
       " 'data_ingestion\\\\test\\\\file_4.csv': ['file_4.csv'],\n",
       " 'data_ingestion\\\\test\\\\file_40.csv': ['file_40.csv'],\n",
       " 'data_ingestion\\\\test\\\\file_41.csv': ['file_41.csv'],\n",
       " 'data_ingestion\\\\test\\\\file_42.csv': ['file_42.csv'],\n",
       " 'data_ingestion\\\\test\\\\file_43.csv': ['file_43.csv'],\n",
       " 'data_ingestion\\\\test\\\\file_44.csv': ['file_44.csv'],\n",
       " 'data_ingestion\\\\test\\\\file_45.csv': ['file_45.csv'],\n",
       " 'data_ingestion\\\\test\\\\file_46.csv': ['file_46.csv'],\n",
       " 'data_ingestion\\\\test\\\\file_47.csv': ['file_47.csv'],\n",
       " 'data_ingestion\\\\test\\\\file_48.csv': ['file_48.csv'],\n",
       " 'data_ingestion\\\\test\\\\file_49.csv': ['file_49.csv'],\n",
       " 'data_ingestion\\\\test\\\\file_5.csv': ['file_5.csv'],\n",
       " 'data_ingestion\\\\test\\\\file_50.csv': ['file_50.csv'],\n",
       " 'data_ingestion\\\\test\\\\file_51.csv': ['file_51.csv'],\n",
       " 'data_ingestion\\\\test\\\\file_52.csv': ['file_52.csv'],\n",
       " 'data_ingestion\\\\test\\\\file_53.csv': ['file_53.csv'],\n",
       " 'data_ingestion\\\\test\\\\file_54.csv': ['file_54.csv'],\n",
       " 'data_ingestion\\\\test\\\\file_55.csv': ['file_55.csv'],\n",
       " 'data_ingestion\\\\test\\\\file_56.csv': ['file_56.csv'],\n",
       " 'data_ingestion\\\\test\\\\file_57.csv': ['file_57.csv'],\n",
       " 'data_ingestion\\\\test\\\\file_58.csv': ['file_58.csv'],\n",
       " 'data_ingestion\\\\test\\\\file_59.csv': ['file_59.csv'],\n",
       " 'data_ingestion\\\\test\\\\file_6.csv': ['file_6.csv'],\n",
       " 'data_ingestion\\\\test\\\\file_60.csv': ['file_60.csv'],\n",
       " 'data_ingestion\\\\test\\\\file_61.csv': ['file_61.csv'],\n",
       " 'data_ingestion\\\\test\\\\file_62.csv': ['file_62.csv'],\n",
       " 'data_ingestion\\\\test\\\\file_63.csv': ['file_63.csv'],\n",
       " 'data_ingestion\\\\test\\\\file_7.csv': ['file_7.csv'],\n",
       " 'data_ingestion\\\\test\\\\file_8.csv': ['file_8.csv'],\n",
       " 'data_ingestion\\\\test\\\\file_9.csv': ['file_9.csv'],\n",
       " 'data_ingestion\\\\train\\\\file_0.csv': ['file_0.csv'],\n",
       " 'data_ingestion\\\\train\\\\file_1.csv': ['file_1.csv'],\n",
       " 'data_ingestion\\\\train\\\\file_10.csv': ['file_10.csv'],\n",
       " 'data_ingestion\\\\train\\\\file_11.csv': ['file_11.csv'],\n",
       " 'data_ingestion\\\\train\\\\file_12.csv': ['file_12.csv'],\n",
       " 'data_ingestion\\\\train\\\\file_13.csv': ['file_13.csv'],\n",
       " 'data_ingestion\\\\train\\\\file_14.csv': ['file_14.csv'],\n",
       " 'data_ingestion\\\\train\\\\file_15.csv': ['file_15.csv'],\n",
       " 'data_ingestion\\\\train\\\\file_16.csv': ['file_16.csv'],\n",
       " 'data_ingestion\\\\train\\\\file_17.csv': ['file_17.csv'],\n",
       " 'data_ingestion\\\\train\\\\file_18.csv': ['file_18.csv'],\n",
       " 'data_ingestion\\\\train\\\\file_19.csv': ['file_19.csv'],\n",
       " 'data_ingestion\\\\train\\\\file_2.csv': ['file_2.csv'],\n",
       " 'data_ingestion\\\\train\\\\file_20.csv': ['file_20.csv'],\n",
       " 'data_ingestion\\\\train\\\\file_21.csv': ['file_21.csv'],\n",
       " 'data_ingestion\\\\train\\\\file_22.csv': ['file_22.csv'],\n",
       " 'data_ingestion\\\\train\\\\file_23.csv': ['file_23.csv'],\n",
       " 'data_ingestion\\\\train\\\\file_24.csv': ['file_24.csv'],\n",
       " 'data_ingestion\\\\train\\\\file_25.csv': ['file_25.csv'],\n",
       " 'data_ingestion\\\\train\\\\file_26.csv': ['file_26.csv'],\n",
       " 'data_ingestion\\\\train\\\\file_27.csv': ['file_27.csv'],\n",
       " 'data_ingestion\\\\train\\\\file_28.csv': ['file_28.csv'],\n",
       " 'data_ingestion\\\\train\\\\file_29.csv': ['file_29.csv'],\n",
       " 'data_ingestion\\\\train\\\\file_3.csv': ['file_3.csv'],\n",
       " 'data_ingestion\\\\train\\\\file_30.csv': ['file_30.csv'],\n",
       " 'data_ingestion\\\\train\\\\file_31.csv': ['file_31.csv'],\n",
       " 'data_ingestion\\\\train\\\\file_32.csv': ['file_32.csv'],\n",
       " 'data_ingestion\\\\train\\\\file_33.csv': ['file_33.csv'],\n",
       " 'data_ingestion\\\\train\\\\file_34.csv': ['file_34.csv'],\n",
       " 'data_ingestion\\\\train\\\\file_35.csv': ['file_35.csv'],\n",
       " 'data_ingestion\\\\train\\\\file_36.csv': ['file_36.csv'],\n",
       " 'data_ingestion\\\\train\\\\file_37.csv': ['file_37.csv'],\n",
       " 'data_ingestion\\\\train\\\\file_38.csv': ['file_38.csv'],\n",
       " 'data_ingestion\\\\train\\\\file_39.csv': ['file_39.csv'],\n",
       " 'data_ingestion\\\\train\\\\file_4.csv': ['file_4.csv'],\n",
       " 'data_ingestion\\\\train\\\\file_40.csv': ['file_40.csv'],\n",
       " 'data_ingestion\\\\train\\\\file_41.csv': ['file_41.csv'],\n",
       " 'data_ingestion\\\\train\\\\file_42.csv': ['file_42.csv'],\n",
       " 'data_ingestion\\\\train\\\\file_43.csv': ['file_43.csv'],\n",
       " 'data_ingestion\\\\train\\\\file_44.csv': ['file_44.csv'],\n",
       " 'data_ingestion\\\\train\\\\file_45.csv': ['file_45.csv'],\n",
       " 'data_ingestion\\\\train\\\\file_46.csv': ['file_46.csv'],\n",
       " 'data_ingestion\\\\train\\\\file_47.csv': ['file_47.csv'],\n",
       " 'data_ingestion\\\\train\\\\file_48.csv': ['file_48.csv'],\n",
       " 'data_ingestion\\\\train\\\\file_49.csv': ['file_49.csv'],\n",
       " 'data_ingestion\\\\train\\\\file_5.csv': ['file_5.csv'],\n",
       " 'data_ingestion\\\\train\\\\file_50.csv': ['file_50.csv'],\n",
       " 'data_ingestion\\\\train\\\\file_51.csv': ['file_51.csv'],\n",
       " 'data_ingestion\\\\train\\\\file_52.csv': ['file_52.csv'],\n",
       " 'data_ingestion\\\\train\\\\file_53.csv': ['file_53.csv'],\n",
       " 'data_ingestion\\\\train\\\\file_54.csv': ['file_54.csv'],\n",
       " 'data_ingestion\\\\train\\\\file_55.csv': ['file_55.csv'],\n",
       " 'data_ingestion\\\\train\\\\file_56.csv': ['file_56.csv'],\n",
       " 'data_ingestion\\\\train\\\\file_57.csv': ['file_57.csv'],\n",
       " 'data_ingestion\\\\train\\\\file_58.csv': ['file_58.csv'],\n",
       " 'data_ingestion\\\\train\\\\file_59.csv': ['file_59.csv'],\n",
       " 'data_ingestion\\\\train\\\\file_6.csv': ['file_6.csv'],\n",
       " 'data_ingestion\\\\train\\\\file_60.csv': ['file_60.csv'],\n",
       " 'data_ingestion\\\\train\\\\file_61.csv': ['file_61.csv'],\n",
       " 'data_ingestion\\\\train\\\\file_62.csv': ['file_62.csv'],\n",
       " 'data_ingestion\\\\train\\\\file_63.csv': ['file_63.csv'],\n",
       " 'data_ingestion\\\\train\\\\file_7.csv': ['file_7.csv'],\n",
       " 'data_ingestion\\\\train\\\\file_8.csv': ['file_8.csv'],\n",
       " 'data_ingestion\\\\train\\\\file_9.csv': ['file_9.csv'],\n",
       " 'data_ingestion\\\\zip_data\\\\online-payments-fraud-detection-dataset.zip': ['online-payments-fraud-detection-dataset.zip'],\n",
       " 'experiment\\\\experiment.csv': ['experiment.csv'],\n",
       " 'model_evaluation\\\\input_schema.json': ['input_schema.json'],\n",
       " 'model_evaluation\\\\model_evaluation.yaml': ['model_evaluation.yaml'],\n",
       " 'model_trainer\\\\2023-12-07-21-48-06\\\\trained_model\\\\model.pkl': ['model.pkl'],\n",
       " 'model_trainer\\\\2023-12-07-21-56-06\\\\trained_model\\\\model.pkl': ['model.pkl'],\n",
       " 'model_trainer\\\\2023-12-08-02-42-06\\\\trained_model\\\\model.pkl': ['model.pkl'],\n",
       " 'model_trainer\\\\2023-12-16-00-31-26\\\\trained_model\\\\model.pkl': ['model.pkl'],\n",
       " 'saved_models\\\\2023-12-07-21-48-06\\\\model.pkl': ['model.pkl'],\n",
       " 'saved_models\\\\2023-12-07-21-56-06\\\\model.pkl': ['model.pkl'],\n",
       " 'saved_models\\\\2023-12-08-02-42-06\\\\model.pkl': ['model.pkl'],\n",
       " 'transformed_data\\\\preprocessed\\\\imputer_sampler.pkl': ['imputer_sampler.pkl'],\n",
       " 'transformed_data\\\\preprocessed\\\\preprocessed.pkl': ['preprocessed.pkl'],\n",
       " 'transformed_data\\\\test\\\\file_0.npz': ['file_0.npz'],\n",
       " 'transformed_data\\\\train\\\\file_0.npz': ['file_0.npz']}"
      ]
     },
     "execution_count": 11,
     "metadata": {},
     "output_type": "execute_result"
    }
   ],
   "source": [
    "\n",
    "def generate_hierarchy_dict(root_path):\n",
    "    try:\n",
    "        hierarchy_dict = {}\n",
    "\n",
    "        for item in os.listdir(root_path):\n",
    "            item_path = os.path.join(root_path, item)\n",
    "\n",
    "            if os.path.isdir(item_path):\n",
    "                # Recursively call the function for subdirectories\n",
    "                sub_dict = generate_hierarchy_dict(item_path)\n",
    "\n",
    "                # Merge common prefixes in keys\n",
    "                if sub_dict is not None:\n",
    "                    for key, value in sub_dict.items():\n",
    "                        full_key = os.path.join(item, key)\n",
    "                        hierarchy_dict[full_key] = value\n",
    "            elif os.path.isfile(item_path):\n",
    "                # If it's a file, add it to the dictionary\n",
    "                hierarchy_dict[item] = [item]\n",
    "        return hierarchy_dict\n",
    "    except Exception as e:\n",
    "        print(e)\n",
    "generate_hierarchy_dict(artifact_path)"
   ]
  },
  {
   "cell_type": "code",
   "execution_count": 1,
   "metadata": {},
   "outputs": [
    {
     "data": {
      "text/plain": [
       "'c:\\\\Users\\\\arunk\\\\FraudDetection'"
      ]
     },
     "execution_count": 1,
     "metadata": {},
     "output_type": "execute_result"
    }
   ],
   "source": [
    "import os\n",
    "os.chdir('../')\n",
    "os.getcwd()\n"
   ]
  },
  {
   "cell_type": "code",
   "execution_count": 19,
   "metadata": {},
   "outputs": [
    {
     "data": {
      "text/plain": [
       "'online-payments-fraud-detection-dataset'"
      ]
     },
     "execution_count": 19,
     "metadata": {},
     "output_type": "execute_result"
    }
   ],
   "source": [
    "import sys\n",
    "from pathlib import Path\n",
    "from zipfile import ZipFile\n",
    "import kaggle\n",
    "\n",
    "name = \"kaggle datasets download -d rupakroy/online-payments-fraud-detection-dataset\"\n",
    "fname = name[name.find(\"/\") + 1:]\n",
    "fname"
   ]
  },
  {
   "cell_type": "code",
   "execution_count": 38,
   "metadata": {},
   "outputs": [
    {
     "data": {
      "text/plain": [
       "'dataset'"
      ]
     },
     "execution_count": 38,
     "metadata": {},
     "output_type": "execute_result"
    }
   ],
   "source": [
    "from pathlib import Path\n",
    "zipfilename = os.path.basename(name.split('-')[-1])\n",
    "zipfilename"
   ]
  },
  {
   "cell_type": "code",
   "execution_count": 4,
   "metadata": {},
   "outputs": [
    {
     "name": "stderr",
     "output_type": "stream",
     "text": [
      "Traceback (most recent call last):\n",
      "  File \"C:\\Users\\arunk\\anaconda3\\envs\\FraudDetection\\lib\\runpy.py\", line 196, in _run_module_as_main\n",
      "    return _run_code(code, main_globals, None,\n",
      "  File \"C:\\Users\\arunk\\anaconda3\\envs\\FraudDetection\\lib\\runpy.py\", line 86, in _run_code\n",
      "    exec(code, run_globals)\n",
      "  File \"C:\\Users\\arunk\\anaconda3\\envs\\FraudDetection\\Scripts\\kaggle.exe\\__main__.py\", line 7, in <module>\n",
      "  File \"C:\\Users\\arunk\\anaconda3\\envs\\FraudDetection\\lib\\site-packages\\kaggle\\cli.py\", line 70, in main\n",
      "    out = args.func(**command_args)\n",
      "  File \"C:\\Users\\arunk\\anaconda3\\envs\\FraudDetection\\lib\\site-packages\\kaggle\\api\\kaggle_api_extended.py\", line 1493, in dataset_download_cli\n",
      "    self.dataset_download_files(dataset,\n",
      "  File \"C:\\Users\\arunk\\anaconda3\\envs\\FraudDetection\\lib\\site-packages\\kaggle\\api\\kaggle_api_extended.py\", line 1447, in dataset_download_files\n",
      "    self.download_file(response, outfile, quiet, not force)\n",
      "  File \"C:\\Users\\arunk\\anaconda3\\envs\\FraudDetection\\lib\\site-packages\\kaggle\\api\\kaggle_api_extended.py\", line 1834, in download_file\n",
      "    size = int(response.headers['Content-Length'])\n",
      "  File \"C:\\Users\\arunk\\anaconda3\\envs\\FraudDetection\\lib\\site-packages\\urllib3\\_collections.py\", line 157, in __getitem__\n",
      "    val = self._container[key.lower()]\n",
      "KeyError: 'content-length'\n"
     ]
    }
   ],
   "source": [
    "import kaggle\n",
    "! kaggle datasets download rupakroy/online-payments-fraud-detection-dataset"
   ]
  },
  {
   "cell_type": "code",
   "execution_count": 6,
   "metadata": {},
   "outputs": [],
   "source": [
    "import keyboard\n",
    "import threading\n",
    "\n",
    "def get_user_choice(timeout, max_retries=2):\n",
    "        print(\"Do you want to download data again? Options (Yes/No): \")\n",
    "\n",
    "        try:\n",
    "            choice = None\n",
    "            retries = 0\n",
    "            event = threading.Event()\n",
    "\n",
    "            def input_thread():\n",
    "                nonlocal choice, retries\n",
    "                user_input = keyboard.read_event(\n",
    "                    suppress=True,\n",
    "                ).name.capitalize()\n",
    "\n",
    "                if user_input in [\"Yes\", \"No\"]:\n",
    "                    choice = user_input\n",
    "                else:\n",
    "                    retries += 1\n",
    "                    print(\n",
    "                        f'Invalid choice. Please enter \"Yes\" or \"No\". Retry attempt {retries}/{max_retries}'\n",
    "                    )\n",
    "\n",
    "                    if retries >= max_retries:\n",
    "                        print(\"Maximum retries reached. Using default: No\")\n",
    "                        choice = \"No\"\n",
    "                        event.set()\n",
    "                    else:\n",
    "                        input_thread()\n",
    "\n",
    "            thread = threading.Thread(target=input_thread)\n",
    "            thread.start()\n",
    "\n",
    "            event_is_set = event.wait(timeout)\n",
    "\n",
    "            if not event_is_set:\n",
    "                choice = \"No\"\n",
    "                print(\"Timeout reached. Using default: No\")\n",
    "\n",
    "            return choice\n",
    "\n",
    "        except Exception as e:\n",
    "            print(f\"An error occurred: {e}\")"
   ]
  },
  {
   "cell_type": "code",
   "execution_count": 7,
   "metadata": {},
   "outputs": [
    {
     "name": "stdout",
     "output_type": "stream",
     "text": [
      "Do you want to download data again? Options (Yes/No): \n",
      "Invalid choice. Please enter \"Yes\" or \"No\". Retry attempt 1/2\n",
      "Invalid choice. Please enter \"Yes\" or \"No\". Retry attempt 2/2\n",
      "Maximum retries reached. Using default: No\n"
     ]
    },
    {
     "data": {
      "text/plain": [
       "'No'"
      ]
     },
     "execution_count": 7,
     "metadata": {},
     "output_type": "execute_result"
    }
   ],
   "source": [
    "get_user_choice(5)"
   ]
  },
  {
   "cell_type": "code",
   "execution_count": 1,
   "metadata": {},
   "outputs": [
    {
     "data": {
      "text/plain": [
       "'c:\\\\Users\\\\arunk\\\\FraudDetection'"
      ]
     },
     "execution_count": 1,
     "metadata": {},
     "output_type": "execute_result"
    }
   ],
   "source": [
    "import os\n",
    "\n",
    "from zipfile import ZipFile, ZipExtFile\n",
    "\n",
    "os.chdir(\"../\")\n",
    "os.getcwd()"
   ]
  },
  {
   "cell_type": "code",
   "execution_count": 7,
   "metadata": {},
   "outputs": [
    {
     "ename": "",
     "evalue": "",
     "output_type": "error",
     "traceback": [
      "\u001b[1;31mThe Kernel crashed while executing code in the the current cell or a previous cell. Please review the code in the cell(s) to identify a possible cause of the failure. Click <a href='https://aka.ms/vscodeJupyterKernelCrash'>here</a> for more info. View Jupyter <a href='command:jupyter.viewOutput'>log</a> for further details."
     ]
    }
   ],
   "source": [
    "import gzip\n",
    "from io import BytesIO\n",
    "import pandas as pd\n",
    "from pathlib import Path\n",
    "from zipfile import ZipFile\n",
    "\n",
    "try:\n",
    "    zipped_file = Path(\n",
    "        r\"C:\\Users\\arunk\\FraudDetection\\artifacts\\data_ingestion\\zip_data\\online-payments-fraud-detection-dataset.zip\"\n",
    "    )\n",
    "\n",
    "    with ZipFile(file=zipped_file, mode=\"r\") as zip_ref:\n",
    "        zip_ref.extractall(path=zipped_file.parent)\n",
    "\n",
    "except Exception as e:\n",
    "    # logging.info(f\"Error: Unable to gzip & upload file: {e}\")\n",
    "    print(e)"
   ]
  },
  {
   "cell_type": "code",
   "execution_count": 1,
   "metadata": {},
   "outputs": [
    {
     "ename": "ModuleNotFoundError",
     "evalue": "No module named 'project'",
     "output_type": "error",
     "traceback": [
      "\u001b[1;31m---------------------------------------------------------------------------\u001b[0m",
      "\u001b[1;31mModuleNotFoundError\u001b[0m                       Traceback (most recent call last)",
      "Cell \u001b[1;32mIn[1], line 2\u001b[0m\n\u001b[0;32m      1\u001b[0m \u001b[38;5;28;01mimport\u001b[39;00m \u001b[38;5;21;01mpytest\u001b[39;00m\n\u001b[1;32m----> 2\u001b[0m \u001b[38;5;28;01mfrom\u001b[39;00m \u001b[38;5;21;01mproject\u001b[39;00m\u001b[38;5;21;01m.\u001b[39;00m\u001b[38;5;21;01mutils\u001b[39;00m \u001b[38;5;28;01mimport\u001b[39;00m get_env_var_config\n\u001b[0;32m      3\u001b[0m \u001b[38;5;28;01mfrom\u001b[39;00m \u001b[38;5;21;01msnowflake\u001b[39;00m\u001b[38;5;21;01m.\u001b[39;00m\u001b[38;5;21;01msnowpark\u001b[39;00m\u001b[38;5;21;01m.\u001b[39;00m\u001b[38;5;21;01msession\u001b[39;00m \u001b[38;5;28;01mimport\u001b[39;00m Session\n\u001b[0;32m      6\u001b[0m \u001b[38;5;129m@pytest\u001b[39m\u001b[38;5;241m.\u001b[39mfixture\n\u001b[0;32m      7\u001b[0m \u001b[38;5;28;01mdef\u001b[39;00m \u001b[38;5;21msession\u001b[39m() \u001b[38;5;241m-\u001b[39m\u001b[38;5;241m>\u001b[39m Session:\n",
      "\u001b[1;31mModuleNotFoundError\u001b[0m: No module named 'project'"
     ]
    }
   ],
   "source": [
    "import pytest\n",
    "from project.utils import get_env_var_config\n",
    "from snowflake.snowpark.session import Session\n",
    "\n",
    "\n",
    "@pytest.fixture\n",
    "def session() -> Session:\n",
    "    return Session.builder.configs(get_env_var_config()).create()"
   ]
  },
  {
   "cell_type": "code",
   "execution_count": 11,
   "metadata": {},
   "outputs": [
    {
     "name": "stdout",
     "output_type": "stream",
     "text": [
      "                  10\n"
     ]
    }
   ],
   "source": [
    "print(\"%20d\" % 10)"
   ]
  },
  {
   "cell_type": "code",
   "execution_count": 19,
   "metadata": {},
   "outputs": [
    {
     "name": "stdout",
     "output_type": "stream",
     "text": [
      "SPam\n"
     ]
    }
   ],
   "source": [
    "class Book:\n",
    "    def __init__(self, context):\n",
    "        self.context = context\n",
    "\n",
    "    def getitem(self, index):\n",
    "        try:\n",
    "            page = self.context[index]\n",
    "        except IndexError:\n",
    "            page = \"Page not found...\"\n",
    "        return page\n",
    "\n",
    "\n",
    "book = Book([\"Eggs\", \"SPam\", \"Ham\"])\n",
    "\n",
    "print(book.getitem(1))"
   ]
  },
  {
   "cell_type": "code",
   "execution_count": 15,
   "metadata": {},
   "outputs": [
    {
     "name": "stdout",
     "output_type": "stream",
     "text": [
      "Enter 'yes' to download the data\n",
      " Enter.....\n",
      "\n",
      "__________The new data is not downloaded. The data must be already downloaded __________\n",
      "\n"
     ]
    }
   ],
   "source": [
    "print(f\"Enter 'yes' to download the data\\n {'Enter':.<10}\")\n",
    "print(\n",
    "    f\"\\n{'_':_>10}The new data is not downloaded. The data must be already downloaded {'_':_>10}\\n\"\n",
    ")"
   ]
  },
  {
   "cell_type": "code",
   "execution_count": 3,
   "metadata": {},
   "outputs": [],
   "source": [
    "assert isinstance(\"STR\", str) is True"
   ]
  },
  {
   "cell_type": "code",
   "execution_count": 7,
   "metadata": {},
   "outputs": [
    {
     "name": "stdout",
     "output_type": "stream",
     "text": [
      "[['[2023-12-27 09:33:10,866]', 'INFO', '64', '__init__.py', 'read_yaml()', 'yaml file:C:\\\\Users\\\\arunk\\\\FraudDetection\\\\configs\\\\config.yaml loaded successfully\\n'], ['[2023-12-27 09:33:10,866]', 'INFO', '38', '__init__.py', 'create_directories()', 'File already exists: C:\\\\Users\\\\arunk\\\\FraudDetection\\\\artifacts\\n'], ['[2023-12-27 09:34:36,256]', 'INFO', '64', '__init__.py', 'read_yaml()', 'yaml file:C:\\\\Users\\\\arunk\\\\FraudDetection\\\\configs\\\\config.yaml loaded successfully\\n'], ['[2023-12-27 09:34:36,262]', 'INFO', '38', '__init__.py', 'create_directories()', 'File already exists: C:\\\\Users\\\\arunk\\\\FraudDetection\\\\artifacts\\n'], ['[2023-12-27 09:43:16,762]', 'INFO', '64', '__init__.py', 'read_yaml()', 'yaml file:C:\\\\Users\\\\arunk\\\\FraudDetection\\\\configs\\\\config.yaml loaded successfully\\n'], ['[2023-12-27 09:43:16,765]', 'INFO', '38', '__init__.py', 'create_directories()', 'File already exists: C:\\\\Users\\\\arunk\\\\FraudDetection\\\\artifacts\\n']]\n"
     ]
    },
    {
     "data": {
      "text/html": [
       "<div>\n",
       "<style scoped>\n",
       "    .dataframe tbody tr th:only-of-type {\n",
       "        vertical-align: middle;\n",
       "    }\n",
       "\n",
       "    .dataframe tbody tr th {\n",
       "        vertical-align: top;\n",
       "    }\n",
       "\n",
       "    .dataframe thead th {\n",
       "        text-align: right;\n",
       "    }\n",
       "</style>\n",
       "<table border=\"1\" class=\"dataframe\">\n",
       "  <thead>\n",
       "    <tr style=\"text-align: right;\">\n",
       "      <th></th>\n",
       "      <th>log_message</th>\n",
       "    </tr>\n",
       "  </thead>\n",
       "  <tbody>\n",
       "    <tr>\n",
       "      <th>0</th>\n",
       "      <td>[2023-12-27 09:33:10,866]:$yaml file:C:\\Users\\...</td>\n",
       "    </tr>\n",
       "    <tr>\n",
       "      <th>1</th>\n",
       "      <td>[2023-12-27 09:33:10,866]:$File already exists...</td>\n",
       "    </tr>\n",
       "    <tr>\n",
       "      <th>2</th>\n",
       "      <td>[2023-12-27 09:34:36,256]:$yaml file:C:\\Users\\...</td>\n",
       "    </tr>\n",
       "    <tr>\n",
       "      <th>3</th>\n",
       "      <td>[2023-12-27 09:34:36,262]:$File already exists...</td>\n",
       "    </tr>\n",
       "    <tr>\n",
       "      <th>4</th>\n",
       "      <td>[2023-12-27 09:43:16,762]:$yaml file:C:\\Users\\...</td>\n",
       "    </tr>\n",
       "    <tr>\n",
       "      <th>5</th>\n",
       "      <td>[2023-12-27 09:43:16,765]:$File already exists...</td>\n",
       "    </tr>\n",
       "  </tbody>\n",
       "</table>\n",
       "</div>"
      ],
      "text/plain": [
       "                                         log_message\n",
       "0  [2023-12-27 09:33:10,866]:$yaml file:C:\\Users\\...\n",
       "1  [2023-12-27 09:33:10,866]:$File already exists...\n",
       "2  [2023-12-27 09:34:36,256]:$yaml file:C:\\Users\\...\n",
       "3  [2023-12-27 09:34:36,262]:$File already exists...\n",
       "4  [2023-12-27 09:43:16,762]:$yaml file:C:\\Users\\...\n",
       "5  [2023-12-27 09:43:16,765]:$File already exists..."
      ]
     },
     "execution_count": 7,
     "metadata": {},
     "output_type": "execute_result"
    }
   ],
   "source": [
    "import pandas as pd\n",
    "file_path = r\"C:\\Users\\arunk\\FraudDetection\\logs\\log_2023-12-27-09-33-10.log\"\n",
    "data = []\n",
    "with open(file_path) as log_file:\n",
    "    for line in log_file.readlines():\n",
    "        data.append(line.split(\"^;\"))\n",
    "print(data)\n",
    "df = pd.DataFrame(data)\n",
    "log_df = df.dropna()\n",
    "columns = [\n",
    "    \"Time Stamp\",\n",
    "    \"Log Level\",\n",
    "    \"line number\",\n",
    "    \"file name\",\n",
    "    \"function name\",\n",
    "    \"message\",\n",
    "]\n",
    "log_df.columns = columns\n",
    "log_df[\"log_message\"] = (\n",
    "    log_df[\"Time Stamp\"].astype(str, copy=False) + \":$\" + log_df[\"message\"]\n",
    ")\n",
    "\n",
    "log_df[[\"log_message\"]]"
   ]
  },
  {
   "cell_type": "code",
   "execution_count": 9,
   "metadata": {},
   "outputs": [
    {
     "data": {
      "text/plain": [
       "'c:\\\\Users\\\\arunk\\\\FraudDetection'"
      ]
     },
     "execution_count": 9,
     "metadata": {},
     "output_type": "execute_result"
    }
   ],
   "source": [
    "import os\n",
    "os.chdir(\"../\")\n",
    "os.getcwd()"
   ]
  },
  {
   "cell_type": "code",
   "execution_count": 10,
   "metadata": {},
   "outputs": [],
   "source": [
    "from fraudDetection.logger import logging\n",
    "\n",
    "logging.info(\"My NANE IS ARUN KHARE\")"
   ]
  },
  {
   "cell_type": "code",
   "execution_count": 2,
   "metadata": {},
   "outputs": [
    {
     "data": {
      "text/plain": [
       "72"
      ]
     },
     "execution_count": 2,
     "metadata": {},
     "output_type": "execute_result"
    }
   ],
   "source": [
    "from pathlib import Path\n",
    "\n",
    "dir = Path(r\"C:\\Users\\arunk\\FraudDetection\\artifacts\\data_ingestion\\raw_data\")\n",
    "\n",
    "dir.__sizeof__()\n",
    "import os\n",
    "\n",
    "os.path.getsize(dir)"
   ]
  },
  {
   "cell_type": "code",
   "execution_count": 12,
   "metadata": {},
   "outputs": [
    {
     "name": "stdout",
     "output_type": "stream",
     "text": [
      "Total size of files in directory 'C:\\Users\\arunk\\FraudDetection\\artifacts\\data_ingestion\\raw_data': 470.67 bytes\n"
     ]
    }
   ],
   "source": [
    "import os\n",
    "\n",
    "dir_path = Path(r\"C:\\Users\\arunk\\FraudDetection\\artifacts\\data_ingestion\\raw_data\")\n",
    "\n",
    "\n",
    "def get_directory_size(directory):\n",
    "    total_size = 0\n",
    "    for dirpath, dirnames, filenames in os.walk(directory):\n",
    "        for filename in filenames:\n",
    "            filepath = os.path.join(dirpath, filename)\n",
    "            total_size += os.path.getsize(filepath)\n",
    "    return total_size\n",
    "\n",
    "\n",
    "directory_size = get_directory_size(dir_path)\n",
    "\n",
    "print(\n",
    "    f\"Total size of files in directory '{dir_path}': {directory_size/(1024 ** 2):0.2f} bytes\"\n",
    ")"
   ]
  },
  {
   "cell_type": "code",
   "execution_count": 2,
   "metadata": {},
   "outputs": [
    {
     "name": "stdout",
     "output_type": "stream",
     "text": [
      "Do you want to download transaction data? (y/n)\n",
      "Downloading transaction data...\n"
     ]
    }
   ],
   "source": [
    "\n",
    "import sys\n",
    "import time\n",
    "import keyboard\n",
    "\n",
    "\n",
    "def download_transaction_data():\n",
    "    print(\"Downloading transaction data...\")\n",
    "\n",
    "\n",
    "def data_already_exists(message):\n",
    "    print(f\"Data already exists: {message}\")\n",
    "\n",
    "\n",
    "# Set the time limit for user input\n"
   ]
  },
  {
   "cell_type": "code",
   "execution_count": null,
   "metadata": {},
   "outputs": [],
   "source": [
    "n\n"
   ]
  },
  {
   "cell_type": "code",
   "execution_count": 6,
   "metadata": {},
   "outputs": [
    {
     "ename": "BadZipFile",
     "evalue": "File is not a zip file",
     "output_type": "error",
     "traceback": [
      "\u001b[1;31m---------------------------------------------------------------------------\u001b[0m",
      "\u001b[1;31mBadZipFile\u001b[0m                                Traceback (most recent call last)",
      "Cell \u001b[1;32mIn[6], line 5\u001b[0m\n\u001b[0;32m      2\u001b[0m \u001b[38;5;28;01mfrom\u001b[39;00m \u001b[38;5;21;01mpathlib\u001b[39;00m \u001b[38;5;28;01mimport\u001b[39;00m Path\n\u001b[0;32m      4\u001b[0m zip_file_path \u001b[38;5;241m=\u001b[39m  Path(\u001b[38;5;124mr\u001b[39m\u001b[38;5;124m\"\u001b[39m\u001b[38;5;124mC:\u001b[39m\u001b[38;5;124m\\\u001b[39m\u001b[38;5;124mUsers\u001b[39m\u001b[38;5;124m\\\u001b[39m\u001b[38;5;124marunk\u001b[39m\u001b[38;5;124m\\\u001b[39m\u001b[38;5;124mFraudDetection\u001b[39m\u001b[38;5;124m\\\u001b[39m\u001b[38;5;124martifacts\u001b[39m\u001b[38;5;124m\\\u001b[39m\u001b[38;5;124mdata_ingestion\u001b[39m\u001b[38;5;124m\\\u001b[39m\u001b[38;5;124mzip_dir\u001b[39m\u001b[38;5;124m\\\u001b[39m\u001b[38;5;124monline-payments-fraud-detection-dataset.zip\u001b[39m\u001b[38;5;124m\"\u001b[39m)\n\u001b[1;32m----> 5\u001b[0m \u001b[38;5;28;01mwith\u001b[39;00m \u001b[43mZipFile\u001b[49m\u001b[43m(\u001b[49m\u001b[43mzip_file_path\u001b[49m\u001b[43m,\u001b[49m\u001b[38;5;124;43m'\u001b[39;49m\u001b[38;5;124;43mr\u001b[39;49m\u001b[38;5;124;43m'\u001b[39;49m\u001b[43m)\u001b[49m \u001b[38;5;28;01mas\u001b[39;00m zip_file:\n\u001b[0;32m      6\u001b[0m     zip_file_path\u001b[38;5;241m.\u001b[39mextractall(\u001b[38;5;124m'\u001b[39m\u001b[38;5;124m.\u001b[39m\u001b[38;5;124m'\u001b[39m)\n",
      "File \u001b[1;32mc:\\Users\\arunk\\.conda\\envs\\FraudDetection\\lib\\zipfile.py:1258\u001b[0m, in \u001b[0;36mZipFile.__init__\u001b[1;34m(self, file, mode, compression, allowZip64, compresslevel, strict_timestamps)\u001b[0m\n\u001b[0;32m   1256\u001b[0m \u001b[38;5;28;01mtry\u001b[39;00m:\n\u001b[0;32m   1257\u001b[0m     \u001b[38;5;28;01mif\u001b[39;00m mode \u001b[38;5;241m==\u001b[39m \u001b[38;5;124m'\u001b[39m\u001b[38;5;124mr\u001b[39m\u001b[38;5;124m'\u001b[39m:\n\u001b[1;32m-> 1258\u001b[0m         \u001b[38;5;28;43mself\u001b[39;49m\u001b[38;5;241;43m.\u001b[39;49m\u001b[43m_RealGetContents\u001b[49m\u001b[43m(\u001b[49m\u001b[43m)\u001b[49m\n\u001b[0;32m   1259\u001b[0m     \u001b[38;5;28;01melif\u001b[39;00m mode \u001b[38;5;129;01min\u001b[39;00m (\u001b[38;5;124m'\u001b[39m\u001b[38;5;124mw\u001b[39m\u001b[38;5;124m'\u001b[39m, \u001b[38;5;124m'\u001b[39m\u001b[38;5;124mx\u001b[39m\u001b[38;5;124m'\u001b[39m):\n\u001b[0;32m   1260\u001b[0m         \u001b[38;5;66;03m# set the modified flag so central directory gets written\u001b[39;00m\n\u001b[0;32m   1261\u001b[0m         \u001b[38;5;66;03m# even if no files are added to the archive\u001b[39;00m\n\u001b[0;32m   1262\u001b[0m         \u001b[38;5;28mself\u001b[39m\u001b[38;5;241m.\u001b[39m_didModify \u001b[38;5;241m=\u001b[39m \u001b[38;5;28;01mTrue\u001b[39;00m\n",
      "File \u001b[1;32mc:\\Users\\arunk\\.conda\\envs\\FraudDetection\\lib\\zipfile.py:1325\u001b[0m, in \u001b[0;36mZipFile._RealGetContents\u001b[1;34m(self)\u001b[0m\n\u001b[0;32m   1323\u001b[0m     \u001b[38;5;28;01mraise\u001b[39;00m BadZipFile(\u001b[38;5;124m\"\u001b[39m\u001b[38;5;124mFile is not a zip file\u001b[39m\u001b[38;5;124m\"\u001b[39m)\n\u001b[0;32m   1324\u001b[0m \u001b[38;5;28;01mif\u001b[39;00m \u001b[38;5;129;01mnot\u001b[39;00m endrec:\n\u001b[1;32m-> 1325\u001b[0m     \u001b[38;5;28;01mraise\u001b[39;00m BadZipFile(\u001b[38;5;124m\"\u001b[39m\u001b[38;5;124mFile is not a zip file\u001b[39m\u001b[38;5;124m\"\u001b[39m)\n\u001b[0;32m   1326\u001b[0m \u001b[38;5;28;01mif\u001b[39;00m \u001b[38;5;28mself\u001b[39m\u001b[38;5;241m.\u001b[39mdebug \u001b[38;5;241m>\u001b[39m \u001b[38;5;241m1\u001b[39m:\n\u001b[0;32m   1327\u001b[0m     \u001b[38;5;28mprint\u001b[39m(endrec)\n",
      "\u001b[1;31mBadZipFile\u001b[0m: File is not a zip file"
     ]
    }
   ],
   "source": [
    "from zipfile import ZipFile\n",
    "from pathlib import Path\n",
    "\n",
    "zip_file_path =  Path(r\"C:\\Users\\arunk\\FraudDetection\\artifacts\\data_ingestion\\zip_dir\\online-payments-fraud-detection-dataset.zip\")\n",
    "with ZipFile(zip_file_path,'r') as zip_file:\n",
    "    zip_file_path.extractall('.')\n"
   ]
  },
  {
   "cell_type": "code",
   "execution_count": null,
   "metadata": {},
   "outputs": [],
   "source": [
    "from kaggle.api.kaggle_api_extended import KaggleApi\n",
    "from fraudDetection.utils import load_json\n",
    "from pathlib import Path\n",
    "import os\n",
    "def _authenticate_kaggle_api():\n",
    "        \"\"\"\n",
    "        Authenticate Kaggle API using Kaggle.json\n",
    "        return (str): api instance\n",
    "        \"\"\"\n",
    "        conn_location = Path (r\"C:\\Users\\arunk\\FraudDetection\\kaggle\\kaggle.json\")\n",
    "        connect = load_json(conn_location)\n",
    "        # Kaggle\n",
    "        os.environ[\"KAGGLE_CONFIG_DIR\"] = str(conn_location)\n",
    "        os.environ[\"KAGGLE_USERNAME\"] = connect[\"username\"]\n",
    "        os.environ[\"KAGGLE_KEY\"] = connect[\"key\"]\n",
    "        api = KaggleApi()\n",
    "        api.authenticate()\n",
    "        return api\n",
    "api = _authenticate_kaggle_api()\n",
    "\n",
    "api.dataset_download_files(\n",
    "    r\"rupakroy/online-payments-fraud-detection-dataset\", '.', unzip=True\n",
    ")"
   ]
  },
  {
   "cell_type": "code",
   "execution_count": 4,
   "metadata": {},
   "outputs": [],
   "source": [
    "import pandas as pd\n",
    "file_path = r\"C:\\Users\\arunk\\FraudDetection\\logs\\log_2024-01-11-13-33-31.log\"\n",
    "\n",
    "data =[]\n",
    "with open(file=file_path, encoding=\"utf-8\") as log_file:\n",
    "    for line in log_file.readlines():\n",
    "        data.append(line.split(\"^;\"))\n",
    "df = pd.DataFrame(data)\n",
    "log_df = df.dropna()\n",
    "columns = [\n",
    "    \"Time Stamp\",\n",
    "    \"Log Level\",\n",
    "    \"Line Number\",\n",
    "    \"File Name\",\n",
    "    \"Function Name\",\n",
    "    \"Message\",\n",
    "]\n",
    "log_df.columns = columns\n"
   ]
  },
  {
   "cell_type": "code",
   "execution_count": 17,
   "metadata": {},
   "outputs": [
    {
     "data": {
      "text/html": [
       "<div>\n",
       "<style scoped>\n",
       "    .dataframe tbody tr th:only-of-type {\n",
       "        vertical-align: middle;\n",
       "    }\n",
       "\n",
       "    .dataframe tbody tr th {\n",
       "        vertical-align: top;\n",
       "    }\n",
       "\n",
       "    .dataframe thead th {\n",
       "        text-align: right;\n",
       "    }\n",
       "</style>\n",
       "<table border=\"1\" class=\"dataframe\">\n",
       "  <thead>\n",
       "    <tr style=\"text-align: right;\">\n",
       "      <th></th>\n",
       "      <th>Time Stamp</th>\n",
       "      <th>Log Level</th>\n",
       "      <th>Line Number</th>\n",
       "      <th>File Name</th>\n",
       "      <th>Function Name</th>\n",
       "      <th>Message</th>\n",
       "      <th>log_message</th>\n",
       "    </tr>\n",
       "  </thead>\n",
       "  <tbody>\n",
       "    <tr>\n",
       "      <th>0</th>\n",
       "      <td>[2024-01-11 13:33:32,269]</td>\n",
       "      <td>INFO</td>\n",
       "      <td>86</td>\n",
       "      <td>__init__.py</td>\n",
       "      <td>read_yaml()</td>\n",
       "      <td>yaml file:C:\\Users\\arunk\\FraudDetection\\config...</td>\n",
       "      <td>[2024-01-11 13:33:32,269]:$yaml file:C:\\Users\\...</td>\n",
       "    </tr>\n",
       "    <tr>\n",
       "      <th>1</th>\n",
       "      <td>[2024-01-11 13:33:32,288]</td>\n",
       "      <td>INFO</td>\n",
       "      <td>159</td>\n",
       "      <td>__init__.py</td>\n",
       "      <td>load_json()</td>\n",
       "      <td>json file loaded successfully from:{path}\\n</td>\n",
       "      <td>[2024-01-11 13:33:32,288]:$json file loaded su...</td>\n",
       "    </tr>\n",
       "    <tr>\n",
       "      <th>2</th>\n",
       "      <td>[2024-01-11 13:33:32,288]</td>\n",
       "      <td>INFO</td>\n",
       "      <td>57</td>\n",
       "      <td>trainingapp.py</td>\n",
       "      <td>set_tracking_uri()</td>\n",
       "      <td>Tracking URI set sqlite:///mlruns.db\\n</td>\n",
       "      <td>[2024-01-11 13:33:32,288]:$Tracking URI set sq...</td>\n",
       "    </tr>\n",
       "    <tr>\n",
       "      <th>3</th>\n",
       "      <td>[2024-01-11 13:33:32,329]</td>\n",
       "      <td>INFO</td>\n",
       "      <td>86</td>\n",
       "      <td>__init__.py</td>\n",
       "      <td>read_yaml()</td>\n",
       "      <td>yaml file:C:\\Users\\arunk\\FraudDetection\\config...</td>\n",
       "      <td>[2024-01-11 13:33:32,329]:$yaml file:C:\\Users\\...</td>\n",
       "    </tr>\n",
       "    <tr>\n",
       "      <th>4</th>\n",
       "      <td>[2024-01-11 13:33:32,329]</td>\n",
       "      <td>INFO</td>\n",
       "      <td>61</td>\n",
       "      <td>__init__.py</td>\n",
       "      <td>create_directories()</td>\n",
       "      <td>File already exists: C:\\Users\\arunk\\FraudDetec...</td>\n",
       "      <td>[2024-01-11 13:33:32,329]:$File already exists...</td>\n",
       "    </tr>\n",
       "  </tbody>\n",
       "</table>\n",
       "</div>"
      ],
      "text/plain": [
       "                  Time Stamp Log Level Line Number       File Name  \\\n",
       "0  [2024-01-11 13:33:32,269]      INFO          86     __init__.py   \n",
       "1  [2024-01-11 13:33:32,288]      INFO         159     __init__.py   \n",
       "2  [2024-01-11 13:33:32,288]      INFO          57  trainingapp.py   \n",
       "3  [2024-01-11 13:33:32,329]      INFO          86     __init__.py   \n",
       "4  [2024-01-11 13:33:32,329]      INFO          61     __init__.py   \n",
       "\n",
       "          Function Name                                            Message  \\\n",
       "0           read_yaml()  yaml file:C:\\Users\\arunk\\FraudDetection\\config...   \n",
       "1           load_json()        json file loaded successfully from:{path}\\n   \n",
       "2    set_tracking_uri()             Tracking URI set sqlite:///mlruns.db\\n   \n",
       "3           read_yaml()  yaml file:C:\\Users\\arunk\\FraudDetection\\config...   \n",
       "4  create_directories()  File already exists: C:\\Users\\arunk\\FraudDetec...   \n",
       "\n",
       "                                         log_message  \n",
       "0  [2024-01-11 13:33:32,269]:$yaml file:C:\\Users\\...  \n",
       "1  [2024-01-11 13:33:32,288]:$json file loaded su...  \n",
       "2  [2024-01-11 13:33:32,288]:$Tracking URI set sq...  \n",
       "3  [2024-01-11 13:33:32,329]:$yaml file:C:\\Users\\...  \n",
       "4  [2024-01-11 13:33:32,329]:$File already exists...  "
      ]
     },
     "execution_count": 17,
     "metadata": {},
     "output_type": "execute_result"
    }
   ],
   "source": [
    "# log_df.loc[:, \"log_message\"] = (\n",
    "    #     log_df[\"Time Stamp\"].astype(str) + \"^; \" + log_df[\"Message\"]\n",
    "log_df = log_df.assign(\n",
    "        log_message=log_df.loc[:, \"Time Stamp\"].astype(str) + \":$\" + log_df.loc[:, \"Message\"]\n",
    "    )\n",
    "log_df[:5]"
   ]
  },
  {
   "cell_type": "code",
   "execution_count": 15,
   "metadata": {},
   "outputs": [
    {
     "data": {
      "text/plain": [
       "0    [2024-01-11 13:33:32,269]:$ yaml file:C:\\Users...\n",
       "1    [2024-01-11 13:33:32,288]:$ json file loaded s...\n",
       "2    [2024-01-11 13:33:32,288]:$ Tracking URI set s...\n",
       "3    [2024-01-11 13:33:32,329]:$ yaml file:C:\\Users...\n",
       "4    [2024-01-11 13:33:32,329]:$ File already exist...\n",
       "5    [2024-01-11 13:33:39,520]:$ json file loaded s...\n",
       "Name: log_message, dtype: object"
      ]
     },
     "execution_count": 15,
     "metadata": {},
     "output_type": "execute_result"
    }
   ],
   "source": [
    "log_df.loc[:5, \"log_message\"]"
   ]
  },
  {
   "cell_type": "code",
   "execution_count": null,
   "metadata": {},
   "outputs": [],
   "source": []
  }
 ],
 "metadata": {
  "kernelspec": {
   "display_name": "Python 3",
   "language": "python",
   "name": "python3"
  },
  "language_info": {
   "codemirror_mode": {
    "name": "ipython",
    "version": 3
   },
   "file_extension": ".py",
   "mimetype": "text/x-python",
   "name": "python",
   "nbconvert_exporter": "python",
   "pygments_lexer": "ipython3",
   "version": "3.10.0"
  },
  "orig_nbformat": 4
 },
 "nbformat": 4,
 "nbformat_minor": 2
}
