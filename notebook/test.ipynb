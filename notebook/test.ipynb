{
 "cells": [
  {
   "cell_type": "code",
   "execution_count": 3,
   "metadata": {},
   "outputs": [],
   "source": [
    "import os\n",
    "\n",
    "os.getcwd()\n",
    "os.chdir(\"../\")\n",
    "os.chdir(\"docs/source\")"
   ]
  },
  {
   "cell_type": "code",
   "execution_count": 46,
   "metadata": {},
   "outputs": [
    {
     "data": {
      "text/plain": [
       "'C:\\\\Users\\\\arunk\\\\FraudDetection'"
      ]
     },
     "execution_count": 46,
     "metadata": {},
     "output_type": "execute_result"
    }
   ],
   "source": [
    "import sys\n",
    "\n",
    "from pathlib import Path\n",
    "\n",
    "path = Path(r\"C:/Users/arunk/FraudDetection/docs/source/conf.py\")\n",
    "path1 = Path(r\"C:/Users/arunk/FraudDetection/src\")\n",
    "\n",
    "os.getcwd()\n",
    "os.path.abspath(\"..\")\n",
    "# sys.path.insert(0, os.path.abspath(\"..\"))\n",
    "# print(sys.path)\n",
    "parent_of_config = path.parent\n",
    "parent_of_src = path1.parent\n",
    "os.path.abspath(parent_of_config)\n",
    "parent_of_src\n",
    "os.path.dirname(path)\n",
    "os.path.abspath(os.path.join(\n",
    "    (os.path.abspath(os.path.join(os.path.dirname(path), \"..\"))), \"..\"\n",
    "))"
   ]
  },
  {
   "cell_type": "code",
   "execution_count": null,
   "metadata": {},
   "outputs": [],
   "source": [
    "from pathlib import Path\n",
    "import yaml\n",
    "import os\n",
    "\n",
    "\n",
    "def read_yaml(file_path: Path) -> dict:\n",
    "    if not file_path.is_file():\n",
    "        raise FileNotFoundError(f\"{file_path} does not exist.\")\n",
    "    if os.stat(file_path).st_size == 0:\n",
    "        raise ValueError(f\"{file_path} is empty.\")\n",
    "    file_path = str(file_path)\n",
    "\n",
    "    with open(file_path, \"r\") as f:\n",
    "        content = yaml.safe_load(f)\n",
    "        return content\n",
    "\n",
    "\n",
    "best_model = Path(\n",
    "    \"C:/Users/arunk/FraudDetection/artifacts/model_evaluation/model_evaluation.yaml\"\n",
    ")\n",
    "\n",
    "read_yaml(best_model)"
   ]
  },
  {
   "cell_type": "code",
   "execution_count": 8,
   "metadata": {},
   "outputs": [
    {
     "ename": "SyntaxError",
     "evalue": "(unicode error) 'unicodeescape' codec can't decode bytes in position 35-36: truncated \\UXXXXXXXX escape (3060751692.py, line 18)",
     "output_type": "error",
     "traceback": [
      "\u001b[1;36m  Cell \u001b[1;32mIn[8], line 18\u001b[1;36m\u001b[0m\n\u001b[1;33m    \"\"\"\u001b[0m\n\u001b[1;37m       ^\u001b[0m\n\u001b[1;31mSyntaxError\u001b[0m\u001b[1;31m:\u001b[0m (unicode error) 'unicodeescape' codec can't decode bytes in position 35-36: truncated \\UXXXXXXXX escape\n"
     ]
    }
   ],
   "source": [
    "\n",
    "def write_yaml(file_path: Path, data: dict) -> yaml:\n",
    "        dir_path = os.path.dirname(file_path)\n",
    "        os.makedirs(dir_path, exist_ok=True)\n",
    "        with open(file=file_path, mode=\"w\") as yaml_file:\n",
    "            yaml.safe_dump(data=data, stream=yaml_file)\n",
    "\n",
    "\n",
    "model_configs = \"\"\"\n",
    "    best_model:\n",
    "  model_path: C:\\Users\\arunk\\FraudDetection\\artifacts\\model_trainer\\2024-01-18-19-39-43\\trained_model\\model.pkl\n",
    "history:\n",
    "  2024-01-16-19-30-01:\n",
    "    model_path: C:\\Users\\arunk\\FraudDetection\\artifacts\\model_trainer\\2024-01-16-19-30-01\\trained_model\\model.pkl\n",
    "  2024-01-18-18-48-43:\n",
    "    model_path: C:\\Users\\arunk\\FraudDetection\\artifacts\\model_trainer\\2024-01-16-19-30-01\\trained_model\\model.pkl\n",
    "  2024-01-18-19-39-43:\n",
    "    model_path: C:\\Users\\arunk\\FraudDetection\\artifacts\\model_trainer\\2024-01-18-18-48-43\\trained_model\\model.pkl}\n",
    "\"\"\"\n",
    "yaml.safe_dump(model_configs,'.')"
   ]
  },
  {
   "cell_type": "code",
   "execution_count": 127,
   "metadata": {},
   "outputs": [],
   "source": [
    "from pathlib import Path\n",
    "\n",
    "ROOT_DIR = os.getcwd()\n",
    "full_path = Path(\n",
    "    r\"C:\\Users\\arunk\\FraudDetection\\artifacts\\model_trainer\\2024-01-18-19-39-43\\trained_model\\model.pkl\"\n",
    ")\n",
    "absp = full_path.relative_to(ROOT_DIR)\n",
    "best = dict(model_path=absp)\n",
    "path = \"best_path.yaml\"\n",
    "with open(path, \"w\") as f:\n",
    "    yaml.dump(best, f)"
   ]
  },
  {
   "cell_type": "code",
   "execution_count": 114,
   "metadata": {},
   "outputs": [
    {
     "name": "stdout",
     "output_type": "stream",
     "text": [
      "{'model_path': WindowsPath('artifacts/model_trainer/2024-01-18-19-39-43/trained_model/model.pkl')}\n"
     ]
    }
   ],
   "source": [
    "Path = os.getcwd()+'/'+'best_path.yaml'\n",
    "with open(path,'r') as f:\n",
    "    content = yaml.load(f,Loader=yaml.Loader)\n",
    "\n",
    "print(content)"
   ]
  },
  {
   "cell_type": "code",
   "execution_count": null,
   "metadata": {},
   "outputs": [],
   "source": []
  }
 ],
 "metadata": {
  "kernelspec": {
   "display_name": "FraudDetection",
   "language": "python",
   "name": "python3"
  },
  "language_info": {
   "codemirror_mode": {
    "name": "ipython",
    "version": 3
   },
   "file_extension": ".py",
   "mimetype": "text/x-python",
   "name": "python",
   "nbconvert_exporter": "python",
   "pygments_lexer": "ipython3",
   "version": "3.10.0"
  }
 },
 "nbformat": 4,
 "nbformat_minor": 2
}
