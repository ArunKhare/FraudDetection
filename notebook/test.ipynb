{
 "cells": [
  {
   "cell_type": "code",
   "execution_count": 3,
   "metadata": {},
   "outputs": [],
   "source": [
    "import os\n",
    "\n",
    "os.getcwd()\n",
    "os.chdir(\"../\")\n",
    "os.chdir(\"docs/source\")"
   ]
  },
  {
   "cell_type": "code",
   "execution_count": 46,
   "metadata": {},
   "outputs": [
    {
     "data": {
      "text/plain": [
       "'C:\\\\Users\\\\arunk\\\\FraudDetection'"
      ]
     },
     "execution_count": 46,
     "metadata": {},
     "output_type": "execute_result"
    }
   ],
   "source": [
    "import sys\n",
    "\n",
    "from pathlib import Path\n",
    "\n",
    "path = Path(r\"C:\\Users\\arunk\\FraudDetection\\docs\\source\\conf.py\")\n",
    "path1 = Path(r\"C:\\Users\\arunk\\FraudDetection\\src\")\n",
    "\n",
    "os.getcwd()\n",
    "os.path.abspath(\"..\")\n",
    "# sys.path.insert(0, os.path.abspath(\"..\"))\n",
    "# print(sys.path)\n",
    "parent_of_config = path.parent\n",
    "parent_of_src = path1.parent\n",
    "os.path.abspath(parent_of_config)\n",
    "parent_of_src\n",
    "os.path.dirname(path)\n",
    "os.path.abspath(os.path.join(\n",
    "    (os.path.abspath(os.path.join(os.path.dirname(path), \"..\"))), \"..\"\n",
    "))"
   ]
  },
  {
   "cell_type": "code",
   "execution_count": 13,
   "metadata": {},
   "outputs": [
    {
     "data": {
      "text/plain": [
       "'C:\\\\Users\\\\arunk\\\\FraudDetection\\\\docs\\\\source'"
      ]
     },
     "execution_count": 13,
     "metadata": {},
     "output_type": "execute_result"
    }
   ],
   "source": [
    "\n",
    "\n",
    "\n",
    "# root_dir = os.path.abspath(os.path.join(os.path.dirname(path), \"..\"))\n",
    "# print(root_dir)\n",
    "# # Add the root directory to sys.path\n",
    "# sys.path.insert(0, root_dir)\n",
    "\n",
    "# # Add Root/src to sys.path\n",
    "# src_dir = os.path.join(root_dir, \"src\")\n",
    "# sys.path.insert(1, src_dir)\n",
    "os.path.dirname(path)"
   ]
  },
  {
   "cell_type": "code",
   "execution_count": 10,
   "metadata": {},
   "outputs": [
    {
     "name": "stdout",
     "output_type": "stream",
     "text": [
      "Current working directory: c:\\Users\\arunk\\FraudDetection\n",
      "Inserting Root/src into sys.path\n",
      "Updated sys.path: ['c:\\\\Users\\\\arunk\\\\FraudDetection\\\\notebook', 'c:\\\\Users\\\\arunk\\\\src', 'c:\\\\Users\\\\arunk\\\\.conda\\\\envs\\\\FraudDetection\\\\python310.zip', 'c:\\\\Users\\\\arunk\\\\.conda\\\\envs\\\\FraudDetection\\\\DLLs', 'c:\\\\Users\\\\arunk\\\\.conda\\\\envs\\\\FraudDetection\\\\lib', 'c:\\\\Users\\\\arunk\\\\.conda\\\\envs\\\\FraudDetection', '', 'c:\\\\Users\\\\arunk\\\\.conda\\\\envs\\\\FraudDetection\\\\lib\\\\site-packages', 'C:\\\\Users\\\\arunk\\\\FraudDetection\\\\src', 'c:\\\\Users\\\\arunk\\\\.conda\\\\envs\\\\FraudDetection\\\\lib\\\\site-packages\\\\win32', 'c:\\\\Users\\\\arunk\\\\.conda\\\\envs\\\\FraudDetection\\\\lib\\\\site-packages\\\\win32\\\\lib', 'c:\\\\Users\\\\arunk\\\\.conda\\\\envs\\\\FraudDetection\\\\lib\\\\site-packages\\\\Pythonwin']\n"
     ]
    }
   ],
   "source": [
    "# sys.path.insert(0, os.path.abspath(\"..\"))\n",
    "# sys.path.insert(1, os.path.abspath(\"../src\"))\n",
    "import sys\n",
    "\n",
    "print(\"Current working directory:\", os.getcwd())\n",
    "print(\"Inserting Root/src into sys.path\")\n",
    "sys.path.insert(1, os.path.abspath(\"../src\"))\n",
    "print(\"Updated sys.path:\", sys.path)"
   ]
  },
  {
   "cell_type": "code",
   "execution_count": null,
   "metadata": {},
   "outputs": [],
   "source": []
  }
 ],
 "metadata": {
  "kernelspec": {
   "display_name": "FraudDetection",
   "language": "python",
   "name": "python3"
  },
  "language_info": {
   "codemirror_mode": {
    "name": "ipython",
    "version": 3
   },
   "file_extension": ".py",
   "mimetype": "text/x-python",
   "name": "python",
   "nbconvert_exporter": "python",
   "pygments_lexer": "ipython3",
   "version": "3.10.0"
  }
 },
 "nbformat": 4,
 "nbformat_minor": 2
}
