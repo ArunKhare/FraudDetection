{
 "cells": [
  {
   "cell_type": "code",
   "execution_count": 3,
   "metadata": {},
   "outputs": [],
   "source": [
    "import os\n",
    "\n",
    "os.getcwd()\n",
    "os.chdir(\"../\")\n",
    "os.chdir(\"docs/source\")"
   ]
  },
  {
   "cell_type": "code",
   "execution_count": 46,
   "metadata": {},
   "outputs": [
    {
     "data": {
      "text/plain": [
       "'C:\\\\Users\\\\arunk\\\\FraudDetection'"
      ]
     },
     "execution_count": 46,
     "metadata": {},
     "output_type": "execute_result"
    }
   ],
   "source": [
    "import sys\n",
    "\n",
    "from pathlib import Path\n",
    "\n",
    "path = Path(r\"C:/Users/arunk/FraudDetection/docs/source/conf.py\")\n",
    "path1 = Path(r\"C:/Users/arunk/FraudDetection/src\")\n",
    "\n",
    "os.getcwd()\n",
    "os.path.abspath(\"..\")\n",
    "# sys.path.insert(0, os.path.abspath(\"..\"))\n",
    "# print(sys.path)\n",
    "parent_of_config = path.parent\n",
    "parent_of_src = path1.parent\n",
    "os.path.abspath(parent_of_config)\n",
    "parent_of_src\n",
    "os.path.dirname(path)\n",
    "os.path.abspath(os.path.join(\n",
    "    (os.path.abspath(os.path.join(os.path.dirname(path), \"..\"))), \"..\"\n",
    "))"
   ]
  },
  {
   "cell_type": "code",
   "execution_count": null,
   "metadata": {},
   "outputs": [],
   "source": [
    "from pathlib import Path\n",
    "import yaml\n",
    "import os\n",
    "\n",
    "\n",
    "def read_yaml(file_path: Path) -> dict:\n",
    "    if not file_path.is_file():\n",
    "        raise FileNotFoundError(f\"{file_path} does not exist.\")\n",
    "    if os.stat(file_path).st_size == 0:\n",
    "        raise ValueError(f\"{file_path} is empty.\")\n",
    "    file_path = str(file_path)\n",
    "\n",
    "    with open(file_path, \"r\") as f:\n",
    "        content = yaml.safe_load(f)\n",
    "        return content\n",
    "\n",
    "\n",
    "best_model = Path(\n",
    "    \"C:/Users/arunk/FraudDetection/artifacts/model_evaluation/model_evaluation.yaml\"\n",
    ")\n",
    "\n",
    "read_yaml(best_model)"
   ]
  },
  {
   "cell_type": "code",
   "execution_count": 8,
   "metadata": {},
   "outputs": [
    {
     "ename": "SyntaxError",
     "evalue": "(unicode error) 'unicodeescape' codec can't decode bytes in position 35-36: truncated \\UXXXXXXXX escape (3060751692.py, line 18)",
     "output_type": "error",
     "traceback": [
      "\u001b[1;36m  Cell \u001b[1;32mIn[8], line 18\u001b[1;36m\u001b[0m\n\u001b[1;33m    \"\"\"\u001b[0m\n\u001b[1;37m       ^\u001b[0m\n\u001b[1;31mSyntaxError\u001b[0m\u001b[1;31m:\u001b[0m (unicode error) 'unicodeescape' codec can't decode bytes in position 35-36: truncated \\UXXXXXXXX escape\n"
     ]
    }
   ],
   "source": [
    "\n",
    "def write_yaml(file_path: Path, data: dict) -> yaml:\n",
    "        dir_path = os.path.dirname(file_path)\n",
    "        os.makedirs(dir_path, exist_ok=True)\n",
    "        with open(file=file_path, mode=\"w\") as yaml_file:\n",
    "            yaml.safe_dump(data=data, stream=yaml_file)\n",
    "\n",
    "\n",
    "model_configs = \"\"\"\n",
    "    best_model:\n",
    "  model_path: C:\\Users\\arunk\\FraudDetection\\artifacts\\model_trainer\\2024-01-18-19-39-43\\trained_model\\model.pkl\n",
    "history:\n",
    "  2024-01-16-19-30-01:\n",
    "    model_path: C:\\Users\\arunk\\FraudDetection\\artifacts\\model_trainer\\2024-01-16-19-30-01\\trained_model\\model.pkl\n",
    "  2024-01-18-18-48-43:\n",
    "    model_path: C:\\Users\\arunk\\FraudDetection\\artifacts\\model_trainer\\2024-01-16-19-30-01\\trained_model\\model.pkl\n",
    "  2024-01-18-19-39-43:\n",
    "    model_path: C:\\Users\\arunk\\FraudDetection\\artifacts\\model_trainer\\2024-01-18-18-48-43\\trained_model\\model.pkl}\n",
    "\"\"\"\n",
    "yaml.safe_dump(model_configs,'.')"
   ]
  },
  {
   "cell_type": "code",
   "execution_count": 15,
   "metadata": {},
   "outputs": [],
   "source": [
    "from pathlib import Path\n",
    "import yaml\n",
    "ROOT_DIR = os.getcwd()\n",
    "full_path = Path(\n",
    "    r\"C:\\Users\\arunk\\FraudDetection\\artifacts\\model_trainer\\2024-01-18-19-39-43\\trained_model\\model.pkl\"\n",
    ")\n",
    "absp = full_path.relative_to(ROOT_DIR)\n",
    "best = dict(model_path=absp)\n",
    "path = \"best_path.yaml\"\n",
    "with open(path, \"w\") as f:\n",
    "    yaml.dump(best, f)"
   ]
  },
  {
   "cell_type": "code",
   "execution_count": 7,
   "metadata": {},
   "outputs": [
    {
     "name": "stdout",
     "output_type": "stream",
     "text": [
      "{'model_path': WindowsPath('artifacts/model_trainer/2024-01-18-19-39-43/trained_model/model.pkl')}\n"
     ]
    }
   ],
   "source": [
    "Path = os.getcwd()+'/'+'best_path.yaml'\n",
    "with open(path,'r') as f:\n",
    "    content = yaml.load(f,Loader=yaml.Loader)\n",
    "\n",
    "print(content)"
   ]
  },
  {
   "cell_type": "code",
   "execution_count": 22,
   "metadata": {},
   "outputs": [],
   "source": [
    "import os\n",
    "\n",
    "not_path = os.path.normpath(absp)\n",
    "best = dict(model_path=not_path)\n",
    "\n",
    "\"\"\"\n",
    "model:{not_path}\n",
    "\"\"\"\n",
    "\n",
    "with open(path, \"w\") as f:\n",
    "    yaml.safe_dump(not_path)"
   ]
  },
  {
   "cell_type": "code",
   "execution_count": 18,
   "metadata": {},
   "outputs": [
    {
     "data": {
      "text/plain": [
       "'artifacts\\\\model_trainer\\\\2024-01-18-19-39-43\\\\trained_model\\\\model.pkl'"
      ]
     },
     "execution_count": 18,
     "metadata": {},
     "output_type": "execute_result"
    }
   ],
   "source": [
    "not_path"
   ]
  },
  {
   "cell_type": "code",
   "execution_count": 21,
   "metadata": {},
   "outputs": [],
   "source": [
    "with open(path, \"w\") as f:\n",
    "    yaml.load(best,yaml.Loader )"
   ]
  },
  {
   "cell_type": "code",
   "execution_count": 23,
   "metadata": {},
   "outputs": [],
   "source": [
    "paths = {\n",
    "    \"path1\": os.path.abspath(\n",
    "        \"artifacts\\\\model_trainer\\\\2024-01-18-19-39-43\\\\trained_model\\\\model.pkl\"\n",
    "    ),\n",
    "    \"path2\": os.path.abspath(\n",
    "        \"artifacts\\\\model_trainer\\\\2024-01-18-19-39-43\\\\trained_model\\\\model.pkl\"\n",
    "    ),\n",
    "}\n",
    "\n",
    "with open(\"paths.yaml\", \"w\") as file:\n",
    "    yaml.dump(paths, file)"
   ]
  },
  {
   "cell_type": "code",
   "execution_count": 41,
   "metadata": {},
   "outputs": [
    {
     "data": {
      "text/plain": [
       "'c:\\\\Users\\\\arunk\\\\FraudDetection\\\\artifacts\\\\model_trainer\\\\2024-01-18-19-39-43\\\\trained_model\\\\model.pkl'"
      ]
     },
     "execution_count": 41,
     "metadata": {},
     "output_type": "execute_result"
    }
   ],
   "source": [
    "Paths = str(Path(\"artifacts\\\\model_trainer\\\\2024-01-18-19-39-43\\\\trained_model\\\\model.pkl\"))\n",
    "model_evaluation_dict = {\n",
    "    \"BEST_MODEL_KEY\": {\"MODEL_PATH_KEY\": str(absp)},\n",
    "}\n",
    "with open(\"paths.yaml\", \"w\") as file:\n",
    "    yaml.safe_dump(model_evaluation_dict, file)\n",
    "\n",
    "with open(\"paths.yaml\", \"r\") as f:\n",
    "    content = yaml.safe_load(f)\n",
    "content\n",
    "os.path.abspath(content[\"BEST_MODEL_KEY\"][\"MODEL_PATH_KEY\"])"
   ]
  },
  {
   "cell_type": "code",
   "execution_count": 1,
   "metadata": {},
   "outputs": [
    {
     "data": {
      "text/plain": [
       "'c:\\\\Users\\\\arunk\\\\FraudDetection'"
      ]
     },
     "execution_count": 1,
     "metadata": {},
     "output_type": "execute_result"
    }
   ],
   "source": [
    "import os\n",
    "os.chdir('..')\n",
    "os.getcwd()"
   ]
  },
  {
   "cell_type": "code",
   "execution_count": 4,
   "metadata": {},
   "outputs": [
    {
     "ename": "AttributeError",
     "evalue": "'str' object has no attribute 'as_posix'",
     "output_type": "error",
     "traceback": [
      "\u001b[1;31m---------------------------------------------------------------------------\u001b[0m",
      "\u001b[1;31mAttributeError\u001b[0m                            Traceback (most recent call last)",
      "Cell \u001b[1;32mIn[4], line 21\u001b[0m\n\u001b[0;32m     14\u001b[0m model_eval_file_content \u001b[38;5;241m=\u001b[39m read_yaml(\n\u001b[0;32m     15\u001b[0m                     file_path\u001b[38;5;241m=\u001b[39mmodel_evaluation_file_path\n\u001b[0;32m     16\u001b[0m                 )\n\u001b[0;32m     17\u001b[0m model_eval_file_content \u001b[38;5;241m=\u001b[39m (\n\u001b[0;32m     18\u001b[0m                 \u001b[38;5;28mdict\u001b[39m() \u001b[38;5;28;01mif\u001b[39;00m model_eval_file_content \u001b[38;5;129;01mis\u001b[39;00m \u001b[38;5;28;01mNone\u001b[39;00m \u001b[38;5;28;01melse\u001b[39;00m model_eval_file_content\n\u001b[0;32m     19\u001b[0m             )\n\u001b[0;32m     20\u001b[0m best_model_path \u001b[38;5;241m=\u001b[39m ROOT_DIR\u001b[38;5;241m.\u001b[39mjoinpath(\n\u001b[1;32m---> 21\u001b[0m                 \u001b[43mmodel_eval_file_content\u001b[49m\u001b[43m[\u001b[49m\u001b[43mBEST_MODEL_KEY\u001b[49m\u001b[43m]\u001b[49m\u001b[43m[\u001b[49m\u001b[43mMODEL_PATH_KEY\u001b[49m\u001b[43m]\u001b[49m\u001b[38;5;241;43m.\u001b[39;49m\u001b[43mas_posix\u001b[49m()\n\u001b[0;32m     22\u001b[0m             )\n\u001b[0;32m     23\u001b[0m best_model_path\n",
      "\u001b[1;31mAttributeError\u001b[0m: 'str' object has no attribute 'as_posix'"
     ]
    }
   ],
   "source": [
    "\n",
    "from fraudDetection.constants import (\n",
    "    BEST_MODEL_KEY,\n",
    "    HISTORY_KEY,\n",
    "    MODEL_PATH_KEY,\n",
    "    DATA_SCHEMA_TARGET_COLUMN_KEY,\n",
    "    DATA_SCHEMA_COLUMNS_KEY,\n",
    "    ROOT_DIR,\n",
    ")\n",
    "from fraudDetection.utils import load_object, read_yaml\n",
    "from pathlib import Path\n",
    "\n",
    "model_evaluation_file_path = Path( r\"C:\\Users\\arunk\\FraudDetection\\artifacts\\model_evaluation\\model_evaluation.yaml\")\n",
    "\n",
    "model_eval_file_content = read_yaml(\n",
    "                    file_path=model_evaluation_file_path\n",
    "                )\n",
    "model_eval_file_content = (\n",
    "                dict() if model_eval_file_content is None else model_eval_file_content\n",
    "            )\n",
    "best_model_path = ROOT_DIR.joinpath(\n",
    "                Path(model_eval_file_content[BEST_MODEL_KEY][MODEL_PATH_KEY])\n",
    "            )\n",
    "best_model_path"
   ]
  },
  {
   "cell_type": "code",
   "execution_count": null,
   "metadata": {},
   "outputs": [],
   "source": []
  }
 ],
 "metadata": {
  "kernelspec": {
   "display_name": "FraudDetection",
   "language": "python",
   "name": "python3"
  },
  "language_info": {
   "codemirror_mode": {
    "name": "ipython",
    "version": 3
   },
   "file_extension": ".py",
   "mimetype": "text/x-python",
   "name": "python",
   "nbconvert_exporter": "python",
   "pygments_lexer": "ipython3",
   "version": "3.10.0"
  }
 },
 "nbformat": 4,
 "nbformat_minor": 2
}
